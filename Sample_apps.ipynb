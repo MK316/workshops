{
  "nbformat": 4,
  "nbformat_minor": 0,
  "metadata": {
    "colab": {
      "private_outputs": true,
      "provenance": [],
      "authorship_tag": "ABX9TyPD8rxkiDVGo8mMn+dO8Acm",
      "include_colab_link": true
    },
    "kernelspec": {
      "name": "python3",
      "display_name": "Python 3"
    },
    "language_info": {
      "name": "python"
    }
  },
  "cells": [
    {
      "cell_type": "markdown",
      "metadata": {
        "id": "view-in-github",
        "colab_type": "text"
      },
      "source": [
        "<a href=\"https://colab.research.google.com/github/MK316/workshops/blob/main/Sample_apps.ipynb\" target=\"_parent\"><img src=\"https://colab.research.google.com/assets/colab-badge.svg\" alt=\"Open In Colab\"/></a>"
      ]
    },
    {
      "cell_type": "markdown",
      "source": [
        "# Vocabulary practice"
      ],
      "metadata": {
        "id": "FTCvdyvgLphU"
      }
    },
    {
      "cell_type": "markdown",
      "source": [
        "**Introduction to GPT, API, and Query**\n",
        "\n",
        "* In the realm of artificial intelligence, GPT, or Generative Pre-trained Transformer, stands out as a revolutionary technology. Developed by OpenAI, GPT is designed to understand and generate human-like text based on the input it receives, making it a powerful tool for natural language processing tasks such as text completion, translation, and summarization.\n",
        "\n",
        "* To interact with GPT, developers utilize an API (Application Programming Interface). An API acts as a mediator, allowing different software entities to communicate with each other. In the context of GPT, the API enables developers to send requests to the GPT model and receive responses, allowing the integration of GPT’s capabilities into various applications, websites, and systems.\n",
        "\n",
        "* A query in this context refers to a specific request made to the GPT model via the API. It usually contains the input text that we want the model to process and may include additional parameters to customize the response. The model processes the query and returns a generated response, providing insights, information, or text completions based on the input provided.\n",
        "\n",
        "Together, GPT, API, and queries form a cohesive ecosystem, enabling the development of intelligent applications capable of understanding and generating text, thereby pushing the boundaries of what is possible in natural language processing and artificial intelligence."
      ],
      "metadata": {
        "id": "RjIeZi_yOcr_"
      }
    },
    {
      "cell_type": "code",
      "source": [
        "# Define a dictionary with words from the passage and their meanings\n",
        "word_meanings = {\n",
        "    \"gpt\": \"Generative Pre-trained Transformer, a technology developed by OpenAI designed to understand and generate human-like text.\",\n",
        "    \"api\": \"Application Programming Interface, a mediator allowing different software entities to communicate with each other.\",\n",
        "    \"query\": \"A specific request made to the GPT model via the API, containing the input text that we want the model to process.\",\n",
        "    \"transformer\": \"A type of model architecture used in natural language processing tasks.\",\n",
        "    \"openai\": \"An organization dedicated to advancing digital intelligence.\",\n",
        "    \"natural language processing\": \"A field of artificial intelligence that focuses on the interaction between computers and humans through natural language.\",\n",
        "    \"text\": \"A sequence of characters representing words or sentences.\",\n",
        "    \"application\": \"A computer program designed to perform specific tasks.\",\n",
        "    \"software\": \"A set of instructions that tell a computer how to perform specific tasks.\",\n",
        "    \"model\": \"A representation of a system, often used in machine learning to make predictions or decisions without being explicitly programmed to perform the task.\",\n",
        "    \"parameter\": \"A variable used in a method to refer to the data provided as input.\",\n",
        "    \"response\": \"The output or result returned by a system, model, or function.\",\n",
        "    \"intelligence\": \"The ability to acquire and apply knowledge and skills.\",\n",
        "    \"ecosystem\": \"A community of interacting organisms and their physical environment.\",\n",
        "}\n",
        "\n",
        "# Receive a word from the user\n",
        "user_word = input(\"Enter a word to get its meaning: \").lower()\n",
        "\n",
        "# Provide the meaning of the word if it is found in the dictionary\n",
        "if user_word in word_meanings:\n",
        "    print(f\"The meaning of {user_word} is: {word_meanings[user_word]}\")\n",
        "else:\n",
        "    print(f\"Sorry, the word {user_word} is not found in the passage.\")\n"
      ],
      "metadata": {
        "id": "IIiputXLO7PE"
      },
      "execution_count": null,
      "outputs": []
    },
    {
      "cell_type": "markdown",
      "source": [
        "# Pre-defined word-meaning pair"
      ],
      "metadata": {
        "id": "IuUN9qHiPk7l"
      }
    },
    {
      "cell_type": "code",
      "execution_count": null,
      "metadata": {
        "id": "SRBVKsygFRy4"
      },
      "outputs": [],
      "source": [
        "# Vocabulary Builder App Simulation\n",
        "vocabulary = {\n",
        "    \"Eloquent\": {\n",
        "        \"meaning\": \"Fluent or persuasive in speaking or writing.\",\n",
        "        \"examples\": [\"She gave an ___ speech.\", \"The president was ___ in his address.\"],\n",
        "    },\n",
        "    \"Ponder\": {\n",
        "        \"meaning\": \"Think about something carefully before making a decision.\",\n",
        "        \"examples\": [\"He sat down to ___ his options.\", \"She ___ed over the proposal for a while.\"],\n",
        "    },\n",
        "}\n",
        "\n",
        "def quiz_user():\n",
        "    for word, details in vocabulary.items():\n",
        "        print(f\"Meaning: {details['meaning']}\")\n",
        "        hint_index = 0\n",
        "        hints = [\n",
        "            f\"This word starts with {word[0].lower()}.\",  # Case-insensitive hint\n",
        "            f\"This word has {len(word)} letters.\",\n",
        "            f\"You can make a sentence with this word as follows: {details['examples'][0].replace(word, '___').replace(word.lower(), '___')}\",  # Case-insensitive example\n",
        "            f\"Here's another example sentence: {details['examples'][1].replace(word, '___').replace(word.lower(), '___')}\"  # Case-insensitive example\n",
        "        ]\n",
        "        while True:\n",
        "            user_choice = input(\"> Choose an option: 'type the word', 'give me a hint', or 'quit': \").lower()\n",
        "            if user_choice == 'quit':\n",
        "                print(\"Exiting the quiz.\")\n",
        "                return\n",
        "            elif user_choice == 'type the word':\n",
        "                user_input = input(\"Type the word or 'quit' to exit: \")\n",
        "                if user_input.lower() == 'quit':\n",
        "                    print(\"Exiting the quiz.\")\n",
        "                    return\n",
        "                elif user_input.lower() == word.lower():  # Case-insensitive comparison\n",
        "                    print(\"Correct!\\n\")\n",
        "                    break\n",
        "                else:\n",
        "                    print(\"Check your spelling.\\n\")\n",
        "                    continue\n",
        "            elif user_choice == 'give me a hint':\n",
        "                if hint_index < len(hints):\n",
        "                    print(\"Hint: \" + hints[hint_index])\n",
        "                    hint_index += 1\n",
        "                else:\n",
        "                    print(\"No more hints available. Please type the word or 'quit' to exit.\")\n",
        "            else:\n",
        "                print(\"Invalid option. Please choose 'type the word', 'give me a hint', or 'quit'.\")\n",
        "\n",
        "# Start the quiz\n",
        "quiz_user()\n"
      ]
    },
    {
      "cell_type": "markdown",
      "source": [
        "Using GPT"
      ],
      "metadata": {
        "id": "gZLGyI0nPqdL"
      }
    },
    {
      "cell_type": "markdown",
      "source": [],
      "metadata": {
        "id": "yzQBtnouPwku"
      }
    },
    {
      "cell_type": "code",
      "source": [
        "!pip install openai"
      ],
      "metadata": {
        "id": "S7u888tLPzIz"
      },
      "execution_count": null,
      "outputs": []
    },
    {
      "cell_type": "code",
      "source": [
        "import openai  # You need to install this library: pip install openai\n",
        "\n",
        "# Set up OpenAI API Key\n",
        "openai.api_key = 'YOUR_API_KEY'  # Replace with your actual API Key"
      ],
      "metadata": {
        "id": "r4uTX5bjP1GV"
      },
      "execution_count": null,
      "outputs": []
    },
    {
      "cell_type": "code",
      "source": [
        "def get_word_meaning(word):\n",
        "    try:\n",
        "        # Query GPT-3 API to get the definition of the word\n",
        "        response = openai.Completion.create(\n",
        "            engine=\"text-davinci-003\",  # Use an appropriate engine\n",
        "            prompt=f\"Define {word}\",\n",
        "            temperature=0,\n",
        "            max_tokens=100\n",
        "        )\n",
        "\n",
        "        # Extract and return the definition from the API response\n",
        "        return response.choices[0].text.strip()\n",
        "    except Exception as e:\n",
        "        return str(e)\n",
        "\n",
        "# Receive a word from the user\n",
        "user_word = input(\"Enter a word to get its meaning: \")\n",
        "\n",
        "# Get and print the meaning of the word\n",
        "print(get_word_meaning(user_word))\n"
      ],
      "metadata": {
        "id": "nN_6fWMvFVNg"
      },
      "execution_count": null,
      "outputs": []
    }
  ]
}