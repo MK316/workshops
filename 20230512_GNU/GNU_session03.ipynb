{
  "nbformat": 4,
  "nbformat_minor": 0,
  "metadata": {
    "colab": {
      "provenance": [],
      "authorship_tag": "ABX9TyP1POr86bBKJUo67/xVP3HY",
      "include_colab_link": true
    },
    "kernelspec": {
      "name": "python3",
      "display_name": "Python 3"
    },
    "language_info": {
      "name": "python"
    }
  },
  "cells": [
    {
      "cell_type": "markdown",
      "metadata": {
        "id": "view-in-github",
        "colab_type": "text"
      },
      "source": [
        "<a href=\"https://colab.research.google.com/github/MK316/workshops/blob/main/20230512_GNU/GNU_session03.ipynb\" target=\"_parent\"><img src=\"https://colab.research.google.com/assets/colab-badge.svg\" alt=\"Open In Colab\"/></a>"
      ]
    },
    {
      "cell_type": "markdown",
      "source": [
        "---\n",
        "# 🎓 **Session 3: Digital Transformation in class**\n",
        "\n",
        "##**\\<Table of Contents>**\n",
        "\n",
        "||Keyword||Ref. Link|\n",
        "|--|:--|--|--|\n",
        "|00|**Overview**||\n",
        "|01|**Digital Literacy**|Who's responsible ?||\n",
        "|02|**Coding, APIs & AI tools** | How to teach?||\n",
        "|03|**Multimodality** of information| What benefits?||\n",
        "|04|**Anecdotes**|Where & When?||\n",
        "\n",
        "---"
      ],
      "metadata": {
        "id": "WDpen16CxTqw"
      }
    },
    {
      "cell_type": "code",
      "source": [
        "#@markdown 🌱 Set-up\n",
        "\n",
        "from IPython.display import YouTubeVideo, Image, Audio, display"
      ],
      "metadata": {
        "cellView": "form",
        "id": "Kkr1vwGG1uC1"
      },
      "execution_count": 8,
      "outputs": []
    },
    {
      "cell_type": "code",
      "source": [
        "urls = \"2\" #@param = [1,2,3,4,5]\n",
        "url = int(urls)-1\n",
        "url_list = [\"s3I8_XVYjB8\",\n",
        "             \"EREpwtVwueQ\",\n",
        "             \"\",\n",
        "             \"\",\n",
        "             \"\",\n",
        "             \"\"\n",
        "             ]\n",
        "\n",
        "\n",
        "video = YouTubeVideo(url_list[url], width=800, height=450)\n",
        "display(video)"
      ],
      "metadata": {
        "cellView": "form",
        "id": "oGe2Ba9fX13u",
        "outputId": "6f040829-5c5f-43eb-bc62-d20634fca4f9",
        "colab": {
          "base_uri": "https://localhost:8080/",
          "height": 471
        }
      },
      "execution_count": 11,
      "outputs": [
        {
          "output_type": "display_data",
          "data": {
            "text/plain": [
              "<IPython.lib.display.YouTubeVideo at 0x7f17cc9f2d30>"
            ],
            "text/html": [
              "\n",
              "        <iframe\n",
              "            width=\"800\"\n",
              "            height=\"450\"\n",
              "            src=\"https://www.youtube.com/embed/EREpwtVwueQ\"\n",
              "            frameborder=\"0\"\n",
              "            allowfullscreen\n",
              "            \n",
              "        ></iframe>\n",
              "        "
            ],
            "image/jpeg": "[encoded data removed]"
          },
          "metadata": {}
        }
      ]
    },
    {
      "cell_type": "markdown",
      "source": [
        "# **Overview**\n",
        "\n",
        "Pedagogical perspective?  \n",
        "contents in Need (Learner centered)  \n",
        "when digital tools can help save time and effort."
      ],
      "metadata": {
        "id": "3EG5ANyByV7f"
      }
    },
    {
      "cell_type": "code",
      "execution_count": null,
      "metadata": {
        "cellView": "form",
        "id": "5Ddrp_SbxQWM"
      },
      "outputs": [],
      "source": [
        "#@markdown Slides:\n",
        "Slide_number = \"0\" #@param = [0,1,2,3,4,5]\n",
        "n = int(Slide_number)\n",
        "\n",
        "# Import libraries\n",
        "from IPython.display import Image\n",
        "imglist = [\"https://github.com/MK316/workshops/raw/main/20230512_GNU/images/image01.jpeg\"]\n",
        "url = imglist[n]\n",
        "Image(url, width = 800, height = 600)"
      ]
    },
    {
      "cell_type": "markdown",
      "source": [
        "# **[1] Digital Literacy in Higher Education**\n",
        "\n",
        "- **The role or importance of digital literacy** within the context of higher education institutions and **learning experiences.**\n",
        "- By integrating digital tools and resources into the classroom, **educators can create more dynamic, personalized, and engaging learning experiences** that cater to the diverse needs of today's students."
      ],
      "metadata": {
        "id": "hvC22I9rybDm"
      }
    },
    {
      "cell_type": "code",
      "source": [],
      "metadata": {
        "id": "NHcvWlLnyiGB"
      },
      "execution_count": null,
      "outputs": []
    },
    {
      "cell_type": "markdown",
      "source": [
        "# **[2] Useful APIs for learng/teaching**"
      ],
      "metadata": {
        "id": "w26bY5CqyiaT"
      }
    },
    {
      "cell_type": "code",
      "source": [],
      "metadata": {
        "id": "Oy5F-4Eeyl08"
      },
      "execution_count": null,
      "outputs": []
    },
    {
      "cell_type": "markdown",
      "source": [
        "# [3] **AI tools**"
      ],
      "metadata": {
        "id": "zAvkxQtsymEw"
      }
    },
    {
      "cell_type": "code",
      "source": [],
      "metadata": {
        "id": "S-rmSo10yrGM"
      },
      "execution_count": null,
      "outputs": []
    }
  ]
}