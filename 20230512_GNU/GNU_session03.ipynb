{
  "nbformat": 4,
  "nbformat_minor": 0,
  "metadata": {
    "colab": {
      "provenance": [],
      "authorship_tag": "ABX9TyNrocY6b0Ilund8pTS46v1o",
      "include_colab_link": true
    },
    "kernelspec": {
      "name": "python3",
      "display_name": "Python 3"
    },
    "language_info": {
      "name": "python"
    }
  },
  "cells": [
    {
      "cell_type": "markdown",
      "metadata": {
        "id": "view-in-github",
        "colab_type": "text"
      },
      "source": [
        "<a href=\"https://colab.research.google.com/github/MK316/workshops/blob/main/20230512_GNU/GNU_session03.ipynb\" target=\"_parent\"><img src=\"https://colab.research.google.com/assets/colab-badge.svg\" alt=\"Open In Colab\"/></a>"
      ]
    },
    {
      "cell_type": "markdown",
      "source": [
        "---\n",
        "# 🎓**Session 3: Digital Transformation in class**\n",
        "\n",
        "**\\<Table of Contents>**\n",
        "\n",
        "||Keyword|Description|Ref. Link|\n",
        "|--|--|--|--|\n",
        "|01|**Digital Literacy**|||\n",
        "|02|**APIs** (Application Programming Interfaces)|||\n",
        "|03|**AI tools**|||\n",
        "\n",
        "---"
      ],
      "metadata": {
        "id": "WDpen16CxTqw"
      }
    },
    {
      "cell_type": "code",
      "source": [
        "#@markdown 🌱 Setting-ups"
      ],
      "metadata": {
        "cellView": "form",
        "id": "Kkr1vwGG1uC1"
      },
      "execution_count": null,
      "outputs": []
    },
    {
      "cell_type": "markdown",
      "source": [
        "# **Overview**"
      ],
      "metadata": {
        "id": "3EG5ANyByV7f"
      }
    },
    {
      "cell_type": "code",
      "execution_count": null,
      "metadata": {
        "id": "5Ddrp_SbxQWM"
      },
      "outputs": [],
      "source": []
    },
    {
      "cell_type": "markdown",
      "source": [
        "# **[1] Digital Literacy for our classroom**"
      ],
      "metadata": {
        "id": "hvC22I9rybDm"
      }
    },
    {
      "cell_type": "code",
      "source": [],
      "metadata": {
        "id": "NHcvWlLnyiGB"
      },
      "execution_count": null,
      "outputs": []
    },
    {
      "cell_type": "markdown",
      "source": [
        "# **[2] Useful APIs for learng/teaching**"
      ],
      "metadata": {
        "id": "w26bY5CqyiaT"
      }
    },
    {
      "cell_type": "code",
      "source": [],
      "metadata": {
        "id": "Oy5F-4Eeyl08"
      },
      "execution_count": null,
      "outputs": []
    },
    {
      "cell_type": "markdown",
      "source": [
        "# [3] **AI tools**"
      ],
      "metadata": {
        "id": "zAvkxQtsymEw"
      }
    },
    {
      "cell_type": "code",
      "source": [],
      "metadata": {
        "id": "S-rmSo10yrGM"
      },
      "execution_count": null,
      "outputs": []
    }
  ]
}