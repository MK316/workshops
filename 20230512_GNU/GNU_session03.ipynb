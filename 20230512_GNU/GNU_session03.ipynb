{
  "nbformat": 4,
  "nbformat_minor": 0,
  "metadata": {
    "colab": {
      "provenance": [],
      "authorship_tag": "ABX9TyMe8qbTsFpAW9bIgqAOD5Cy",
      "include_colab_link": true
    },
    "kernelspec": {
      "name": "python3",
      "display_name": "Python 3"
    },
    "language_info": {
      "name": "python"
    },
    "widgets": {
      "application/vnd.jupyter.widget-state+json": {
        "5539be9bf0cd4cbebe51f54fbf417d49": {
          "model_module": "@jupyter-widgets/controls",
          "model_name": "VBoxModel",
          "model_module_version": "1.5.0",
          "state": {
            "_dom_classes": [],
            "_model_module": "@jupyter-widgets/controls",
            "_model_module_version": "1.5.0",
            "_model_name": "VBoxModel",
            "_view_count": null,
            "_view_module": "@jupyter-widgets/controls",
            "_view_module_version": "1.5.0",
            "_view_name": "VBoxView",
            "box_style": "",
            "children": [
              "IPY_MODEL_b4c94ac5d45246dc99846b9d10366951",
              "IPY_MODEL_8ab9496e075445e7a4f4dbd02b63df11",
              "IPY_MODEL_2846bd9e4571400f9416afd0e94b38aa",
              "IPY_MODEL_5d321c9e03d0473fba45fe2dc17c83f2"
            ],
            "layout": "IPY_MODEL_9ddb332bc93b487e8c92ab3f5216a1a9"
          }
        },
        "b4c94ac5d45246dc99846b9d10366951": {
          "model_module": "@jupyter-widgets/controls",
          "model_name": "TextModel",
          "model_module_version": "1.5.0",
          "state": {
            "_dom_classes": [],
            "_model_module": "@jupyter-widgets/controls",
            "_model_module_version": "1.5.0",
            "_model_name": "TextModel",
            "_view_count": null,
            "_view_module": "@jupyter-widgets/controls",
            "_view_module_version": "1.5.0",
            "_view_name": "TextView",
            "continuous_update": true,
            "description": "Text:",
            "description_tooltip": null,
            "disabled": false,
            "layout": "IPY_MODEL_96f56102a88d46178714342519709462",
            "placeholder": "​",
            "style": "IPY_MODEL_5fe116e878fe44eebfad3339dad7d29d",
            "value": "欢迎来到2023年由庆尚国立大学人文学研究所主办的特邀讲座。"
          }
        },
        "8ab9496e075445e7a4f4dbd02b63df11": {
          "model_module": "@jupyter-widgets/controls",
          "model_name": "DropdownModel",
          "model_module_version": "1.5.0",
          "state": {
            "_dom_classes": [],
            "_model_module": "@jupyter-widgets/controls",
            "_model_module_version": "1.5.0",
            "_model_name": "DropdownModel",
            "_options_labels": [
              "English",
              "French",
              "German",
              "Italian",
              "Japanese",
              "Korean",
              "Spanish",
              "Russian",
              "Chinese"
            ],
            "_view_count": null,
            "_view_module": "@jupyter-widgets/controls",
            "_view_module_version": "1.5.0",
            "_view_name": "DropdownView",
            "description": "Language:",
            "description_tooltip": null,
            "disabled": false,
            "index": 8,
            "layout": "IPY_MODEL_518194c41f244bfbbbddfa8008041f53",
            "style": "IPY_MODEL_8050c5ff1fb5461593046df461c679fa"
          }
        },
        "2846bd9e4571400f9416afd0e94b38aa": {
          "model_module": "@jupyter-widgets/controls",
          "model_name": "CheckboxModel",
          "model_module_version": "1.5.0",
          "state": {
            "_dom_classes": [],
            "_model_module": "@jupyter-widgets/controls",
            "_model_module_version": "1.5.0",
            "_model_name": "CheckboxModel",
            "_view_count": null,
            "_view_module": "@jupyter-widgets/controls",
            "_view_module_version": "1.5.0",
            "_view_name": "CheckboxView",
            "description": "Slow",
            "description_tooltip": null,
            "disabled": false,
            "indent": true,
            "layout": "IPY_MODEL_66ae73e2e5674e90a3b0736b1a01833c",
            "style": "IPY_MODEL_2699bd159de8445f8a57539a27d445de",
            "value": false
          }
        },
        "5d321c9e03d0473fba45fe2dc17c83f2": {
          "model_module": "@jupyter-widgets/controls",
          "model_name": "ButtonModel",
          "model_module_version": "1.5.0",
          "state": {
            "_dom_classes": [],
            "_model_module": "@jupyter-widgets/controls",
            "_model_module_version": "1.5.0",
            "_model_name": "ButtonModel",
            "_view_count": null,
            "_view_module": "@jupyter-widgets/controls",
            "_view_module_version": "1.5.0",
            "_view_name": "ButtonView",
            "button_style": "",
            "description": "Speak",
            "disabled": false,
            "icon": "",
            "layout": "IPY_MODEL_8ef2aa19d43e4fdcabb628c767ef4103",
            "style": "IPY_MODEL_18cd41c27c8b4e9d96d7ffd3dcee2d7d",
            "tooltip": ""
          }
        },
        "9ddb332bc93b487e8c92ab3f5216a1a9": {
          "model_module": "@jupyter-widgets/base",
          "model_name": "LayoutModel",
          "model_module_version": "1.2.0",
          "state": {
            "_model_module": "@jupyter-widgets/base",
            "_model_module_version": "1.2.0",
            "_model_name": "LayoutModel",
            "_view_count": null,
            "_view_module": "@jupyter-widgets/base",
            "_view_module_version": "1.2.0",
            "_view_name": "LayoutView",
            "align_content": null,
            "align_items": null,
            "align_self": null,
            "border": null,
            "bottom": null,
            "display": null,
            "flex": null,
            "flex_flow": null,
            "grid_area": null,
            "grid_auto_columns": null,
            "grid_auto_flow": null,
            "grid_auto_rows": null,
            "grid_column": null,
            "grid_gap": null,
            "grid_row": null,
            "grid_template_areas": null,
            "grid_template_columns": null,
            "grid_template_rows": null,
            "height": null,
            "justify_content": null,
            "justify_items": null,
            "left": null,
            "margin": null,
            "max_height": null,
            "max_width": null,
            "min_height": null,
            "min_width": null,
            "object_fit": null,
            "object_position": null,
            "order": null,
            "overflow": null,
            "overflow_x": null,
            "overflow_y": null,
            "padding": null,
            "right": null,
            "top": null,
            "visibility": null,
            "width": null
          }
        },
        "96f56102a88d46178714342519709462": {
          "model_module": "@jupyter-widgets/base",
          "model_name": "LayoutModel",
          "model_module_version": "1.2.0",
          "state": {
            "_model_module": "@jupyter-widgets/base",
            "_model_module_version": "1.2.0",
            "_model_name": "LayoutModel",
            "_view_count": null,
            "_view_module": "@jupyter-widgets/base",
            "_view_module_version": "1.2.0",
            "_view_name": "LayoutView",
            "align_content": null,
            "align_items": null,
            "align_self": null,
            "border": null,
            "bottom": null,
            "display": null,
            "flex": null,
            "flex_flow": null,
            "grid_area": null,
            "grid_auto_columns": null,
            "grid_auto_flow": null,
            "grid_auto_rows": null,
            "grid_column": null,
            "grid_gap": null,
            "grid_row": null,
            "grid_template_areas": null,
            "grid_template_columns": null,
            "grid_template_rows": null,
            "height": null,
            "justify_content": null,
            "justify_items": null,
            "left": null,
            "margin": null,
            "max_height": null,
            "max_width": null,
            "min_height": null,
            "min_width": null,
            "object_fit": null,
            "object_position": null,
            "order": null,
            "overflow": null,
            "overflow_x": null,
            "overflow_y": null,
            "padding": null,
            "right": null,
            "top": null,
            "visibility": null,
            "width": null
          }
        },
        "5fe116e878fe44eebfad3339dad7d29d": {
          "model_module": "@jupyter-widgets/controls",
          "model_name": "DescriptionStyleModel",
          "model_module_version": "1.5.0",
          "state": {
            "_model_module": "@jupyter-widgets/controls",
            "_model_module_version": "1.5.0",
            "_model_name": "DescriptionStyleModel",
            "_view_count": null,
            "_view_module": "@jupyter-widgets/base",
            "_view_module_version": "1.2.0",
            "_view_name": "StyleView",
            "description_width": ""
          }
        },
        "518194c41f244bfbbbddfa8008041f53": {
          "model_module": "@jupyter-widgets/base",
          "model_name": "LayoutModel",
          "model_module_version": "1.2.0",
          "state": {
            "_model_module": "@jupyter-widgets/base",
            "_model_module_version": "1.2.0",
            "_model_name": "LayoutModel",
            "_view_count": null,
            "_view_module": "@jupyter-widgets/base",
            "_view_module_version": "1.2.0",
            "_view_name": "LayoutView",
            "align_content": null,
            "align_items": null,
            "align_self": null,
            "border": null,
            "bottom": null,
            "display": null,
            "flex": null,
            "flex_flow": null,
            "grid_area": null,
            "grid_auto_columns": null,
            "grid_auto_flow": null,
            "grid_auto_rows": null,
            "grid_column": null,
            "grid_gap": null,
            "grid_row": null,
            "grid_template_areas": null,
            "grid_template_columns": null,
            "grid_template_rows": null,
            "height": null,
            "justify_content": null,
            "justify_items": null,
            "left": null,
            "margin": null,
            "max_height": null,
            "max_width": null,
            "min_height": null,
            "min_width": null,
            "object_fit": null,
            "object_position": null,
            "order": null,
            "overflow": null,
            "overflow_x": null,
            "overflow_y": null,
            "padding": null,
            "right": null,
            "top": null,
            "visibility": null,
            "width": null
          }
        },
        "8050c5ff1fb5461593046df461c679fa": {
          "model_module": "@jupyter-widgets/controls",
          "model_name": "DescriptionStyleModel",
          "model_module_version": "1.5.0",
          "state": {
            "_model_module": "@jupyter-widgets/controls",
            "_model_module_version": "1.5.0",
            "_model_name": "DescriptionStyleModel",
            "_view_count": null,
            "_view_module": "@jupyter-widgets/base",
            "_view_module_version": "1.2.0",
            "_view_name": "StyleView",
            "description_width": ""
          }
        },
        "66ae73e2e5674e90a3b0736b1a01833c": {
          "model_module": "@jupyter-widgets/base",
          "model_name": "LayoutModel",
          "model_module_version": "1.2.0",
          "state": {
            "_model_module": "@jupyter-widgets/base",
            "_model_module_version": "1.2.0",
            "_model_name": "LayoutModel",
            "_view_count": null,
            "_view_module": "@jupyter-widgets/base",
            "_view_module_version": "1.2.0",
            "_view_name": "LayoutView",
            "align_content": null,
            "align_items": null,
            "align_self": null,
            "border": null,
            "bottom": null,
            "display": null,
            "flex": null,
            "flex_flow": null,
            "grid_area": null,
            "grid_auto_columns": null,
            "grid_auto_flow": null,
            "grid_auto_rows": null,
            "grid_column": null,
            "grid_gap": null,
            "grid_row": null,
            "grid_template_areas": null,
            "grid_template_columns": null,
            "grid_template_rows": null,
            "height": null,
            "justify_content": null,
            "justify_items": null,
            "left": null,
            "margin": null,
            "max_height": null,
            "max_width": null,
            "min_height": null,
            "min_width": null,
            "object_fit": null,
            "object_position": null,
            "order": null,
            "overflow": null,
            "overflow_x": null,
            "overflow_y": null,
            "padding": null,
            "right": null,
            "top": null,
            "visibility": null,
            "width": null
          }
        },
        "2699bd159de8445f8a57539a27d445de": {
          "model_module": "@jupyter-widgets/controls",
          "model_name": "DescriptionStyleModel",
          "model_module_version": "1.5.0",
          "state": {
            "_model_module": "@jupyter-widgets/controls",
            "_model_module_version": "1.5.0",
            "_model_name": "DescriptionStyleModel",
            "_view_count": null,
            "_view_module": "@jupyter-widgets/base",
            "_view_module_version": "1.2.0",
            "_view_name": "StyleView",
            "description_width": ""
          }
        },
        "8ef2aa19d43e4fdcabb628c767ef4103": {
          "model_module": "@jupyter-widgets/base",
          "model_name": "LayoutModel",
          "model_module_version": "1.2.0",
          "state": {
            "_model_module": "@jupyter-widgets/base",
            "_model_module_version": "1.2.0",
            "_model_name": "LayoutModel",
            "_view_count": null,
            "_view_module": "@jupyter-widgets/base",
            "_view_module_version": "1.2.0",
            "_view_name": "LayoutView",
            "align_content": null,
            "align_items": null,
            "align_self": null,
            "border": null,
            "bottom": null,
            "display": null,
            "flex": null,
            "flex_flow": null,
            "grid_area": null,
            "grid_auto_columns": null,
            "grid_auto_flow": null,
            "grid_auto_rows": null,
            "grid_column": null,
            "grid_gap": null,
            "grid_row": null,
            "grid_template_areas": null,
            "grid_template_columns": null,
            "grid_template_rows": null,
            "height": null,
            "justify_content": null,
            "justify_items": null,
            "left": null,
            "margin": null,
            "max_height": null,
            "max_width": null,
            "min_height": null,
            "min_width": null,
            "object_fit": null,
            "object_position": null,
            "order": null,
            "overflow": null,
            "overflow_x": null,
            "overflow_y": null,
            "padding": null,
            "right": null,
            "top": null,
            "visibility": null,
            "width": null
          }
        },
        "18cd41c27c8b4e9d96d7ffd3dcee2d7d": {
          "model_module": "@jupyter-widgets/controls",
          "model_name": "ButtonStyleModel",
          "model_module_version": "1.5.0",
          "state": {
            "_model_module": "@jupyter-widgets/controls",
            "_model_module_version": "1.5.0",
            "_model_name": "ButtonStyleModel",
            "_view_count": null,
            "_view_module": "@jupyter-widgets/base",
            "_view_module_version": "1.2.0",
            "_view_name": "StyleView",
            "button_color": null,
            "font_weight": ""
          }
        }
      }
    }
  },
  "cells": [
    {
      "cell_type": "markdown",
      "metadata": {
        "id": "view-in-github",
        "colab_type": "text"
      },
      "source": [
        "<a href=\"https://colab.research.google.com/github/MK316/workshops/blob/main/20230512_GNU/GNU_session03.ipynb\" target=\"_parent\"><img src=\"https://colab.research.google.com/assets/colab-badge.svg\" alt=\"Open In Colab\"/></a>"
      ]
    },
    {
      "cell_type": "markdown",
      "source": [
        "---\n",
        "# 🌿 **특강 3: 강의실의 디지털식 전환 (Digital Transformation in class)**\n",
        "+ 발표: 김미란 (📨 mirankim@gnu.ac.kr; 🌱[Webpage](https://MK316.github.io))\n",
        "+ 경상국립대 사범대 영어교육과 \n",
        "\n",
        "\n",
        "---"
      ],
      "metadata": {
        "id": "WDpen16CxTqw"
      }
    },
    {
      "cell_type": "markdown",
      "source": [
        "\n",
        "||Keyword|Ref. Link|\n",
        "|--|:--|--|\n",
        "|[0]|**준비작업 & 들어가기에 앞서 생각해 볼 점 (Overview)**|| \n",
        "|[1]|**디지털 리터러시 키워드:** 참여하는 수업(Engaging students), 협업(promoting collboration), 맞춤형 학습(personalized learning)|🐾 [My classroom Spring 2023](https://github.com/MK316/Spring2023#readme)|\n",
        "|[2]|**Coding, APIs & AI tools** | |\n",
        "|[3]|**Challenges and opportunities**, 질의응답(Q & As)| |"
      ],
      "metadata": {
        "id": "ngJKk5glCisI"
      }
    },
    {
      "cell_type": "markdown",
      "source": [
        "###📌 준비작업: 필요한 Python라이브러리 설치 및 불러오기"
      ],
      "metadata": {
        "id": "-DjxeL5vLmks"
      }
    },
    {
      "cell_type": "code",
      "source": [
        "#@markdown 🌱 Set-up: install, import libraries to use {pyqrcode, gtts, IPython, pandas, numpy, nltk, random}\n",
        "%%capture\n",
        "!pip install pyqrcode\n",
        "!pip install gtts\n",
        "!pip install wordcloud\n",
        "!pip install gradio\n",
        "!wget https://github.com/google/fonts/raw/main/ofl/nanumgothic/NanumGothic-Regular.ttf -O NanumGothic.ttf\n",
        "# display, qr code\n",
        "from IPython.display import YouTubeVideo, Image, Audio, display\n",
        "!pip install gtts\n",
        "import pandas as pd\n",
        "import pyqrcode\n",
        "from pyqrcode import QRCode\n",
        "from gtts import gTTS\n",
        "from ipywidgets import widgets\n",
        "import os\n",
        "import numpy as np\n",
        "import random\n",
        "# wordcloud\n",
        "!pip install wordcloud nltk\n",
        "import nltk\n",
        "from nltk.corpus import stopwords\n",
        "\n",
        "nltk.download('stopwords')\n",
        "english_stopwords = set(stopwords.words('english'))\n",
        "\n",
        "import urllib.request"
      ],
      "metadata": {
        "cellView": "form",
        "id": "Kkr1vwGG1uC1"
      },
      "execution_count": 14,
      "outputs": []
    },
    {
      "cell_type": "markdown",
      "source": [
        "# **🌱 [0] Overview:**\n",
        "\n"
      ],
      "metadata": {
        "id": "3EG5ANyByV7f"
      }
    },
    {
      "cell_type": "markdown",
      "source": [
        "## 0. Digital Era & digital literacy"
      ],
      "metadata": {
        "id": "4N7efSfkvxHK"
      }
    },
    {
      "cell_type": "code",
      "source": [
        "#@markdown Slides (1~13)\n",
        "from IPython.display import display\n",
        "import ipywidgets as widgets\n",
        "import requests\n",
        "\n",
        "def on_button_click(button):\n",
        "    sn = int(button.description) - 1\n",
        "    image.value = requests.get(urls[sn]).content\n",
        "\n",
        "urls = [\"https://github.com/MK316/workshops/raw/main/20230512_GNU/images/0512cover.png\",\n",
        "        \"https://github.com/MK316/workshops/raw/main/20230512_GNU/images/handwriting.png\",\n",
        "        \"https://github.com/MK316/workshops/raw/main/20230512_GNU/images/Slides.002.jpeg\",\n",
        "        \"https://github.com/MK316/workshops/raw/main/20230512_GNU/images/Slides.003.jpeg\",\n",
        "        \"https://github.com/MK316/workshops/raw/main/20230512_GNU/images/Slides.004.jpeg\",\n",
        "        \"https://github.com/MK316/workshops/raw/main/20230512_GNU/images/Slides.005.jpeg\",\n",
        "        \"https://github.com/MK316/workshops/raw/main/20230512_GNU/images/Slides.006.jpeg\",\n",
        "        \"https://github.com/MK316/workshops/raw/main/20230512_GNU/images/Slides.007.jpeg\",\n",
        "        \"https://github.com/MK316/workshops/raw/main/20230512_GNU/images/Slides.008.jpeg\",\n",
        "        \"https://github.com/MK316/workshops/raw/main/20230512_GNU/images/Slides.009.jpeg\",\n",
        "        \"https://github.com/MK316/workshops/raw/main/20230512_GNU/images/Slides.010.jpeg\",\n",
        "        \"https://github.com/MK316/workshops/raw/main/20230512_GNU/images/Slides.011.jpeg\",\n",
        "        \"https://github.com/MK316/workshops/raw/main/20230512_GNU/images/Slides.012.jpeg\",\n",
        "        \"https://github.com/MK316/workshops/raw/main/20230512_GNU/images/Slides.013.jpeg\"\n",
        "]\n",
        "\n",
        "button_layout = widgets.Layout(width='50px', height='30px')\n",
        "\n",
        "buttons = [widgets.Button(description=str(i), layout=button_layout) for i in range(1, 15)]\n",
        "for button in buttons:\n",
        "    button.on_click(on_button_click)\n",
        "\n",
        "image = widgets.Image(value=requests.get(urls[0]).content, width=\"700\", height=\"600\")\n",
        "\n",
        "display(widgets.HBox([image, widgets.VBox(buttons)]))\n"
      ],
      "metadata": {
        "cellView": "form",
        "id": "SNvOeZkI0Ahz"
      },
      "execution_count": null,
      "outputs": []
    },
    {
      "cell_type": "markdown",
      "source": [
        "## 1. Survey"
      ],
      "metadata": {
        "id": "3pcbg8hp1-Eu"
      }
    },
    {
      "cell_type": "code",
      "source": [
        "#@markdown 📢 Instruction: (in Korean)\n",
        "def tts(text):\n",
        "  tts = gTTS(text, lang = \"ko\", slow = False)\n",
        "  tts.save(\"myaudio.mp3\")\n",
        "  return Audio(\"myaudio.mp3\")\n",
        "\n",
        "txt = \"\"\"\n",
        "안녕하세요 여러분! 시작에 앞서 아주 간단한 설문을 함께 해 보도록 하겠습니다. 설문은 간단한 4개의 문항이며 30초 정도 소요될 것입니다.\n",
        "지금 보고 계시는 콜랩 페이지를 열고 계시다면, 위의 설문 링크를 눌러 설문을 마쳐 주시기 바랍니다.\n",
        "그렇지 않다면 본인 스마트폰 카메라 앱을 열어 아래 큐알코드를 읽은 후, 설문 링크를 따라가서 설문을 마쳐 주시기 바랍니다. 결과는 한 2분 후쯤? 김미란 선생님이 설명해 주실 거예요.\n",
        "\"\"\"\n",
        "\n",
        "tts(txt)\n",
        "Audio(\"myaudio.mp3\", autoplay=True)"
      ],
      "metadata": {
        "cellView": "form",
        "id": "QMkr8nM67R4V",
        "outputId": "314e0426-32ec-4f76-fdd0-2e5aa212b2d7",
        "colab": {
          "base_uri": "https://localhost:8080/",
          "height": 75
        }
      },
      "execution_count": null,
      "outputs": [
        {
          "output_type": "execute_result",
          "data": {
            "text/plain": [
              "<IPython.lib.display.Audio object>"
            ],
            "text/html": [
              "\n",
              "                <audio  controls=\"controls\" autoplay=\"autoplay\">\n",
              "                    <source src=\"data:audio/mpeg;base64,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\" type=\"audio/mpeg\" />\n",
              "                    Your browser does not support the audio element.\n",
              "                </audio>\n",
              "              "
            ]
          },
          "metadata": {},
          "execution_count": 6
        }
      ]
    },
    {
      "cell_type": "code",
      "source": [
        "#@markdown QR for the [survey](https://forms.gle/7NYj7QEVwWCs4pbr5)#1\n",
        "#@markdown View [_results_](https://docs.google.com/forms/d/1oIS7ZcUr1-BGclHxl5At9IvjKK2P6IfDDrR8w9bxkpk/edit)\n",
        "s = \"https://forms.gle/7NYj7QEVwWCs4pbr5\"\n",
        "\n",
        "# Generate QR code\n",
        "url = pyqrcode.create(s)\n",
        "\n",
        "# Create and save the png file naming \"myqr.png\"\n",
        "url.svg(\"myqrcode.svg\", scale=12)\n",
        "\n",
        "from IPython.display import SVG, display\n",
        "def show_svg(file):\n",
        "    display(SVG(file))\n",
        "\n",
        "show_svg(\"myqrcode.svg\")"
      ],
      "metadata": {
        "cellView": "form",
        "id": "7lcWpw8R5i0a"
      },
      "execution_count": null,
      "outputs": []
    },
    {
      "cell_type": "markdown",
      "source": [
        "##2. What are human minds like?\n",
        "\n",
        "+ Gambler's Fallacy\n",
        "+ Anchoring Effect"
      ],
      "metadata": {
        "id": "jdhQyEx4zdjX"
      }
    },
    {
      "cell_type": "markdown",
      "source": [
        "### 😍 **A. Coin flip game (Gambler's Fallacy)**"
      ],
      "metadata": {
        "id": "N08AKHY6qCts"
      }
    },
    {
      "cell_type": "code",
      "source": [
        "#@markdown Run this code to play (text)\n",
        "import random\n",
        "\n",
        "def coin_flip():\n",
        "    return random.choice(['Heads', 'Tails'])\n",
        "\n",
        "def main():\n",
        "    total_trials = 0\n",
        "    correct_guesses = 0\n",
        "\n",
        "    while True:\n",
        "        flip_results = [coin_flip() for _ in range(5)]\n",
        "        print(\"First five flip results:\")\n",
        "        for i, result in enumerate(flip_results, start=1):\n",
        "            print(f\"{i} flip: {result}\")\n",
        "\n",
        "        user_guess = input(\"Guess the result of the sixth flip (Heads or Tails): \")\n",
        "        while user_guess.lower() not in ['heads', 'tails']:\n",
        "            print(\"Invalid input. Please enter 'Heads' or 'Tails'.\")\n",
        "            user_guess = input(\"Guess the result of the sixth flip (Heads or Tails): \")\n",
        "\n",
        "        sixth_flip = coin_flip()\n",
        "        print(f\"Sixth flip result: {sixth_flip}\")\n",
        "\n",
        "        if user_guess.lower() == sixth_flip.lower():\n",
        "            print(\"Congratulations! Your guess was correct.\")\n",
        "            correct_guesses += 1\n",
        "        else:\n",
        "            print(\"Sorry, your guess was incorrect.\")\n",
        "\n",
        "        total_trials += 1\n",
        "\n",
        "        play_again = input(\"Do you want to play again? (y/n): \")\n",
        "        if play_again.lower() != 'y':\n",
        "            break\n",
        "\n",
        "    print(f\"You've won {correct_guesses} out of {total_trials} trials: \", round(correct_guesses/total_trials,2))\n",
        "\n",
        "if __name__ == '__main__':\n",
        "    main()\n"
      ],
      "metadata": {
        "cellView": "form",
        "id": "p-t8eGYhqFiK"
      },
      "execution_count": null,
      "outputs": []
    },
    {
      "cell_type": "code",
      "source": [
        "#@markdown Run this code to play (button)\n",
        "import random\n",
        "import ipywidgets as widgets\n",
        "from IPython.display import display, clear_output\n",
        "\n",
        "def coin_flip():\n",
        "    return random.choice(['Heads', 'Tails'])\n",
        "\n",
        "def play_game(button):\n",
        "    global total_trials, correct_guesses\n",
        "\n",
        "    user_guess = button.description\n",
        "\n",
        "    sixth_flip = coin_flip()\n",
        "    print(f\"Sixth flip result: {sixth_flip}\")\n",
        "\n",
        "    if user_guess == sixth_flip:\n",
        "        print(\"Congratulations! Your guess was correct.\")\n",
        "        correct_guesses += 1\n",
        "    else:\n",
        "        print(\"Sorry, your guess was incorrect.\")\n",
        "\n",
        "    total_trials += 1\n",
        "    display_continue_button()\n",
        "\n",
        "def display_flip_results():\n",
        "    flip_results = [coin_flip() for _ in range(5)]\n",
        "    flip_result_text = \"First five flip results:\\n\" + \"\\n\".join([f\"{i + 1} flip: {result}\" for i, result in enumerate(flip_results)])\n",
        "    print(flip_result_text)\n",
        "\n",
        "def display_continue_button():\n",
        "    if total_trials > 0:\n",
        "        print(\"Do you want to continue?\")\n",
        "        display(continue_button, results_button)\n",
        "\n",
        "def continue_game(button):\n",
        "    clear_output(wait=True)\n",
        "    display_flip_results()\n",
        "    display(heads_button, tails_button)\n",
        "\n",
        "def show_results(button):\n",
        "    clear_output(wait=True)\n",
        "    winning_chance = correct_guesses / total_trials if total_trials > 0 else 0\n",
        "    print(f\"You've won {correct_guesses} times out of {total_trials} trials: your winning chance was {winning_chance:.2f}\")\n",
        "\n",
        "total_trials = 0\n",
        "correct_guesses = 0\n",
        "\n",
        "display_flip_results()\n",
        "\n",
        "heads_button = widgets.Button(description=\"Heads\")\n",
        "tails_button = widgets.Button(description=\"Tails\")\n",
        "continue_button = widgets.Button(description=\"Continue\")\n",
        "results_button = widgets.Button(description=\"No, show results\")\n",
        "\n",
        "heads_button.on_click(play_game)\n",
        "tails_button.on_click(play_game)\n",
        "continue_button.on_click(continue_game)\n",
        "results_button.on_click(show_results)\n",
        "\n",
        "display(heads_button, tails_button)\n"
      ],
      "metadata": {
        "cellView": "form",
        "id": "hwXoO9PfvX8A"
      },
      "execution_count": null,
      "outputs": []
    },
    {
      "cell_type": "markdown",
      "source": [
        "(optional) Live link using Gradio"
      ],
      "metadata": {
        "id": "ML4wM29AJz9y"
      }
    },
    {
      "cell_type": "code",
      "source": [
        "#@markdown Run this code to play (get a live link)\n",
        "import random\n",
        "import gradio as gr\n",
        "\n",
        "def coin_flip():\n",
        "    return random.choice(['Heads', 'Tails'])\n",
        "\n",
        "def display_flip_results():\n",
        "    flip_results = [coin_flip() for _ in range(5)]\n",
        "    flip_result_text = \"First five flip results:\\n\" + \"\\n\".join([f\"{i + 1} flip: {result}\" for i, result in enumerate(flip_results)])\n",
        "    return flip_result_text\n",
        "\n",
        "def play_game(user_guess):\n",
        "    flip_result_text = display_flip_results()\n",
        "\n",
        "    sixth_flip = coin_flip()\n",
        "    sixth_flip_result = f\"Sixth flip result: {sixth_flip}\"\n",
        "\n",
        "    if user_guess == sixth_flip:\n",
        "        result_text = \"Congratulations! Your guess was correct.\"\n",
        "    else:\n",
        "        result_text = \"Sorry, your guess was incorrect.\"\n",
        "\n",
        "    return flip_result_text, sixth_flip_result, result_text\n",
        "\n",
        "iface = gr.Interface(\n",
        "    fn=play_game,\n",
        "    inputs=gr.inputs.Radio(['Heads', 'Tails'], label=\"Guess the sixth flip result:\"),\n",
        "    outputs=[\n",
        "        gr.outputs.Textbox(label=\"First five flip results:\"),\n",
        "        gr.outputs.Textbox(label=\"Sixth flip result:\"),\n",
        "        gr.outputs.Textbox(label=\"Game result:\")\n",
        "    ],\n",
        "    title=\"Coin Flip Game\",\n",
        "    description=\"Guess the result of the sixth coin flip after seeing the first five flip results.\"\n",
        ")\n",
        "\n",
        "iface.launch(share=True)\n"
      ],
      "metadata": {
        "cellView": "form",
        "id": "YVJdk1Rlz8Wn"
      },
      "execution_count": null,
      "outputs": []
    },
    {
      "cell_type": "markdown",
      "source": [
        "### **B. Anchoring effect**"
      ],
      "metadata": {
        "id": "3yXNYW0h8SkM"
      }
    },
    {
      "cell_type": "code",
      "source": [
        "#@markdown Achoring effect and its influence on ads\n",
        "from IPython.display import HTML, Image\n",
        "\n",
        "images = \"4. Anchoring in my class\" #@param = [\"1. Cognitive Bias Codex\", \"2. Advertisement example 1\",\"3. Advertisement example 2\", \"4. Anchoring in my class\" ]\n",
        "sns = images.split(\".\")\n",
        "sn = sns[0]\n",
        "sn = int(sn)\n",
        "\n",
        "# Replace the URL with the actual URL of the SVG image you want to display\n",
        "\n",
        "if sn == 1:\n",
        "  image_url = 'https://upload.wikimedia.org/wikipedia/commons/6/65/Cognitive_bias_codex_en.svg'\n",
        "  print(\"The image source from Wikimedia Commons\")\n",
        "  print(\"Categorization by Buster Benson; Algorithmic design by John Manoogian (III)\")\n",
        "  # display(image)\n",
        "# Create an HTML object with an img tag referencing the SVG image URL\n",
        "  image = HTML(f'<img src=\"{image_url}\" width=\"600\" height=\"600\" />')\n",
        "\n",
        "elif sn == 2:\n",
        "  image_url = 'https://github.com/MK316/workshops/raw/main/20230512_GNU/images/anchoring01.png'\n",
        "  image = Image(image_url)\n",
        "elif sn == 3:\n",
        "  image_url = 'https://github.com/MK316/workshops/raw/main/20230512_GNU/images/anchoring02.png'  \n",
        "  image = Image(image_url)\n",
        "elif sn == 4:\n",
        "  image_url = \"https://github.com/MK316/workshops/raw/main/data/anchoring.png\"\n",
        "  image = Image(image_url)\n",
        "# Display the SVG image\n",
        "\n",
        "\n",
        "display(image)"
      ],
      "metadata": {
        "cellView": "form",
        "id": "TQC-ZF6i8WqY"
      },
      "execution_count": null,
      "outputs": []
    },
    {
      "cell_type": "code",
      "source": [
        "#@markdown Video (anchoring effect) from Youtube\n",
        "from IPython.display import YouTubeVideo\n",
        "\n",
        "vid = \"SZpJrDpCnEY\" \n",
        "video = YouTubeVideo(vid, width = 600, height = 400)\n",
        "display(video)"
      ],
      "metadata": {
        "cellView": "form",
        "id": "ZmacnkEcLwvd",
        "colab": {
          "base_uri": "https://localhost:8080/",
          "height": 421
        },
        "outputId": "4a9ed1ee-0165-44f4-bb2e-b7637638c217"
      },
      "execution_count": 23,
      "outputs": [
        {
          "output_type": "display_data",
          "data": {
            "text/plain": [
              "<IPython.lib.display.YouTubeVideo at 0x7fcf4dd32830>"
            ],
            "text/html": [
              "\n",
              "        <iframe\n",
              "            width=\"600\"\n",
              "            height=\"400\"\n",
              "            src=\"https://www.youtube.com/embed/SZpJrDpCnEY\"\n",
              "            frameborder=\"0\"\n",
              "            allowfullscreen\n",
              "            \n",
              "        ></iframe>\n",
              "        "
            ],
            "image/jpeg": "[encoded data removed]"
          },
          "metadata": {}
        }
      ]
    },
    {
      "cell_type": "markdown",
      "source": [
        "---\n",
        "#🌱 **[1] Key words in Digital Literacy Education**"
      ],
      "metadata": {
        "id": "C3exQllVqnLA"
      }
    },
    {
      "cell_type": "markdown",
      "source": [
        "- **The role or importance of digital literacy** within the context of higher education institutions and **learning experiences.**\n",
        "- By integrating digital tools and resources into the classroom, **educators can create more dynamic, personalized, and engaging learning experiences** that cater to the diverse needs of today's students."
      ],
      "metadata": {
        "id": "vgeH-LVT6vol"
      }
    },
    {
      "cell_type": "code",
      "source": [
        "#@markdown 🎬 [lecture trailer (2m)](https://youtu.be/HND7sHPJ_2Q) Prepared by Miran Kim (Powered by AI tools)\n",
        "from IPython.display import YouTubeVideo\n",
        "\n",
        "vid = \"HND7sHPJ_2Q\" \n",
        "video = YouTubeVideo(vid, width = 800, height = 600)\n",
        "display(video)"
      ],
      "metadata": {
        "cellView": "form",
        "id": "3YAlyYffPpSp"
      },
      "execution_count": null,
      "outputs": []
    },
    {
      "cell_type": "markdown",
      "source": [
        "---\n",
        "# 🌱 **[2] Coding, APIs and AI tools:** Text, Audio, Image, Video"
      ],
      "metadata": {
        "id": "eVcdAAGoqvhr"
      }
    },
    {
      "cell_type": "markdown",
      "source": [
        "## **A. My ChatGPT**"
      ],
      "metadata": {
        "id": "1ZuE5LWmeHrX"
      }
    },
    {
      "cell_type": "code",
      "source": [
        "#@markdown Install {openAI, Gradio}\n",
        "%%capture\n",
        "!pip install openai\n",
        "!pip install gradio"
      ],
      "metadata": {
        "cellView": "form",
        "id": "wowtj_mUeLfz"
      },
      "execution_count": 30,
      "outputs": []
    },
    {
      "cell_type": "code",
      "source": [
        "#@markdown My API key from Google Drive\n",
        "from google.colab import drive\n",
        "drive.mount('/content/drive')\n",
        "df = pd.read_csv(\"/content/drive/MyDrive/myapi.csv\")\n",
        "myapi = df['API'][0]\n",
        "drive.flush_and_unmount()\n",
        "\n",
        "\n",
        "#@markdown setting up openAI API key, define functions (openai_create(prompt), chatgpt_clone(input, history)), gradio setting\n",
        "import os\n",
        "import openai\n",
        "\n",
        "# API key as an environment variable\n",
        "# openai.api_key=os.getenv(\"OPENAI_API_KEY\")\n",
        "\n",
        "#API key as a string\n",
        "openai.api_key = myapi\n",
        "\n",
        "start_sequence = \"\\nAI_teacher:\"\n",
        "restart_sequence = \"\\nHuman_student: \"\n",
        "\n",
        "prompt=\"The following is a conversation with an AI language teacher. The teacher is helpful, creative, patient, clever, and very friendly.\\n\\nHuman: Hello, who are you?\\nAI: I am an AI created by OpenAI. How can I help you today?\",\n",
        "\n",
        "def openai_create(prompt):\n",
        "\n",
        "  response = openai.Completion.create(\n",
        "  model=\"text-davinci-003\",\n",
        "  prompt=prompt,\n",
        "  temperature=0.9,\n",
        "  max_tokens=150,\n",
        "  top_p=1,\n",
        "  frequency_penalty=0,\n",
        "  presence_penalty=0.6,\n",
        "  stop=[\" Human:\", \" AI:\"]\n",
        "  )\n",
        "\n",
        "  return response.choices[0].text\n",
        "\n",
        "def chatgpt_clone(input, history):\n",
        "  history = history or []\n",
        "  s = list(sum(history,()))\n",
        "  s.append(input)\n",
        "  inp = ' '.join(s)\n",
        "  output = openai_create(inp)\n",
        "  history.append((input, output))\n",
        "  return history, history\n"
      ],
      "metadata": {
        "cellView": "form",
        "colab": {
          "base_uri": "https://localhost:8080/",
          "height": 0
        },
        "id": "2o1_V-NDTCSB",
        "outputId": "e5ec6c81-7b07-4316-d084-e79dff8b1198"
      },
      "execution_count": 42,
      "outputs": [
        {
          "output_type": "stream",
          "name": "stdout",
          "text": [
            "Mounted at /content/drive\n"
          ]
        }
      ]
    },
    {
      "cell_type": "code",
      "source": [
        "#@markdown Implement Gradio application\n",
        "import gradio as gr\n",
        "\n",
        "block = gr.Blocks()\n",
        "\n",
        "with block:\n",
        "  gr.Markdown(\"\"\"Conversation with chatGPT: Try it yourself!\"\"\")\n",
        "  chatbot = gr.Chatbot()\n",
        "  message = gr.Textbox(placeholder=prompt)\n",
        "  state=gr.State()\n",
        "  submit=gr.Button(\"SEND\")\n",
        "  submit.click(chatgpt_clone, inputs=[message, state], outputs=[chatbot, state])\n",
        "\n",
        "block.launch(debug=True, share = True)"
      ],
      "metadata": {
        "cellView": "form",
        "id": "rkOQKUZpeTyZ"
      },
      "execution_count": null,
      "outputs": []
    },
    {
      "cell_type": "code",
      "source": [
        "#@markdown (Show sample image) Image capture sample of my chatbot\n",
        "url = \"https://github.com/MK316/workshops/raw/main/20230512_GNU/images/mychatbot.png\"\n",
        "image = Image(url)\n",
        "display(image)"
      ],
      "metadata": {
        "cellView": "form",
        "id": "CwOv1fp0cuUX"
      },
      "execution_count": null,
      "outputs": []
    },
    {
      "cell_type": "markdown",
      "source": [
        "## **B. Grouping with 30 students**"
      ],
      "metadata": {
        "id": "dshXm7J0REk3"
      }
    },
    {
      "cell_type": "code",
      "source": [
        "#@markdown Names (90) to dataframe: 0~89\n",
        "names = [\n",
        "    'Olivia', 'Emma', 'Ava', 'Sophia', 'Isabella', 'Charlotte', 'Amelia', 'Mia', 'Harper', 'Evelyn',\n",
        "    'Liam', 'Noah', 'Oliver', 'Elijah', 'William', 'James', 'Benjamin', 'Lucas', 'Henry', 'Alexander',\n",
        "    'Mason', 'Michael', 'Ethan', 'Daniel', 'Jacob', 'Logan', 'Jackson', 'Levi', 'Sebastian', 'Mateo',\n",
        "    'Emily', 'Elizabeth', 'Sofia', 'Avery', 'Ella', 'Scarlett', 'Grace', 'Chloe', 'Victoria', 'Luna',\n",
        "    'Aiden', 'Matthew', 'Samuel', 'David', 'Joseph', 'Carter', 'Owen', 'Wyatt', 'John', 'Jack',\n",
        "    'Isabelle', 'Layla', 'Nora', 'Zoe', 'Stella', 'Natalie', 'Violet', 'Claire', 'Bella', 'Aurora',\n",
        "    'Luke', 'Grayson', 'Jayden', 'Christopher', 'Joshua', 'Andrew', 'Theodore', 'Caleb', 'Ryan', 'Asher',\n",
        "    'Mila', 'Hazel', 'Audrey', 'Skylar', 'Ariana', 'Camila', 'Penelope', 'Aria', 'Lucy', 'Kennedy',\n",
        "    'Isaac', 'Gabriel', 'Anthony', 'Dylan', 'Leo', 'Lincoln', 'Hudson', 'Jaxon', 'Julian', 'Nathan'\n",
        "]\n",
        "\n",
        "df = pd.DataFrame()\n",
        "df[\"Names\"] = names\n",
        "attlist = df.Names.values.tolist()\n",
        "\n",
        "def grouping(l, n):\n",
        "    for i in range(0, len(l), n):\n",
        "        yield l[i:i + n]\n",
        "\n",
        "print(\"Number of enrolled students: %d\"%len(df['Names']))\n",
        "df.tail()"
      ],
      "metadata": {
        "cellView": "form",
        "id": "R-JCf54lRJK2"
      },
      "execution_count": null,
      "outputs": []
    },
    {
      "cell_type": "code",
      "source": [
        "#@markdown Random grouping\n",
        "list = __builtins__.list\n",
        "import pandas as pd\n",
        "import random\n",
        "\n",
        "def grouping(lst, group_size):\n",
        "    for i in range(0, len(lst), group_size):\n",
        "        yield lst[i:i + group_size]\n",
        "\n",
        "attlist = ['Olivia', 'Emma', 'Ava', 'Sophia', 'Isabella', 'Charlotte', 'Amelia', 'Mia', 'Harper', 'Evelyn', 'Liam', 'Noah', 'Oliver', 'Elijah', 'William', 'James', 'Benjamin', 'Lucas', 'Henry', 'Alexander', 'Mason', 'Michael', 'Ethan', 'Daniel', 'Jacob', 'Logan', 'Jackson', 'Levi', 'Sebastian', 'Mateo']\n",
        "\n",
        "random.shuffle(attlist)\n",
        "\n",
        "gsize = input(\"Size of each group: \")\n",
        "gs = int(gsize)\n",
        "\n",
        "mylist = list(grouping(attlist, gs))\n",
        "ngroups = len(mylist)\n",
        "\n",
        "print(mylist)\n",
        "print(\"=\" * 50)\n",
        "print(\"Number of groups: %d in total.\" % ngroups)\n",
        "\n",
        "gn = ngroups\n",
        "gname = []\n",
        "df1 = pd.DataFrame()\n",
        "for i in range(0, gn):\n",
        "    nam = \"G\" + str(i + 1)\n",
        "    gname.append(nam)\n",
        "\n",
        "df1['Group'] = gname\n",
        "df1['Members'] = mylist\n",
        "\n",
        "df1\n"
      ],
      "metadata": {
        "cellView": "form",
        "id": "KWfag7PvU5Lo"
      },
      "execution_count": null,
      "outputs": []
    },
    {
      "cell_type": "code",
      "source": [
        "\n",
        "#@markdown Save the list to my Google drive (and automatically unmount after saving): \n",
        "from google.colab import drive\n",
        "drive.mount('/content/drive')\n",
        "fn = input('file name: ')\n",
        "path = '/content/drive/My Drive/myclass/S2023/' + fn\n",
        "with open(path, 'w', encoding = 'utf-8-sig') as f:\n",
        "  df1.to_csv(f, index=False)\n",
        "\n",
        "print(\"=\"*50)\n",
        "print(\"Saved file: \")\n",
        "data = pd.read_csv(path)\n",
        "print(data)\n",
        "res = input(\"Unmount drive? (y or n)\")\n",
        "\n",
        "if res == \"y\":\n",
        "  drive.flush_and_unmount()\n",
        "else:\n",
        "  print(\"Okay, the drive is still on.\")"
      ],
      "metadata": {
        "cellView": "form",
        "id": "z9XY7oFcV12i"
      },
      "execution_count": null,
      "outputs": []
    },
    {
      "cell_type": "markdown",
      "source": [
        "## **C.Text-to-Text: Language learning/teaching tool**\n"
      ],
      "metadata": {
        "id": "TDqmr5WoX8by"
      }
    },
    {
      "cell_type": "code",
      "source": [
        "#@markdown Convert Statement to YES-NO question (Audio play) with some restrictions (only be verb)\n",
        "def etts(text):\n",
        "  text_to_say = text\n",
        "\n",
        "  gtts_object = gTTS(text = text_to_say,\n",
        "                     lang = \"en\",\n",
        "                    slow = False)\n",
        "  \n",
        "  gtts_object.save(\"E-audio.mp3\")\n",
        "  return Audio(\"E-audio.mp3\")\n",
        "\n",
        "def ktts(text):\n",
        "  text_to_say = text\n",
        "\n",
        "  gtts_object = gTTS(text = text_to_say,\n",
        "                     lang = \"ko\",\n",
        "                    slow = False)\n",
        "  \n",
        "  gtts_object.save(\"K-audio.mp3\")\n",
        "  return Audio(\"K-audio.mp3\")\n",
        "\n",
        "sentence = input(\"Type a sentence containing a be verb: e.g., Jessica is coming from Chicago.\")\n",
        "beverbs = [\"is\", \"was\", \"are\", \"were\"]\n",
        "pronouns = [\"I\",\"You\",\"He\",\"She\",\"They\",\"It\"]\n",
        "names = [\"Mary\", \"Jane\", \"Tom\",\"Thomas\",\"Jessica\", \"Bill\"]\n",
        "\n",
        "def check_word(list_A, list_B):\n",
        "    for a in list_A:\n",
        "        for b in list_B:\n",
        "            if b in a:\n",
        "                mword = a\n",
        "                return True, mword\n",
        "    return False, None\n",
        "\n",
        "\n",
        "cat1 = sentence.split()\n",
        "\n",
        "result = check_word(cat1,beverbs)\n",
        "\n",
        "if result[0] == True:\n",
        "  if cat1[0] in pronouns:\n",
        "      b = result[1]\n",
        "      be = \" \"+b+\" \"\n",
        "      ss = sentence.split(be)\n",
        "      subj = ss[0]\n",
        "      nsubj = subj[0].lower()+subj[1:]\n",
        "      pred = ss[1]\n",
        "      w1 = b[0].upper() + b[1:] # Capitalized be verb\n",
        "      newsent = w1 + \" \" + nsubj + \" \" + pred[:-1] + \"?\"\n",
        "      mytext = f\"You've typed this: {sentence}. Right?\" + \"Okay, I'll make your sentence to a yes-no question: \" + newsent\n",
        "      print(newsent)\n",
        "  elif cat1[0] not in pronouns and cat1[0] in names:\n",
        "        b = result[1]\n",
        "        be = \" \"+b+\" \"\n",
        "        ss = sentence.split(be)\n",
        "        subj = ss[0]\n",
        "        pred = ss[1]\n",
        "        w1 = b[0].upper() + b[1:] # Capitalized be verb\n",
        "        newsent = w1 + \" \" + subj + \" \" + pred[:-1] + \"?\"\n",
        "        mytext = \"I'll make it to a yes-no question: \" + newsent\n",
        "        print(newsent)\n",
        "  elif cat1[0] not in pronouns and cat1[0] not in names:\n",
        "        b = result[1]\n",
        "        be = \" \"+b+\" \"\n",
        "        ss = sentence.split(be)\n",
        "        subj = ss[0]\n",
        "        nsubj = subj[0].lower()+subj[1:]\n",
        "        pred = ss[1]\n",
        "        w1 = b[0].upper() + b[1:] # Capitalized be verb\n",
        "        newsent = w1 + \" \" + nsubj + \" \" + pred[:-1] + \"?\"\n",
        "        mytext = \"I'll make it to a yes-no question: \" + newsent\n",
        "        print(newsent)\n",
        "\n",
        "else:\n",
        "    mytext = \"The sentence you\\' provided does not contain a 'Be' verb. Try again.\"\n",
        "    print(\"Type a sentence that contains a be verb.\")\n",
        "\n",
        "etts(mytext)\n",
        "Audio(\"E-audio.mp3\",autoplay=True)"
      ],
      "metadata": {
        "cellView": "form",
        "id": "3sPqlP4zYAKf"
      },
      "execution_count": null,
      "outputs": []
    },
    {
      "cell_type": "markdown",
      "source": [
        "Chapter Overview using Wordcloud"
      ],
      "metadata": {
        "id": "rSWHofT2fYcI"
      }
    },
    {
      "cell_type": "code",
      "source": [
        "#@markdown Wordcloud\n",
        "\n",
        "chapters = \"3. The DNA Trail\" #@param = [\"1. Visual Village\", \"2. Living Light\", \"3. The DNA Trail\"]\n",
        "sn = int(chapters.split('.')[0])\n",
        "\n",
        "import os\n",
        "import nltk\n",
        "import matplotlib.pyplot as plt\n",
        "from wordcloud import WordCloud, STOPWORDS\n",
        "\n",
        "nltk.download(\"punkt\")\n",
        "\n",
        "urls = [\"https://raw.githubusercontent.com/MK316/Class_Spring2022/main/Ch01.Visual.Village.txt\",\n",
        "        \"https://raw.githubusercontent.com/MK316/Class_Spring2022/main/Ch02_Living_light.txt\",\n",
        "        \"https://raw.githubusercontent.com/MK316/Class_Spring2022/main/RE.ch05.txt\"]\n",
        "\n",
        "url = urls[sn-1]\n",
        "os.system(\"curl \" + url + \" > RE.ch05.txt\")\n",
        "\n",
        "with open(\"RE.ch05.txt\") as file:\n",
        "    text = file.read().replace(\"\\n\", \" \")\n",
        "\n",
        "wc = WordCloud().generate(text)\n",
        "\n",
        "plt.figure(figsize=(10, 5))\n",
        "plt.imshow(wc, interpolation='bilinear')\n",
        "plt.axis(\"off\")\n",
        "plt.show()\n"
      ],
      "metadata": {
        "cellView": "form",
        "id": "6fb94Po3d5qv"
      },
      "execution_count": null,
      "outputs": []
    },
    {
      "cell_type": "markdown",
      "source": [
        "[Origial article from The NY Times](https://www.nytimes.com/2022/09/02/technology/ai-artificial-intelligence-artists.html)\n",
        "\n",
        "[sample text](https://raw.githubusercontent.com/MK316/workshops/main/20230512_GNU/data/aiart.txt)"
      ],
      "metadata": {
        "id": "AFIrX_K-iRz4"
      }
    },
    {
      "cell_type": "code",
      "source": [
        "#@markdown Wordcloud with your own text: Paste your text\n",
        "user_text = input(\"Please paste your text here: \")\n",
        "import matplotlib.pyplot as plt\n",
        "from wordcloud import WordCloud\n",
        "\n",
        "wordcloud = WordCloud(\n",
        "    background_color='white',\n",
        "    width=800,\n",
        "    height=800,\n",
        "    max_words=100\n",
        ").generate(user_text)\n",
        "\n",
        "plt.figure(figsize=(8, 8))\n",
        "plt.imshow(wordcloud, interpolation='bilinear')\n",
        "plt.axis('off')\n",
        "plt.show()\n"
      ],
      "metadata": {
        "cellView": "form",
        "id": "EtlSnaUKiOUr"
      },
      "execution_count": null,
      "outputs": []
    },
    {
      "cell_type": "markdown",
      "source": [
        "## **D. Text-to-Speech API**\n",
        "\n",
        "+ TTS (**Text-to-Speech**)\n",
        "+ API (**Application Programming Interface**)"
      ],
      "metadata": {
        "id": "Eif-AS31uUpy"
      }
    },
    {
      "cell_type": "markdown",
      "source": [
        "|Languages | Sample text to paste|\n",
        "|--|--|\n",
        "|**Korean**| 2023년 경상국립대학교 인문학연구소 주최 초청강연에 오신것을 환영합니다. |\n",
        "| **English**| Welcome to the invited lecture hosted by the Humanities Research Institute at G-N-U in 2023. |\n",
        "| **German**| Herzlich willkommen zum eingeladenen Vortrag, der vom Institut für G-N-U im Jahr 2023 veranstaltet wird. |\n",
        "|**French** |Bienvenue à la conférence invitée organisée par l'Institut de recherche en humanités de l'Université nationale de Gyeongsang en 2023. |\n",
        "| **Spanish**| Bienvenido a la conferencia invitada organizada por el Instituto de Investigación de Humanidades de la Universidad Nacional de Gyeongsang en 2023. |\n",
        "|**Russian**| Добро пожаловать на приглашенную лекцию, организованную Институтом гуманитарных исследований национального университета Gyeongsang в 2023 году.|\n",
        "|**Chinese**|欢迎来到2023年由庆尚国立大学人文学研究所主办的特邀讲座。|"
      ],
      "metadata": {
        "id": "sssm7BA0Olea"
      }
    },
    {
      "cell_type": "code",
      "source": [
        "#@markdown gTTS (multi-language)\n",
        "from gtts import gTTS\n",
        "from IPython.display import Audio\n",
        "import ipywidgets as widgets\n",
        "\n",
        "def etts(mytext, lang='en', dialect=None, slow=False):\n",
        "    if slow:\n",
        "        speed = 0.5\n",
        "    else:\n",
        "        speed = 1.0\n",
        "    \n",
        "    if dialect:\n",
        "        lang_code = f\"{lang}-{dialect}\"\n",
        "    else:\n",
        "        lang_code = lang\n",
        "    \n",
        "    tts = gTTS(mytext, lang=lang_code, slow=slow)\n",
        "    tts.speed = speed\n",
        "    tts.save('sample.mp3')\n",
        "    return Audio('sample.mp3', autoplay=True)\n",
        "\n",
        "# Define the language and dialect options\n",
        "languages = {\n",
        "    'English': 'en',\n",
        "    'French': 'fr',\n",
        "    'German': 'de',\n",
        "    'Italian': 'it',\n",
        "    'Japanese': 'ja',\n",
        "    'Korean': 'ko',\n",
        "    'Spanish': 'es',\n",
        "    'Russian': 'ru',\n",
        "    'Chinese': 'zh'\n",
        "}\n",
        "\n",
        "# Create the language and dialect dropdown widgets\n",
        "lang_dropdown = widgets.Dropdown(options=languages, value='en', description='Language:')\n",
        "\n",
        "# Create the slow checkbox widget\n",
        "slow_checkbox = widgets.Checkbox(value=False, description='Slow')\n",
        "\n",
        "# Define a function to handle the button click event\n",
        "def on_button_click(btn):\n",
        "    lang = lang_dropdown.value\n",
        "    display(etts(input_text.value, lang=lang, slow=False))\n",
        "\n",
        "# Create the text input widget and button\n",
        "input_text = widgets.Text(description='Text:')\n",
        "btn = widgets.Button(description='Speak')\n",
        "btn.on_click(on_button_click)\n",
        "\n",
        "# Display the widgets\n",
        "display(widgets.VBox([input_text, lang_dropdown, slow_checkbox, btn]))\n"
      ],
      "metadata": {
        "cellView": "form",
        "id": "YL9Jy8H_OCD3",
        "colab": {
          "base_uri": "https://localhost:8080/",
          "height": 203,
          "referenced_widgets": [
            "5539be9bf0cd4cbebe51f54fbf417d49",
            "b4c94ac5d45246dc99846b9d10366951",
            "8ab9496e075445e7a4f4dbd02b63df11",
            "2846bd9e4571400f9416afd0e94b38aa",
            "5d321c9e03d0473fba45fe2dc17c83f2",
            "9ddb332bc93b487e8c92ab3f5216a1a9",
            "96f56102a88d46178714342519709462",
            "5fe116e878fe44eebfad3339dad7d29d",
            "518194c41f244bfbbbddfa8008041f53",
            "8050c5ff1fb5461593046df461c679fa",
            "66ae73e2e5674e90a3b0736b1a01833c",
            "2699bd159de8445f8a57539a27d445de",
            "8ef2aa19d43e4fdcabb628c767ef4103",
            "18cd41c27c8b4e9d96d7ffd3dcee2d7d"
          ]
        },
        "outputId": "b0209a39-7867-421c-94f5-79dc368d67a5"
      },
      "execution_count": 82,
      "outputs": [
        {
          "output_type": "display_data",
          "data": {
            "text/plain": [
              "VBox(children=(Text(value='', description='Text:'), Dropdown(description='Language:', options={'English': 'en'…"
            ],
            "application/vnd.jupyter.widget-view+json": {
              "version_major": 2,
              "version_minor": 0,
              "model_id": "5539be9bf0cd4cbebe51f54fbf417d49"
            }
          },
          "metadata": {}
        },
        {
          "output_type": "display_data",
          "data": {
            "text/plain": [
              "<IPython.lib.display.Audio object>"
            ],
            "text/html": [
              "\n",
              "                <audio  controls=\"controls\" autoplay=\"autoplay\">\n",
              "                    <source src=\"data:audio/mpeg;base64,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\" type=\"audio/mpeg\" />\n",
              "                    Your browser does not support the audio element.\n",
              "                </audio>\n",
              "              "
            ]
          },
          "metadata": {}
        }
      ]
    },
    {
      "cell_type": "markdown",
      "source": [
        "## **E. Text-to-Image**\n",
        "\n",
        "+ [Midjourney](https://discord.com/channels/662267976984297473/999550150705954856), \n",
        "+ [DallE (OpenAI)](https://labs.openai.com/e/HVdzNDAN920zdEyMiQbrHZQq) >> [Bing (MS)](https://www.bing.com/images/create?form=FLPGEN)\n"
      ],
      "metadata": {
        "id": "jeXaCKQmZYWW"
      }
    },
    {
      "cell_type": "code",
      "source": [
        "#@markdown Sample images created by MK (Powered by Midjourney)\n",
        "from IPython.display import display\n",
        "import ipywidgets as widgets\n",
        "import requests\n",
        "\n",
        "def on_button_click(button):\n",
        "    sn = int(button.description) - 1\n",
        "    image.value = requests.get(urls[sn]).content\n",
        "\n",
        "urls = [\"https://github.com/MK316/workshops/raw/main/20230512_GNU/images/midjourney/GNUH.png\",\n",
        "        \"https://github.com/MK316/workshops/raw/main/20230512_GNU/images/midjourney/Namriver_Gogh.png\",\n",
        "        \"https://github.com/MK316/workshops/raw/main/20230512_GNU/images/midjourney/Namriver_Monet.png\",\n",
        "        \"https://github.com/MK316/workshops/raw/main/20230512_GNU/images/midjourney/Avatar1.png\",\n",
        "        \"https://github.com/MK316/workshops/raw/main/20230512_GNU/images/midjourney/Avatar2.png\"\n",
        "]\n",
        "\n",
        "button_layout = widgets.Layout(width='50px', height='30px')\n",
        "\n",
        "buttons = [widgets.Button(description=str(i), layout=button_layout) for i in range(1, 6)]\n",
        "for button in buttons:\n",
        "    button.on_click(on_button_click)\n",
        "\n",
        "image = widgets.Image(value=requests.get(urls[0]).content, width=\"600\", height=\"500\")\n",
        "\n",
        "display(widgets.HBox([image, widgets.VBox(buttons)]))\n"
      ],
      "metadata": {
        "cellView": "form",
        "id": "KV2g4hBdhTR7"
      },
      "execution_count": null,
      "outputs": []
    },
    {
      "cell_type": "code",
      "source": [
        "#@markdown Activity: Listen carefully and create an image that reflects what you have heard.\n",
        "\n",
        "mytext = \"\"\"\n",
        "Tell him that he needs a new will.\n",
        "\"\"\"\n",
        "\n",
        "etts(mytext)\n",
        "Audio(\"sample.mp3\",autoplay=True)"
      ],
      "metadata": {
        "cellView": "form",
        "id": "hYb16A70ZwmH",
        "outputId": "d0ee5843-d654-4f4b-9e51-bc18e9e89e8e",
        "colab": {
          "base_uri": "https://localhost:8080/",
          "height": 75
        }
      },
      "execution_count": null,
      "outputs": [
        {
          "output_type": "execute_result",
          "data": {
            "text/plain": [
              "<IPython.lib.display.Audio object>"
            ],
            "text/html": [
              "\n",
              "                <audio  controls=\"controls\" autoplay=\"autoplay\">\n",
              "                    <source src=\"data:audio/mpeg;base64,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\" type=\"audio/mpeg\" />\n",
              "                    Your browser does not support the audio element.\n",
              "                </audio>\n",
              "              "
            ]
          },
          "metadata": {},
          "execution_count": 33
        }
      ]
    },
    {
      "cell_type": "markdown",
      "source": [
        "+ Image upload [here](https://padlet.com/miranege/dl-board-spring-2023-9asqhuynm97r91xo)\n",
        "\n",
        "+ [Text-Audio-Image Quiz](https://forms.gle/A1Ymhurcocswz1Vv9)\n"
      ],
      "metadata": {
        "id": "svREPrYfeMtA"
      }
    },
    {
      "cell_type": "markdown",
      "source": [
        "## **F. AI generated videos**"
      ],
      "metadata": {
        "id": "Wj-mA0mTuPbC"
      }
    },
    {
      "cell_type": "code",
      "source": [
        "urls = \"4. Bed time story\" #@param = [\"1. Moving a character\", \"2. How to use Steve AI\",\"3. AI generated\",\"4. Bed time story\"]\n",
        "myurls = urls.split(\".\")\n",
        "myurl = myurls[0]\n",
        "sn = int(myurl)-1\n",
        "\n",
        "url_list = [\"gLeDLVJhWGU\", \"s3I8_XVYjB8\", \"EREpwtVwueQ\", \"luy9YoFd-Hg\"]\n",
        "\n",
        "\n",
        "video = YouTubeVideo(url_list[sn], width=800, height=600)\n",
        "display(video)"
      ],
      "metadata": {
        "cellView": "form",
        "id": "oGe2Ba9fX13u"
      },
      "execution_count": null,
      "outputs": []
    },
    {
      "cell_type": "markdown",
      "source": [
        "## **G. Speech-to-Text**\n",
        "\n",
        "+ Whisper API\n",
        "+ [speechnotes.co](https://speechnotes.co)"
      ],
      "metadata": {
        "id": "iJn3vkW0jxbm"
      }
    },
    {
      "cell_type": "code",
      "source": [
        "#@markdown Install whisper\n",
        "%%capture\n",
        "!pip install git+https://github.com/openai/whisper.git "
      ],
      "metadata": {
        "cellView": "form",
        "id": "pmwOQE3olOxj"
      },
      "execution_count": null,
      "outputs": []
    },
    {
      "cell_type": "code",
      "source": [
        "#@markdown Generate speech\n",
        "language = \"ko\" #@param = [\"ko\", \"en\",\"fr\"]\n",
        "text = input(\"Type your text: \")\n",
        "\n",
        "def tts(mytext):\n",
        "  mytext = text\n",
        "  tts = gTTS(mytext, lang = language, slow=False)\n",
        "  tts.save(\"audio.mp3\")\n",
        "\n",
        "tts(text)\n",
        "Audio(\"audio.mp3\", autoplay=True)"
      ],
      "metadata": {
        "cellView": "form",
        "id": "UlBUtwQxlmSR"
      },
      "execution_count": null,
      "outputs": []
    },
    {
      "cell_type": "code",
      "source": [
        "#@markdown Speech-to-Text:\n",
        "import whisper\n",
        "\n",
        "model = whisper.load_model(\"base\")\n",
        "result = model.transcribe(\"audio.mp3\")\n",
        "print(\"=\"*50)\n",
        "print(\"Speech-to-Text:\", result[\"text\"])"
      ],
      "metadata": {
        "cellView": "form",
        "id": "a3ersrExlHrw"
      },
      "execution_count": null,
      "outputs": []
    },
    {
      "cell_type": "markdown",
      "source": [
        "[sample audio](https://github.com/MK316/workshops/raw/main/data/korean19.mp3)\n",
        "\n",
        "Oiriginal text from https://accent.gmu.edu/: Please call Stella.  Ask her to bring these things with her from the store:  Six spoons of fresh snow peas, five thick slabs of blue cheese, and maybe a snack for her brother Bob.  We also need a small plastic snake and a big toy frog for the kids.  She can scoop these things into three red bags, and we will go meet her Wednesday at the train station."
      ],
      "metadata": {
        "id": "QiVmM0XJploq"
      }
    },
    {
      "cell_type": "code",
      "source": [
        "#@markdown Upload your file for STT:\n",
        "from google.colab import files\n",
        "uploaded = files.upload()"
      ],
      "metadata": {
        "cellView": "form",
        "id": "sqJTLEX0mUy0",
        "outputId": "77fe52b2-1411-4670-8b28-438bc478df5e",
        "colab": {
          "base_uri": "https://localhost:8080/",
          "height": 73
        }
      },
      "execution_count": null,
      "outputs": [
        {
          "output_type": "display_data",
          "data": {
            "text/plain": [
              "<IPython.core.display.HTML object>"
            ],
            "text/html": [
              "\n",
              "     <input type=\"file\" id=\"files-d891adcd-0575-45eb-a4c4-44196cf52585\" name=\"files[]\" multiple disabled\n",
              "        style=\"border:none\" />\n",
              "     <output id=\"result-d891adcd-0575-45eb-a4c4-44196cf52585\">\n",
              "      Upload widget is only available when the cell has been executed in the\n",
              "      current browser session. Please rerun this cell to enable.\n",
              "      </output>\n",
              "      <script>// Copyright 2017 Google LLC\n",
              "//\n",
              "// Licensed under the Apache License, Version 2.0 (the \"License\");\n",
              "// you may not use this file except in compliance with the License.\n",
              "// You may obtain a copy of the License at\n",
              "//\n",
              "//      http://www.apache.org/licenses/LICENSE-2.0\n",
              "//\n",
              "// Unless required by applicable law or agreed to in writing, software\n",
              "// distributed under the License is distributed on an \"AS IS\" BASIS,\n",
              "// WITHOUT WARRANTIES OR CONDITIONS OF ANY KIND, either express or implied.\n",
              "// See the License for the specific language governing permissions and\n",
              "// limitations under the License.\n",
              "\n",
              "/**\n",
              " * @fileoverview Helpers for google.colab Python module.\n",
              " */\n",
              "(function(scope) {\n",
              "function span(text, styleAttributes = {}) {\n",
              "  const element = document.createElement('span');\n",
              "  element.textContent = text;\n",
              "  for (const key of Object.keys(styleAttributes)) {\n",
              "    element.style[key] = styleAttributes[key];\n",
              "  }\n",
              "  return element;\n",
              "}\n",
              "\n",
              "// Max number of bytes which will be uploaded at a time.\n",
              "const MAX_PAYLOAD_SIZE = 100 * 1024;\n",
              "\n",
              "function _uploadFiles(inputId, outputId) {\n",
              "  const steps = uploadFilesStep(inputId, outputId);\n",
              "  const outputElement = document.getElementById(outputId);\n",
              "  // Cache steps on the outputElement to make it available for the next call\n",
              "  // to uploadFilesContinue from Python.\n",
              "  outputElement.steps = steps;\n",
              "\n",
              "  return _uploadFilesContinue(outputId);\n",
              "}\n",
              "\n",
              "// This is roughly an async generator (not supported in the browser yet),\n",
              "// where there are multiple asynchronous steps and the Python side is going\n",
              "// to poll for completion of each step.\n",
              "// This uses a Promise to block the python side on completion of each step,\n",
              "// then passes the result of the previous step as the input to the next step.\n",
              "function _uploadFilesContinue(outputId) {\n",
              "  const outputElement = document.getElementById(outputId);\n",
              "  const steps = outputElement.steps;\n",
              "\n",
              "  const next = steps.next(outputElement.lastPromiseValue);\n",
              "  return Promise.resolve(next.value.promise).then((value) => {\n",
              "    // Cache the last promise value to make it available to the next\n",
              "    // step of the generator.\n",
              "    outputElement.lastPromiseValue = value;\n",
              "    return next.value.response;\n",
              "  });\n",
              "}\n",
              "\n",
              "/**\n",
              " * Generator function which is called between each async step of the upload\n",
              " * process.\n",
              " * @param {string} inputId Element ID of the input file picker element.\n",
              " * @param {string} outputId Element ID of the output display.\n",
              " * @return {!Iterable<!Object>} Iterable of next steps.\n",
              " */\n",
              "function* uploadFilesStep(inputId, outputId) {\n",
              "  const inputElement = document.getElementById(inputId);\n",
              "  inputElement.disabled = false;\n",
              "\n",
              "  const outputElement = document.getElementById(outputId);\n",
              "  outputElement.innerHTML = '';\n",
              "\n",
              "  const pickedPromise = new Promise((resolve) => {\n",
              "    inputElement.addEventListener('change', (e) => {\n",
              "      resolve(e.target.files);\n",
              "    });\n",
              "  });\n",
              "\n",
              "  const cancel = document.createElement('button');\n",
              "  inputElement.parentElement.appendChild(cancel);\n",
              "  cancel.textContent = 'Cancel upload';\n",
              "  const cancelPromise = new Promise((resolve) => {\n",
              "    cancel.onclick = () => {\n",
              "      resolve(null);\n",
              "    };\n",
              "  });\n",
              "\n",
              "  // Wait for the user to pick the files.\n",
              "  const files = yield {\n",
              "    promise: Promise.race([pickedPromise, cancelPromise]),\n",
              "    response: {\n",
              "      action: 'starting',\n",
              "    }\n",
              "  };\n",
              "\n",
              "  cancel.remove();\n",
              "\n",
              "  // Disable the input element since further picks are not allowed.\n",
              "  inputElement.disabled = true;\n",
              "\n",
              "  if (!files) {\n",
              "    return {\n",
              "      response: {\n",
              "        action: 'complete',\n",
              "      }\n",
              "    };\n",
              "  }\n",
              "\n",
              "  for (const file of files) {\n",
              "    const li = document.createElement('li');\n",
              "    li.append(span(file.name, {fontWeight: 'bold'}));\n",
              "    li.append(span(\n",
              "        `(${file.type || 'n/a'}) - ${file.size} bytes, ` +\n",
              "        `last modified: ${\n",
              "            file.lastModifiedDate ? file.lastModifiedDate.toLocaleDateString() :\n",
              "                                    'n/a'} - `));\n",
              "    const percent = span('0% done');\n",
              "    li.appendChild(percent);\n",
              "\n",
              "    outputElement.appendChild(li);\n",
              "\n",
              "    const fileDataPromise = new Promise((resolve) => {\n",
              "      const reader = new FileReader();\n",
              "      reader.onload = (e) => {\n",
              "        resolve(e.target.result);\n",
              "      };\n",
              "      reader.readAsArrayBuffer(file);\n",
              "    });\n",
              "    // Wait for the data to be ready.\n",
              "    let fileData = yield {\n",
              "      promise: fileDataPromise,\n",
              "      response: {\n",
              "        action: 'continue',\n",
              "      }\n",
              "    };\n",
              "\n",
              "    // Use a chunked sending to avoid message size limits. See b/62115660.\n",
              "    let position = 0;\n",
              "    do {\n",
              "      const length = Math.min(fileData.byteLength - position, MAX_PAYLOAD_SIZE);\n",
              "      const chunk = new Uint8Array(fileData, position, length);\n",
              "      position += length;\n",
              "\n",
              "      const base64 = btoa(String.fromCharCode.apply(null, chunk));\n",
              "      yield {\n",
              "        response: {\n",
              "          action: 'append',\n",
              "          file: file.name,\n",
              "          data: base64,\n",
              "        },\n",
              "      };\n",
              "\n",
              "      let percentDone = fileData.byteLength === 0 ?\n",
              "          100 :\n",
              "          Math.round((position / fileData.byteLength) * 100);\n",
              "      percent.textContent = `${percentDone}% done`;\n",
              "\n",
              "    } while (position < fileData.byteLength);\n",
              "  }\n",
              "\n",
              "  // All done.\n",
              "  yield {\n",
              "    response: {\n",
              "      action: 'complete',\n",
              "    }\n",
              "  };\n",
              "}\n",
              "\n",
              "scope.google = scope.google || {};\n",
              "scope.google.colab = scope.google.colab || {};\n",
              "scope.google.colab._files = {\n",
              "  _uploadFiles,\n",
              "  _uploadFilesContinue,\n",
              "};\n",
              "})(self);\n",
              "</script> "
            ]
          },
          "metadata": {}
        },
        {
          "output_type": "stream",
          "name": "stdout",
          "text": [
            "Saving data_korean19.mp3 to data_korean19.mp3\n"
          ]
        }
      ]
    },
    {
      "cell_type": "code",
      "source": [
        "#@markdown Speech-to-Text: e.g., korean19.mp3\n",
        "import whisper\n",
        "filename = input(\"File name: \")\n",
        "model = whisper.load_model(\"base\")\n",
        "result = model.transcribe(filename)\n",
        "print(\"=\"*50)\n",
        "print(\"Speech-to-Text:\", result[\"text\"])"
      ],
      "metadata": {
        "id": "2fWT9RTFpyxr",
        "cellView": "form"
      },
      "execution_count": null,
      "outputs": []
    },
    {
      "cell_type": "code",
      "source": [
        "#@markdown How many words are recognized? (Simple version)\n",
        "def common_words(text1, text2):\n",
        "    # Convert texts to lowercase and split into words\n",
        "    words1 = text1.lower().split()\n",
        "    words2 = text2.lower().split()\n",
        "\n",
        "    # Create sets to store unique words from each text\n",
        "    set1 = set(words1)\n",
        "    set2 = set(words2)\n",
        "\n",
        "    # Find the common words using set intersection\n",
        "    common = set1.intersection(set2)\n",
        "\n",
        "    # Return the list of common words\n",
        "    return list(common)\n",
        "\n",
        "text1 = \"Please call Stella. Ask her to bring these things with her from the store: Six spoons of fresh snow peas, five thick slabs of blue cheese, and maybe a snack for her brother Bob. We also need a small plastic snake and a big toy frog for the kids. She can scoop these things into three red bags, and we will go meet her Wednesday at the train station.\"\n",
        "text2 = result[\"text\"]\n",
        "common_words_list = common_words(text1, text2)\n",
        "t1 = len(text1.split())\n",
        "t2 = len(common_words_list)\n",
        "ratio = round((t2/t1)*100, 1)\n",
        "\n",
        "print(f\"Common words: {t2} out of {t1}\", common_words_list)\n",
        "print(\"=\"*50)\n",
        "print(f\"Percentage of the recognized words: {ratio} %\")\n"
      ],
      "metadata": {
        "cellView": "form",
        "id": "3kW4SLqJQINU"
      },
      "execution_count": null,
      "outputs": []
    },
    {
      "cell_type": "markdown",
      "source": [
        "## 🌀 Digital Literacy & your Major (e.g., phonetics, phonology)\n",
        "\n",
        "## **In-class activities**"
      ],
      "metadata": {
        "id": "SrJoqbUCul7S"
      }
    },
    {
      "cell_type": "markdown",
      "source": [
        "### 🌱 **Audio: Reverse sound signal?**\n",
        "\n",
        "'강의실' 거꾸로 하면?"
      ],
      "metadata": {
        "id": "XRO90pIPYFzX"
      }
    },
    {
      "cell_type": "code",
      "source": [
        "#@markdown Install {pyqrcode}\n",
        "%%capture\n",
        "!pip install pyqrcode\n",
        "!pip install gradio\n",
        "\n",
        "import pyqrcode\n",
        "from pyqrcode import QRCode"
      ],
      "metadata": {
        "cellView": "form",
        "id": "JieXGQbGYFzY"
      },
      "execution_count": null,
      "outputs": []
    },
    {
      "cell_type": "code",
      "source": [
        "#@markdown Reverse your audio: {Gradio}\n",
        "import numpy as np\n",
        "import gradio as gr\n",
        "\n",
        "\n",
        "def reverse_audio(audio):\n",
        "    sr, data = audio\n",
        "    reversed_audio = (sr, np.flipud(data))\n",
        "    return reversed_audio\n",
        "\n",
        "\n",
        "mic = gr.Audio(source=\"microphone\", type=\"numpy\", label=\"Speak here...\")\n",
        "gr.Interface(reverse_audio, mic, \"audio\").launch(share = True)"
      ],
      "metadata": {
        "cellView": "form",
        "id": "M046Ku_gYFzY"
      },
      "execution_count": null,
      "outputs": []
    },
    {
      "cell_type": "code",
      "source": [
        "#@markdown Enter the link to generate a QR image\n",
        "s = input(\"Paste the link: \")\n",
        "\n",
        "# Generate QR code\n",
        "url = pyqrcode.create(s)\n",
        "\n",
        "# Create and save the png file naming \"myqr.png\"\n",
        "url.svg(\"myqrcode.svg\", scale=10)\n",
        "\n",
        "from IPython.display import SVG, display\n",
        "def show_svg(file):\n",
        "    display(SVG(file))\n",
        "\n",
        "show_svg(\"myqrcode.svg\")\n",
        "     "
      ],
      "metadata": {
        "cellView": "form",
        "id": "XN5BvnEKYFzY"
      },
      "execution_count": null,
      "outputs": []
    },
    {
      "cell_type": "markdown",
      "source": [
        "### 🌱**Language quiz**"
      ],
      "metadata": {
        "id": "WWP40FrjvkZg"
      }
    },
    {
      "cell_type": "code",
      "source": [
        "#@markdown Language quiz: terminology (Ch.3)\n",
        "import random\n",
        "\n",
        "# Define a dictionary of words and their hints\n",
        "word_hints = {\n",
        "    \"suprasegmental\": [\n",
        "        \"This term is related to the features of speech that go beyond individual sounds.\",\n",
        "        \"It is often associated with intonation, stress, and timing.\",\n",
        "        \"Examples include pitch, tone, and stress patterns.\",\n",
        "        \"The answer begins with 's'.\"\n",
        "    ],\n",
        "    \"geminate\": [\n",
        "        \"This term is related to a specific type of consonant.\",\n",
        "        \"It refers to a consonant that is pronounced for a longer duration than its regular counterpart.\",\n",
        "        \"In some languages, it can be represented by doubling the consonant in writing.\",\n",
        "        \"The answer begins with 'g'.\"\n",
        "    ],\n",
        "    \"syllable\": [\n",
        "        \"This term is related to a unit of speech.\",\n",
        "        \"It is a sequence of speech sounds, typically consisting of a vowel and any surrounding consonants.\",\n",
        "        \"A word can have one or multiple of these units.\",\n",
        "        \"The answer begins with 's'.\"\n",
        "    ]\n",
        "}\n",
        "\n",
        "# Define guessing game\n",
        "\n",
        "def guessing_game(word_hints):\n",
        "    words = list(word_hints.keys())\n",
        "    random.shuffle(words)\n",
        "\n",
        "    for word in words:\n",
        "        print(\"\\nGuess the word based on the following hints:\")\n",
        "        hints = word_hints[word]\n",
        "        attempts = 0\n",
        "\n",
        "        while attempts < len(hints):\n",
        "            print(f\"Hint {attempts + 1}: {hints[attempts]}\")\n",
        "            guess = input(\"Your guess: \").strip().lower()\n",
        "\n",
        "            if guess == word.lower():\n",
        "                print(\"Congratulations! You guessed the correct word!\\n\")\n",
        "                break\n",
        "            else:\n",
        "                print(\"Incorrect. Try again with another hint.\\n\")\n",
        "                attempts += 1\n",
        "\n",
        "        if attempts == len(hints):\n",
        "            print(f\"Sorry, you've run out of hints. The correct word was: {word}\\n\")\n",
        "\n",
        "# Using this conditional structure is a common practice in Python to allow a script to be both executed as a standalone program and imported as a module in other scripts without immediately running the code within the script.\n",
        "if __name__ == \"__main__\":\n",
        "  guessing_game(word_hints)"
      ],
      "metadata": {
        "id": "V_LUzk6BXiIk",
        "cellView": "form",
        "outputId": "dc071e33-f3f3-44c8-8efa-0b5e86a902c6",
        "colab": {
          "base_uri": "https://localhost:8080/"
        }
      },
      "execution_count": null,
      "outputs": [
        {
          "output_type": "stream",
          "name": "stdout",
          "text": [
            "\n",
            "Guess the word based on the following hints:\n",
            "Hint 1: This term is related to a specific type of consonant.\n",
            "Your guess: geminates\n",
            "Incorrect. Try again with another hint.\n",
            "\n",
            "Hint 2: It refers to a consonant that is pronounced for a longer duration than its regular counterpart.\n",
            "Your guess: geminate\n",
            "Congratulations! You guessed the correct word!\n",
            "\n",
            "\n",
            "Guess the word based on the following hints:\n",
            "Hint 1: This term is related to the features of speech that go beyond individual sounds.\n",
            "Your guess: \n",
            "Incorrect. Try again with another hint.\n",
            "\n",
            "Hint 2: It is often associated with intonation, stress, and timing.\n",
            "Your guess: suprasegmental\n",
            "Congratulations! You guessed the correct word!\n",
            "\n",
            "\n",
            "Guess the word based on the following hints:\n",
            "Hint 1: This term is related to a unit of speech.\n",
            "Your guess: syllable\n",
            "Congratulations! You guessed the correct word!\n",
            "\n"
          ]
        }
      ]
    },
    {
      "cell_type": "markdown",
      "source": [
        "### 🌱**Sound (listening)**"
      ],
      "metadata": {
        "id": "y6iv3S-9Ztok"
      }
    },
    {
      "cell_type": "code",
      "source": [
        "#@markdown IPA vowel chart\n",
        "url = \"https://github.com/MK316/Spring2023/raw/main/data/IPA_vowels.png\"\n",
        "Image(url, width=\"600\", height=\"500\")"
      ],
      "metadata": {
        "cellView": "form",
        "id": "gooAv1SpVsbn"
      },
      "execution_count": null,
      "outputs": []
    },
    {
      "cell_type": "code",
      "source": [
        "#@markdown 🎧 English vowels in words:\n",
        "\n",
        "vowel = \"2\" #@param = [1,2,3,4,5,6,7,8,9,10,11,12,13,14,15, 16, 17]\n",
        "\n",
        "if vowel == \"1\":\n",
        "  mytext = \"Seat. beat. heat. need. believe. leave. scene.\"\n",
        "elif vowel == \"2\":\n",
        "  mytext = \"Sit. hit. bit. it. bin. begin. give. living.\"\n",
        "elif vowel == \"3\":\n",
        "  mytext = \"Pet. met. set. pending. send. any. many.\"\n",
        "elif vowel == \"4\":\n",
        "  mytext = \"Pat. mat. sat. pan. sand. apple. cat. land.\"\n",
        "elif vowel == \"5\":\n",
        "  mytext = \"Cod. cop. pop. mop. father. option. olive.\"\n",
        "elif vowel == \"6\":\n",
        "  mytext = \"Pool. fool. noon. moon. cool. food. news.\"\n",
        "elif vowel == \"7\":\n",
        "  mytext = \"Pull. full. would. should. could. wood. wool.\"\n",
        "elif vowel == \"8\":\n",
        "  mytext = \"Cut. but. come. love. sun. son. number.\"\n",
        "elif vowel == \"9\":\n",
        "  mytext = \"Caught. bought. taught. law. saw. ought. off. autumn.\"\n",
        "elif vowel == \"10\":\n",
        "  mytext = \"Ago. again. condition. occur. reason. happen.\"\n",
        "elif vowel == \"11\":\n",
        "  mytext = \"Game. name. great. mate. rate. late. gate.\"\n",
        "elif vowel == \"12\":\n",
        "  mytext = \"Pie. my. sigh. light. right. might.\"\n",
        "elif vowel == \"13\":\n",
        "  mytext = \"Cow. how. now. mountain.\"\n",
        "elif vowel == \"14\":\n",
        "  mytext = \"Radio. go. so. no. mow. toll. goal.\"\n",
        "elif vowel == \"15\":\n",
        "  mytext = \"Toy. boy. avoid. noise. choice. voice. oil.\"\n",
        "elif vowel == \"16\":\n",
        "  mytext = \"Turn. burn. herb. curl. perfect. service. girl. early.\"\n",
        "elif vowel == \"17\":\n",
        "  mytext = \"Baker. doctor. percent. teacher. color.\"\n",
        "\n",
        "text = \"Okay. Let me read the word list! \" + \" \" + mytext\n",
        "etts(text)\n",
        "print(mytext)\n",
        "print(\"=\"*50)\n",
        "Audio(\"sample.mp3\", autoplay=True)\n",
        "     "
      ],
      "metadata": {
        "cellView": "form",
        "id": "oVnI38eIUWv_",
        "outputId": "89d2cd9a-8e9c-4d87-8895-310bd3a09338",
        "colab": {
          "base_uri": "https://localhost:8080/",
          "height": 110
        }
      },
      "execution_count": null,
      "outputs": [
        {
          "output_type": "stream",
          "name": "stdout",
          "text": [
            "Sit. hit. bit. it. bin. begin. give. living.\n",
            "==================================================\n"
          ]
        },
        {
          "output_type": "execute_result",
          "data": {
            "text/plain": [
              "<IPython.lib.display.Audio object>"
            ],
            "text/html": [
              "\n",
              "                <audio  controls=\"controls\" autoplay=\"autoplay\">\n",
              "                    <source src=\"data:audio/mpeg;base64,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\" type=\"audio/mpeg\" />\n",
              "                    Your browser does not support the audio element.\n",
              "                </audio>\n",
              "              "
            ]
          },
          "metadata": {},
          "execution_count": 88
        }
      ]
    },
    {
      "cell_type": "code",
      "source": [
        "\n",
        "#@markdown 🎧 TTS with dialectal variation in English. (Not so reliable.)\n",
        "\n",
        "variety = \"en-us\" #@param = [\"en-us\",\"en-co.uk\",\"en-ca\",\"en-com.au\",\"en-ie\",\"en-co.in\"]\n",
        "v1 = variety.split('-')\n",
        "language = v1[0]\n",
        "dialect = v1[1]\n",
        "\n",
        "text_to_say = input(\"Type text: \")\n",
        "gtts_object = gTTS(text = text_to_say,\n",
        "                   lang = language, tld = dialect,\n",
        "                   slow = False)\n",
        "  \n",
        "gtts_object.save(\"E-audio.mp3\")\n",
        "Audio(\"E-audio.mp3\")"
      ],
      "metadata": {
        "cellView": "form",
        "id": "VVDf4Mj_VKnr",
        "outputId": "9cd2ec34-4962-4c69-b1a9-525e98723034",
        "colab": {
          "base_uri": "https://localhost:8080/",
          "height": 92
        }
      },
      "execution_count": null,
      "outputs": [
        {
          "name": "stdout",
          "output_type": "stream",
          "text": [
            "Type text: How do you do\n"
          ]
        },
        {
          "output_type": "execute_result",
          "data": {
            "text/plain": [
              "<IPython.lib.display.Audio object>"
            ],
            "text/html": [
              "\n",
              "                <audio  controls=\"controls\" >\n",
              "                    <source src=\"data:audio/mpeg;base64,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\" type=\"audio/mpeg\" />\n",
              "                    Your browser does not support the audio element.\n",
              "                </audio>\n",
              "              "
            ]
          },
          "metadata": {},
          "execution_count": 90
        }
      ]
    },
    {
      "cell_type": "markdown",
      "source": [
        "### 🌱 **Feature Theory & natural class**"
      ],
      "metadata": {
        "id": "tVa5COyTZyuB"
      }
    },
    {
      "cell_type": "code",
      "source": [
        "#@markdown 📌 (removed) 24 Consonant phoneme features defined\n",
        "# Define tuples for English consonant phonemes\n",
        "phoneme1 = ('p', ['[-strident]','[+anterior]','[-coronal]','[+consonantal]', '[-sonorant]', '[-syllabic]', '[-nasal]', '[-continuant]', '[-lateral]', '[-Delayed Release]', '[-voice]'])\n",
        "phoneme2 = ('b', ['[-strident]','[+anterior]','[-coronal]','[+consonantal]', '[-sonorant]', '[-syllabic]', '[-nasal]', '[-continuant]', '[-lateral]', '[-Delayed Release]', '[+voice]'])\n",
        "phoneme3 = ('t', ['[-strident]','[+anterior]','[+coronal]','[+consonantal]', '[-sonorant]', '[-syllabic]', '[-nasal]', '[-continuant]', '[-lateral]', '[-Delayed Release]', '[-voice]'])\n",
        "phoneme4 = ('d', ['[-strident]','[+anterior]','[+coronal]','[+consonantal]', '[-sonorant]', '[-syllabic]', '[-nasal]', '[-continuant]', '[-lateral]', '[-Delayed Release]', '[+voice]'])\n",
        "phoneme5 = ('k', ['[-strident]','[-anterior]','[-coronal]','[+consonantal]', '[-sonorant]', '[-syllabic]', '[-nasal]', '[-continuant]', '[-lateral]', '[-Delayed Release]', '[-voice]'])\n",
        "phoneme6 = ('g', ['[-strident]','[-anterior]','[-coronal]','[+consonantal]', '[-sonorant]', '[-syllabic]', '[-nasal]', '[-continuant]', '[-lateral]', '[-Delayed Release]', '[+voice]'])\n",
        "phoneme7 = ('f', ['[-strident]','[+anterior]','[-coronal]','[+consonantal]', '[-sonorant]', '[-syllabic]', '[-nasal]', '[+continuant]', '[-lateral]', '[-Delayed Release]', '[-voice]'])\n",
        "phoneme8 = ('v', ['[-strident]','[+anterior]','[-coronal]','[+consonantal]', '[-sonorant]', '[-syllabic]', '[-nasal]', '[+continuant]', '[-lateral]', '[-Delayed Release]', '[+voice]'])\n",
        "phoneme9 = ('θ', ['[-strident]','[+anterior]','[+coronal]','[+consonantal]', '[-sonorant]', '[-syllabic]', '[-nasal]', '[+continuant]', '[-lateral]', '[-Delayed Release]', '[-voice]'])\n",
        "phoneme10 = ('ð', ['[-strident]','[+anterior]','[+coronal]','[+consonantal]', '[-sonorant]', '[-syllabic]', '[-nasal]', '[+continuant]', '[-lateral]', '[-Delayed Release]', '[+voice]'])\n",
        "phoneme11 = ('s', ['[+strident]','[+anterior]','[+coronal]','[+consonantal]', '[-sonorant]', '[-syllabic]', '[-nasal]', '[+continuant]', '[-lateral]', '[-Delayed Release]', '[-voice]'])\n",
        "phoneme12 = ('z', ['[+strident]','[+anterior]','[+coronal]','[+consonantal]', '[-sonorant]', '[-syllabic]', '[-nasal]', '[+continuant]', '[-lateral]', '[-Delayed Release]', '[+voice]'])\n",
        "phoneme13 = ('ʃ', ['[+strident]','[-anterior]','[+coronal]','[+consonantal]', '[-sonorant]', '[-syllabic]', '[-nasal]', '[+continuant]', '[-lateral]', '[-Delayed Release]', '[-voice]'])\n",
        "phoneme14 = ('ʒ', ['[+strident]','[-anterior]','[+coronal]','[+consonantal]', '[-sonorant]', '[-syllabic]', '[-nasal]', '[+continuant]', '[-lateral]', '[-Delayed Release]', '[+voice]'])\n",
        "phoneme15 = ('h', ['[-strident]','[-anterior]','[-coronal]','[+consonantal]', '[-sonorant]', '[-syllabic]', '[-nasal]', '[+continuant]', '[-lateral]', '[-Delayed Release]', '[-voice]'])\n",
        "phoneme16 = ('m', ['[-strident]','[-anterior]','[-coronal]','[+consonantal]', '[+sonorant]', '[-syllabic]', '[+nasal]', '[-continuant]', '[-lateral]', '[-Delayed Release]', '[+voice]'])\n",
        "phoneme17 = ('n', ['[-strident]','[+anterior]','[+coronal]','[+consonantal]', '[+sonorant]', '[-syllabic]', '[+nasal]', '[-continuant]', '[-lateral]', '[-Delayed Release]', '[+voice]'])\n",
        "phoneme18 = ('ŋ', ['[-strident]','[-anterior]','[-coronal]','[+consonantal]', '[+sonorant]', '[-syllabic]', '[+nasal]', '[-continuant]', '[-lateral]', '[-Delayed Release]', '[+voice]'])\n",
        "phoneme19 = ('l', ['[-strident]','[+anterior]','[+coronal]','[+consonantal]', '[+sonorant]', '[-syllabic]', '[-nasal]', '[+continuant]', '[+lateral]', '[-Delayed Release]', '[+voice]'])\n",
        "phoneme20 = ('ɹ', ['[-strident]','[+anterior]','[+coronal]','[+consonantal]', '[+sonorant]', '[-syllabic]', '[-nasal]', '[+continuant]', '[-lateral]', '[-Delayed Release]', '[+voice]'])\n",
        "phoneme21 = ('j', ['[-strident]','[-anterior]','[-coronal]','[-consonantal]', '[+sonorant]', '[-syllabic]', '[-nasal]', '[+continuant]', '[-lateral]', '[-Delayed Release]', '[+voice]'])\n",
        "phoneme22 = ('w', ['[-strident]','[-anterior]','[-coronal]','[-consonantal]', '[+sonorant]', '[-syllabic]', '[-nasal]', '[+continuant]', '[-lateral]', '[-Delayed Release]', '[+voice]'])\n",
        "phoneme23 = ('tʃ', ['[+strident]','[-anterior]','[+coronal]','[+consonantal]', '[-sonorant]', '[-syllabic]', '[-nasal]', '[-continuant]', '[-lateral]', '[+Delayed Release]', '[-voice]'])\n",
        "phoneme24 = ('dʒ', ['[+strident]','[-anterior]','[+coronal]','[+consonantal]', '[-sonorant]', '[-syllabic]', '[-nasal]', '[-continuant]', '[-lateral]', '[+Delayed Release]', '[+voice]'])\n",
        "\n",
        "\n",
        "# Store tuples in a list\n",
        "phonemes = [phoneme1, phoneme2, phoneme3, phoneme4, phoneme5,\n",
        "                      phoneme6, phoneme7, phoneme8, phoneme9, phoneme10,\n",
        "                      phoneme11, phoneme12, phoneme13, phoneme14, phoneme15,\n",
        "                      phoneme16, phoneme17, phoneme18, phoneme19, phoneme20,\n",
        "                      phoneme21, phoneme22, phoneme23, phoneme24]\n",
        "\n",
        "# Print the list of tuples\n",
        "plist = [] \n",
        "for phoneme in phonemes:\n",
        "    plist.append(phoneme[0])\n",
        "print(f\"🐬24 English consonant phonemes: {plist}\")\n",
        "len(plist)\n",
        "\n",
        "print(f\"🐬Each phoneme is stored its features as follows:\\n {phonemes[0]}\")\n",
        "\n",
        "#@markdown Feature play with time limit: Time set, Group number, Number of sounds to select\n",
        "import random\n",
        "import time\n",
        "\n",
        "# Initialize the user's score to zero\n",
        "score = 0\n",
        "\n",
        "# Set the time limit (in seconds)\n",
        "timeset = input(\"Time setting in seconds: \")\n",
        "timeset = int(timeset)\n",
        "time_limit = timeset\n",
        "\n",
        "# Select and display random phonemes\n",
        "group = input(\"Your name? \")\n",
        "sn = input(\"How many sounds to select (out of 24)? \")\n",
        "sn = int(sn)\n",
        "selected_phonemes = random.sample(phonemes, sn)\n",
        "print(\"Selected phonemes:\")\n",
        "mylist = []\n",
        "for phoneme in selected_phonemes:\n",
        "    mylist.append(phoneme[0])\n",
        "\n",
        "print(mylist)\n",
        "print(\"=\"*50)\n",
        "\n",
        "# Find the shared features\n",
        "shared_features = set(selected_phonemes[0][1]).intersection(*[phoneme[1] for phoneme in selected_phonemes[1:]])\n",
        "\n",
        "# If there are shared features, ask the user for the + or - sign\n",
        "if shared_features:\n",
        "    start_time = time.time()  # Start the timer\n",
        "    while (time.time() - start_time) < time_limit:  # Run the loop until the time limit is reached\n",
        "        for feature in shared_features:\n",
        "            stripped_feature = feature[2:-1]  # Remove the sign from the feature\n",
        "            user_input = input(f\"Enter the sign (+ or -) for the shared feature '{stripped_feature}': \")\n",
        "\n",
        "            if user_input == feature[1]:\n",
        "                print(f\"Correct! The sign for {stripped_feature} is {user_input}.\")\n",
        "                score += 1  # Increment the user's score if the answer is correct\n",
        "            else:\n",
        "                print(f\"Wrong input. Try again.\")\n",
        "            if (time.time() - start_time) >= time_limit:  # End the loop if the time limit is reached\n",
        "                break\n",
        "    else:\n",
        "        print(\"Time's up! Game over.\")\n",
        "else:\n",
        "    print(\"No shared features found.\")\n",
        "\n",
        "print(f\"{group} has scored {score} points.\")\n"
      ],
      "metadata": {
        "cellView": "form",
        "id": "rBg_KxoyTKTV"
      },
      "execution_count": null,
      "outputs": []
    },
    {
      "cell_type": "markdown",
      "source": [
        "### 🌱 Multimodality helps language learning and teaching in **Reading, Writing, Listening, and Speaking**"
      ],
      "metadata": {
        "id": "Ukxg4UACvoJH"
      }
    },
    {
      "cell_type": "markdown",
      "source": [
        "---\n",
        "#🌱 **[3] Challenges and opportunities**, Q&As"
      ],
      "metadata": {
        "id": "z12afmk4rFgK"
      }
    },
    {
      "cell_type": "markdown",
      "source": [
        "## **Survey on a Digital literacy & major course link**\n",
        "\n",
        "+ Response (in Korean) [link](https://github.com/MK316/Spring2023/blob/main/data/survey1.txt)\n",
        "+ Response (in English) [link](https://raw.githubusercontent.com/MK316/Spring2023/main/data/survey_en.txt)"
      ],
      "metadata": {
        "id": "q244Sk9CEVEs"
      }
    },
    {
      "cell_type": "markdown",
      "source": [
        "### Q: 코딩을 포함한 디지털리터러시 수업이 자신의 전공 영역에서 개설된다면?"
      ],
      "metadata": {
        "id": "1UDjepTwsBpr"
      }
    },
    {
      "cell_type": "code",
      "source": [
        "#@markdown Wordcloud (Korean)\n",
        "import urllib.request\n",
        "\n",
        "# Replace this with the URL of the GitHub-hosted text file\n",
        "github_url = \"https://raw.githubusercontent.com/MK316/Spring2023/main/data/survey1.txt\"\n",
        "response = urllib.request.urlopen(github_url)\n",
        "korean_text = response.read().decode('utf-8')\n",
        "\n",
        "import matplotlib.pyplot as plt\n",
        "from wordcloud import WordCloud\n",
        "\n",
        "# Replace 'NanumGothic.ttf' with the file path of the uploaded Korean font file\n",
        "font_path = 'NanumGothic.ttf'\n",
        "\n",
        "wordcloud = WordCloud(\n",
        "    font_path=font_path,\n",
        "    background_color='white',\n",
        "    width=800,\n",
        "    height=800,\n",
        "    max_words=100\n",
        ").generate(korean_text)\n",
        "\n",
        "plt.figure(figsize=(10, 10))\n",
        "plt.imshow(wordcloud, interpolation='bilinear')\n",
        "plt.axis('off')\n",
        "print(\"Q: 'Digital Literacy and English Language'라는 수업을 듣게 된다면 가장 우려되는 점은 무엇인가요? 가능한 모두 써 주세요. (한국어로)\")\n",
        "plt.show()\n"
      ],
      "metadata": {
        "cellView": "form",
        "id": "qssJzNgqEbNG"
      },
      "execution_count": null,
      "outputs": []
    },
    {
      "cell_type": "code",
      "source": [
        "#@markdown Wordcloud (English): stopwords removed\n",
        "# Replace this with the URL of the GitHub-hosted text file\n",
        "github_url = \"https://raw.githubusercontent.com/MK316/Spring2023/main/data/survey_en.txt\"\n",
        "\n",
        "response = urllib.request.urlopen(github_url)\n",
        "text = response.read().decode('utf-8')\n",
        "import matplotlib.pyplot as plt\n",
        "from wordcloud import STOPWORDS, WordCloud\n",
        "\n",
        "wordcloud = WordCloud(\n",
        "    stopwords=english_stopwords,\n",
        "    background_color='white',\n",
        "    width=800,\n",
        "    height=800,\n",
        "    max_words=100\n",
        ").generate(text)\n",
        "\n",
        "plt.figure(figsize=(10, 10))\n",
        "plt.imshow(wordcloud, interpolation='bilinear')\n",
        "plt.axis('off')\n",
        "plt.show()"
      ],
      "metadata": {
        "cellView": "form",
        "id": "M698I7C7IAtT"
      },
      "execution_count": null,
      "outputs": []
    },
    {
      "cell_type": "code",
      "source": [
        "#@markdown Wordcloud (Korean / English) image from github\n",
        "from IPython.display import Image, display\n",
        "\n",
        "url = \"1. Korean\" #@param = [\"1. Korean\",\"2. English\"]\n",
        "url = url.split(\".\")\n",
        "sn = int(url[0])-1\n",
        "\n",
        "url_list = [\"https://github.com/MK316/Spring2023/raw/main/data/survey_ko.png\",\n",
        "            \"https://github.com/MK316/Spring2023/raw/main/data/survey_en.png\"]\n",
        "\n",
        "url = url_list[sn]\n",
        "image = Image(url, width=800, height=600)\n",
        "display(image)\n"
      ],
      "metadata": {
        "cellView": "form",
        "id": "zPlaH0p5GkuD"
      },
      "execution_count": null,
      "outputs": []
    },
    {
      "cell_type": "markdown",
      "source": [
        "### Q: 설문결과 (요약)"
      ],
      "metadata": {
        "id": "GY-t0HhAsXCV"
      }
    },
    {
      "cell_type": "code",
      "source": [
        "#@markdown Result slides\n",
        "from IPython.display import display\n",
        "import ipywidgets as widgets\n",
        "import requests\n",
        "\n",
        "def on_button_click(button):\n",
        "    sn = int(button.description) - 1\n",
        "    image.value = requests.get(urls[sn]).content\n",
        "\n",
        "urls = [\"https://github.com/MK316/workshops/raw/main/20230512_GNU/images/survey_plots.001.jpeg\",\n",
        "        \"https://github.com/MK316/workshops/raw/main/20230512_GNU/images/survey_plots.002.jpeg\",\n",
        "        \"https://github.com/MK316/workshops/raw/main/20230512_GNU/images/survey_plots.003.jpeg\",\n",
        "        \"https://github.com/MK316/workshops/raw/main/20230512_GNU/images/survey_plots.004.jpeg\",\n",
        "        \"https://github.com/MK316/workshops/raw/main/20230512_GNU/images/survey_plots.005.jpeg\",\n",
        "        \"https://github.com/MK316/workshops/raw/main/20230512_GNU/images/survey_plots.006.jpeg\",\n",
        "        \"https://github.com/MK316/workshops/raw/main/20230512_GNU/images/survey_plots.007.jpeg\",\n",
        "        \"https://github.com/MK316/workshops/raw/main/20230512_GNU/images/survey_plots.008.jpeg\",\n",
        "        \"https://github.com/MK316/workshops/raw/main/20230512_GNU/images/survey_plots.009.jpeg\",\n",
        "        \"https://github.com/MK316/workshops/raw/main/20230512_GNU/images/0512_finalmessage.jpeg\"\n",
        "]\n",
        "\n",
        "button_layout = widgets.Layout(width='50px', height='30px')\n",
        "\n",
        "buttons = [widgets.Button(description=str(i), layout=button_layout) for i in range(1, 11)]\n",
        "for button in buttons:\n",
        "    button.on_click(on_button_click)\n",
        "\n",
        "image = widgets.Image(value=requests.get(urls[0]).content, width=\"700\", height=\"600\")\n",
        "\n",
        "display(widgets.HBox([image, widgets.VBox(buttons)]))\n"
      ],
      "metadata": {
        "cellView": "form",
        "id": "cZDLgTEQsiP2"
      },
      "execution_count": null,
      "outputs": []
    },
    {
      "cell_type": "markdown",
      "source": [
        "---\n",
        "#💦 ☺️ 감사합니다. \n",
        "\n"
      ],
      "metadata": {
        "id": "0pS2SEjN6IGW"
      }
    }
  ]
}