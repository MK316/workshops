{
  "nbformat": 4,
  "nbformat_minor": 0,
  "metadata": {
    "colab": {
      "provenance": [],
      "authorship_tag": "ABX9TyOmciIDzgxdEiZkPksLyXO7",
      "include_colab_link": true
    },
    "kernelspec": {
      "name": "python3",
      "display_name": "Python 3"
    },
    "language_info": {
      "name": "python"
    }
  },
  "cells": [
    {
      "cell_type": "markdown",
      "metadata": {
        "id": "view-in-github",
        "colab_type": "text"
      },
      "source": [
        "<a href=\"https://colab.research.google.com/github/MK316/workshops/blob/main/20230126_yonsei/ILIS_139th_Part2.ipynb\" target=\"_parent\"><img src=\"https://colab.research.google.com/assets/colab-badge.svg\" alt=\"Open In Colab\"/></a>"
      ]
    },
    {
      "cell_type": "markdown",
      "source": [
        "# 🌱 **주제: 디지털시대의 음성언어자료 이해 및 활용 [2]** \n",
        "(Leveraging the Potential of Spoken Data in the AI-Powered Digital Age)"
      ],
      "metadata": {
        "id": "OBs_64xyUbDV"
      }
    },
    {
      "cell_type": "code",
      "source": [
        "#@markdown 💠 Slide #1\n",
        "from IPython.display import Image\n",
        "Image(url='https://github.com/MK316/workshops/raw/main/page01.jpeg', width=800, height=500)"
      ],
      "metadata": {
        "cellView": "form",
        "id": "z0-xdL1Eagma"
      },
      "execution_count": null,
      "outputs": []
    },
    {
      "cell_type": "markdown",
      "source": [
        "# 📙 [4] Speech API (Application Programming Interface)"
      ],
      "metadata": {
        "id": "IABUtrkHitvP"
      }
    },
    {
      "cell_type": "markdown",
      "source": [
        "##  A. **Text-to-Speech (TTS):** e.g., {gTTS}"
      ],
      "metadata": {
        "id": "qxFv2H2TVgHr"
      }
    },
    {
      "cell_type": "markdown",
      "source": [
        "* Google Text-to-Speech\n",
        "* Amazon Polly\n",
        "* IBM Watson Text-to-Speech\n",
        "* Microsoft Azure Cognitive Services Text-to-Speech\n",
        "* AWS Transcribe\n",
        "* OpenAI GPT-3 TTS\n",
        "* DeepMind WaveNet TTS\n",
        "* Festival TTS\n",
        "* Flite TTS\n",
        "* eSpeak TTS"
      ],
      "metadata": {
        "id": "WCNdlSs4WTnk"
      }
    },
    {
      "cell_type": "markdown",
      "source": [
        "## B. **Speech-to-Text (STT):** e.g., {Whisper}"
      ],
      "metadata": {
        "id": "Mou0RQw3VrS2"
      }
    },
    {
      "cell_type": "markdown",
      "source": [
        "* Google Speech-to-Text\n",
        "* Amazon Transcribe\n",
        "* IBM Watson Speech-to-Text\n",
        "* Microsoft Azure Cognitive Services Speech-to-Text\n",
        "* AWS Transcribe\n",
        "* DeepMind WaveNet STT\n",
        "* CMU Sphinx STT\n",
        "* Kaldi STT\n",
        "* Google Cloud Speech-to-Text API\n",
        "* Baidu Speech Recognition"
      ],
      "metadata": {
        "id": "LnSCjwaCXG8h"
      }
    },
    {
      "cell_type": "markdown",
      "source": [
        "* Difine function: Text-to-Speech\n",
        "\n",
        "* **etts(\"text\"), ktts(\"text\")**"
      ],
      "metadata": {
        "id": "4WvbM8n-e7mV"
      }
    },
    {
      "cell_type": "code",
      "source": [
        "#@markdown 🚩 Making functions: etts('text'), ktts('text')\n",
        "!pip install gTTS\n",
        "from gtts import gTTS\n",
        "from IPython.display import Audio\n",
        "\n",
        "def etts(text):\n",
        "  text_to_say = text\n",
        "\n",
        "  gtts_object = gTTS(text = text_to_say,\n",
        "                     lang = \"en\",\n",
        "                    slow = False)\n",
        "  \n",
        "  gtts_object.save(\"E-audio.wav\")\n",
        "  return Audio(\"E-audio.wav\")\n",
        "\n",
        "\n",
        "def ktts(text):\n",
        "  text_to_say = text\n",
        "\n",
        "  gtts_object = gTTS(text = text_to_say,\n",
        "                     lang = \"ko\",\n",
        "                    slow = False)\n",
        "  \n",
        "  gtts_object.save(\"K-audio.wav\")\n",
        "  return Audio(\"K-audio.wav\")\n",
        "# #@markdown 🚩 Type text to say\n",
        "# print('Type texts to create audio:')\n",
        "# txt = input()\n",
        "# tts(txt)"
      ],
      "metadata": {
        "id": "bmE5kPvJqMZp",
        "cellView": "form"
      },
      "execution_count": null,
      "outputs": []
    },
    {
      "cell_type": "code",
      "source": [
        "ktts(\"안녕하세요!\")"
      ],
      "metadata": {
        "colab": {
          "base_uri": "https://localhost:8080/",
          "height": 75
        },
        "id": "PVU1gUCfcuYx",
        "outputId": "63bd1fa0-c91f-4322-addf-1414543a013d"
      },
      "execution_count": 2,
      "outputs": [
        {
          "output_type": "execute_result",
          "data": {
            "text/plain": [
              "<IPython.lib.display.Audio object>"
            ],
            "text/html": [
              "\n",
              "                <audio  controls=\"controls\" >\n",
              "                    <source src=\"data:audio/x-wav;base64,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\" type=\"audio/x-wav\" />\n",
              "                    Your browser does not support the audio element.\n",
              "                </audio>\n",
              "              "
            ]
          },
          "metadata": {},
          "execution_count": 2
        }
      ]
    },
    {
      "cell_type": "markdown",
      "source": [
        "* Coverting to a readable audio file"
      ],
      "metadata": {
        "id": "0lII7UcccBYC"
      }
    },
    {
      "cell_type": "code",
      "source": [
        "%%capture\n",
        "!ffmpeg -i K-audio.wav -acodec pcm_s16le -ar 44100 example1.wav"
      ],
      "metadata": {
        "id": "aI20I14ldsJ2"
      },
      "execution_count": 15,
      "outputs": []
    },
    {
      "cell_type": "markdown",
      "source": [
        "* Display waveform (sound signal)"
      ],
      "metadata": {
        "id": "5bui5NQaf80h"
      }
    },
    {
      "cell_type": "markdown",
      "source": [],
      "metadata": {
        "id": "kf8Qjn7cVO_L"
      }
    },
    {
      "cell_type": "markdown",
      "source": [
        "# 📙 [5] Speech API (Application Programming Interface)"
      ],
      "metadata": {
        "id": "icw1w3AOVPGC"
      }
    },
    {
      "cell_type": "markdown",
      "source": [
        "# 📙 [6] Speech API (Application Programming Interface)"
      ],
      "metadata": {
        "id": "GXIXhDYqVRH7"
      }
    }
  ]
}