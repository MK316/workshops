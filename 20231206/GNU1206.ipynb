{
  "nbformat": 4,
  "nbformat_minor": 0,
  "metadata": {
    "colab": {
      "private_outputs": true,
      "provenance": [],
      "authorship_tag": "ABX9TyNlYL/eSmeEPOgYzVqMYs9v",
      "include_colab_link": true
    },
    "kernelspec": {
      "name": "python3",
      "display_name": "Python 3"
    },
    "language_info": {
      "name": "python"
    }
  },
  "cells": [
    {
      "cell_type": "markdown",
      "metadata": {
        "id": "view-in-github",
        "colab_type": "text"
      },
      "source": [
        "<a href=\"https://colab.research.google.com/github/MK316/workshops/blob/main/20231206/GNU1206.ipynb\" target=\"_parent\"><img src=\"https://colab.research.google.com/assets/colab-badge.svg\" alt=\"Open In Colab\"/></a>"
      ]
    },
    {
      "cell_type": "markdown",
      "source": [
        "---\n",
        "# 🌿 **GNU 문화교양아카데미 #8**\n",
        "\n",
        "**🐾 AI가 열어놓은 새로운 세상: ChatGPT와 같은 생성형 AI 도구들의 이해**\n",
        "\n",
        "+ 일시: 2023년 12월 6일 14:00~17:00\n",
        "+ 강사: 김미란 (경상국립대학교 영어교육과)\n",
        "\n",
        "---"
      ],
      "metadata": {
        "id": "1ajKho21tJRz"
      }
    },
    {
      "cell_type": "markdown",
      "source": [
        "## 🔍 Getting ready (install packages)"
      ],
      "metadata": {
        "id": "dgOs0v27JmXm"
      }
    },
    {
      "cell_type": "code",
      "source": [
        "!pip install qrcode"
      ],
      "metadata": {
        "id": "SPKP0ZDMBqLk"
      },
      "execution_count": null,
      "outputs": []
    },
    {
      "cell_type": "code",
      "execution_count": null,
      "metadata": {
        "id": "MhJVnVt6nnX5"
      },
      "outputs": [],
      "source": [
        "%%capture\n",
        "!pip install ipywidgets gtts gradio pyqrcode"
      ]
    },
    {
      "cell_type": "markdown",
      "source": [
        "## 🔍 Quick Survey (간단한 사전 설문)"
      ],
      "metadata": {
        "id": "FXXwzaKBD7Wu"
      }
    },
    {
      "cell_type": "code",
      "source": [
        "#@markdown 🌀 Survey link QR code\n",
        "import qrcode\n",
        "from IPython.display import display\n",
        "import matplotlib.pyplot as plt\n",
        "\n",
        "# 웹주소 설정\n",
        "web_url = 'https://forms.gle/RNyve3nrfiLw8KX27'\n",
        "\n",
        "# QR 코드 생성\n",
        "qr = qrcode.QRCode(\n",
        "    version=1,\n",
        "    error_correction=qrcode.constants.ERROR_CORRECT_L,\n",
        "    box_size=14,\n",
        "    border=2,\n",
        ")\n",
        "qr.add_data(web_url)\n",
        "qr.make(fit=True)\n",
        "\n",
        "# QR 코드 이미지 생성\n",
        "img = qr.make_image(fill_color=\"black\", back_color=\"white\")\n",
        "\n",
        "# QR 코드 이미지 저장\n",
        "img.save('/content/qr_code.png')\n",
        "\n",
        "# 저장된 QR 코드 이미지 표시\n",
        "plt.imshow(img, cmap='gray')\n",
        "plt.axis('off')  # 축 표시 제거\n",
        "plt.show()\n"
      ],
      "metadata": {
        "cellView": "form",
        "id": "QyMxeYjTDWxx"
      },
      "execution_count": null,
      "outputs": []
    },
    {
      "cell_type": "code",
      "source": [
        "#@markdown 🌀 **Survey results and comments**\n",
        "import ipywidgets as widgets\n",
        "from gtts import gTTS\n",
        "from IPython.display import Audio, display\n",
        "import os\n",
        "\n",
        "# Define the options and their corresponding messages\n",
        "options = {\n",
        "    \"10점 이\": \"아쉽지만 오늘 특강은 당신에게 큰 도움이 되지 않을 듯합니다. 지금 편하게 일어나셔서 나가셔도 됩니다.\",\n",
        "    \"8-9점\": \"특강을 듣다가 지루하면 나가셔도 됩니다.\",\n",
        "    \"5-7점\": \"오늘 특강에서 새로운 점들을 조금은 배워 가실 수 있습니다.\",\n",
        "    \"5점 이하\": \"오늘 특강은 바로 당신을 위해 준비했습니다. 참석해 주셔서 감사합니다!\",\n",
        "    \"설문 안함\": \"제가 드릴 수 있는 말씀은 '인공지능 시대는 지식이 아니라 경험의 시대'라는 것뿐이네요.\"\n",
        "}\n",
        "\n",
        "audio_output = widgets.Output()\n",
        "\n",
        "def play_audio(b):\n",
        "    with audio_output:\n",
        "        audio_output.clear_output()\n",
        "\n",
        "        # Get the message for the clicked option\n",
        "        message = options[b.description]\n",
        "\n",
        "        # Convert message to speech\n",
        "        tts = gTTS(text=message, lang='ko')\n",
        "        tts.save(\"message.mp3\")\n",
        "\n",
        "        # Play the new audio\n",
        "        display(Audio(\"message.mp3\", autoplay=True))\n",
        "\n",
        "# Create buttons for each option and assign the callback\n",
        "buttons = []\n",
        "for option in options:\n",
        "    button = widgets.Button(description=option, layout=widgets.Layout(width='300px', height='50px'))\n",
        "    button.on_click(play_audio)\n",
        "    buttons.append(button)\n",
        "\n",
        "# Display the buttons and audio output\n",
        "display(widgets.VBox(buttons + [audio_output]))\n"
      ],
      "metadata": {
        "cellView": "form",
        "id": "puPXJKPnrVba"
      },
      "execution_count": null,
      "outputs": []
    },
    {
      "cell_type": "markdown",
      "source": [
        "---\n",
        "# 🌿 Multi-modality\n",
        "---"
      ],
      "metadata": {
        "id": "6nz1spQG3mTl"
      }
    },
    {
      "cell_type": "markdown",
      "source": [
        "## [1] Text-to-Speech"
      ],
      "metadata": {
        "id": "h-KCbKww3zND"
      }
    },
    {
      "cell_type": "code",
      "source": [
        "#@markdown TTS & Gradio link\n",
        "import gradio as gr\n",
        "from gtts import gTTS\n",
        "import os\n",
        "\n",
        "def generate_speech(text, language):\n",
        "    tts = gTTS(text=text, lang=language)\n",
        "    tts.save(\"output.mp3\")\n",
        "    return \"output.mp3\"\n",
        "\n",
        "language_options = {\n",
        "    \"American English\": 'en',\n",
        "    \"Korean\": 'ko',\n",
        "    \"French\": 'fr',\n",
        "    'Japanese': 'ja',\n",
        "    'Chinese': 'zh'\n",
        "    # Add more languages as needed\n",
        "}\n",
        "\n",
        "iface = gr.Interface(\n",
        "    fn=generate_speech,\n",
        "    inputs=[\n",
        "        gr.Textbox(lines=2, placeholder=\"Enter text here...\"),\n",
        "        gr.Radio(choices=list(language_options.keys()), label=\"Language\")\n",
        "    ],\n",
        "    outputs=\"audio\",\n",
        "    title=\"Text-to-Speech Converter\",\n",
        "    description=\"Enter text and choose a language to convert text to speech.\"\n",
        ")\n",
        "\n",
        "def process_text_and_language(text, language):\n",
        "    language_code = language_options[language]\n",
        "    return generate_speech(text, language_code)\n",
        "\n",
        "iface = gr.Interface(\n",
        "    fn=process_text_and_language,\n",
        "    inputs=[\n",
        "        gr.Textbox(lines=2, placeholder=\"Enter text here...\"),\n",
        "        gr.Radio(choices=list(language_options.keys()), label=\"Language\")\n",
        "    ],\n",
        "    outputs=\"audio\",\n",
        "    title=\"Text-to-Speech Converter\",\n",
        "    description=\"Enter text and choose a language to convert text to speech.\"\n",
        ")\n",
        "\n",
        "iface.launch()\n"
      ],
      "metadata": {
        "cellView": "form",
        "id": "w4IdGCfs38-3"
      },
      "execution_count": null,
      "outputs": []
    },
    {
      "cell_type": "markdown",
      "source": [
        "+ English: The world is chaning quickly.\n",
        "+ Chinese: 世界正在迅速变化. (Shìjiè zhèngzài xùnsù biànhuà)\n",
        "+ Japanese: 世界は急速に変わっている. (Sekai wa kyūsoku ni kawatte iru)\n",
        "+ French: Le monde change rapidement."
      ],
      "metadata": {
        "id": "GCpLgM0355jw"
      }
    },
    {
      "cell_type": "code",
      "source": [
        "\n",
        "#@markdown Enter the link, save it as a file, and display\n",
        "import pyqrcode\n",
        "from pyqrcode import QRCode\n",
        "\n",
        "s = input(\"Paste the link: \")\n",
        "\n",
        "# Generate QR code\n",
        "url = pyqrcode.create(s)\n",
        "\n",
        "# Create and save the png file naming \"myqr.png\"\n",
        "url.svg(\"myqrcode.svg\", scale=12)\n",
        "\n",
        "from IPython.display import SVG, display\n",
        "def show_svg(file):\n",
        "    display(SVG(file))\n",
        "\n",
        "show_svg(\"myqrcode.svg\")"
      ],
      "metadata": {
        "cellView": "form",
        "id": "kyQ6ayjs4NXi"
      },
      "execution_count": null,
      "outputs": []
    },
    {
      "cell_type": "markdown",
      "source": [
        "## [2] Speech-to-text (STT)"
      ],
      "metadata": {
        "id": "UV1uPmhn7tF2"
      }
    },
    {
      "cell_type": "code",
      "source": [
        "%%capture\n",
        "# !pip install gradio\n",
        "!pip install openai-whisper\n",
        "# !pip install qrcode\n",
        "!pip install git+https://github.com/openai/whisper.git"
      ],
      "metadata": {
        "id": "ItJFVgUG7xAJ"
      },
      "execution_count": null,
      "outputs": []
    },
    {
      "cell_type": "code",
      "source": [
        "#@markdown App using Whisper: speech to text\n",
        "import gradio as gr\n",
        "import whisper\n",
        "\n",
        "def speech_to_text(audio_file_path):\n",
        "    try:\n",
        "        model = whisper.load_model(\"tiny\")  # Using \"tiny\" for better compatibility\n",
        "        audio = whisper.load_audio(audio_file_path)\n",
        "        result = model.transcribe(audio)\n",
        "        return result[\"text\"]\n",
        "    except Exception as e:\n",
        "        return f\"An error occurred: {str(e)}\"\n",
        "\n",
        "iface = gr.Interface(\n",
        "    fn=speech_to_text,\n",
        "    inputs=gr.Audio(type=\"filepath\", label=\"Record your voice\"),\n",
        "    outputs=\"text\",\n",
        "    title=\"Speech to Text Converter\",\n",
        "    description=\"Record your voice and convert it to text using Whisper.\"\n",
        ")\n",
        "\n",
        "iface.launch()\n"
      ],
      "metadata": {
        "cellView": "form",
        "id": "34aBi4PK8MjR"
      },
      "execution_count": null,
      "outputs": []
    },
    {
      "cell_type": "markdown",
      "source": [
        "💾 [sample speech](https://github.com/MK316/Fall2023/blob/b5ce48a81cb4f99332375fe2afc5cca203c255fe/Engedu/data/Female01_mono.wav)\n",
        "\n",
        "💾 [sample korean](https://github.com/MK316/workshops/blob/6444831434becc4777c79cec3623c9fbf659a74c/data/sc_sample.wav)"
      ],
      "metadata": {
        "id": "Xq6x1QMH8jPM"
      }
    },
    {
      "cell_type": "code",
      "source": [
        "\n",
        "#@markdown Enter the link, save it as a file, and display\n",
        "import pyqrcode\n",
        "from pyqrcode import QRCode\n",
        "\n",
        "s = input(\"Paste the link: \")\n",
        "\n",
        "# Generate QR code\n",
        "url = pyqrcode.create(s)\n",
        "\n",
        "# Create and save the png file naming \"myqr.png\"\n",
        "url.svg(\"myqrcode.svg\", scale=12)\n",
        "\n",
        "from IPython.display import SVG, display\n",
        "def show_svg(file):\n",
        "    display(SVG(file))\n",
        "\n",
        "show_svg(\"myqrcode.svg\")"
      ],
      "metadata": {
        "cellView": "form",
        "id": "gCEZl1es8TtW"
      },
      "execution_count": null,
      "outputs": []
    },
    {
      "cell_type": "markdown",
      "source": [
        "## [3] Composing music (노래 작사 작곡)\n",
        "- Go GNU! - generated by SUNO AI"
      ],
      "metadata": {
        "id": "yM40IpIYtU9C"
      }
    },
    {
      "cell_type": "code",
      "source": [
        "#@markdown Go GNU song (youtube link)\n",
        "from IPython.display import YouTubeVideo\n",
        "\n",
        "# Display a YouTube video in Google Colab with specific dimensions\n",
        "YouTubeVideo('29hHd9nD0QI', width=800, height=600)\n"
      ],
      "metadata": {
        "cellView": "form",
        "id": "Ev1yoI8METme"
      },
      "execution_count": null,
      "outputs": []
    },
    {
      "cell_type": "markdown",
      "source": [
        "🐳**Online AI sites**\n",
        "\n",
        "|Sites|Keywords|\n",
        "|---|---|\n",
        "|[ChatGPT](https://chat.openai.com)| |\n",
        "|[Speechnotes.co](https://speechnotes.co/dictate/)| Speech-to-Text|\n",
        "|[elevenlab](https://elevenlabs.io/)|Text-to-Speech|\n",
        "|[suno](https://www.suno.ai/)|song generating AI|\n",
        "|[soulmachines.com](https://soulmachines.com)| talking AI with human avatar|\n"
      ],
      "metadata": {
        "id": "OCymgq4p99eI"
      }
    },
    {
      "cell_type": "markdown",
      "source": [
        "# Part II"
      ],
      "metadata": {
        "id": "W4HCPkqsBbKd"
      }
    },
    {
      "cell_type": "markdown",
      "source": [
        "## Gradio live link"
      ],
      "metadata": {
        "id": "1pvtzKljuOsE"
      }
    },
    {
      "cell_type": "code",
      "source": [
        "%%capture\n",
        "!pip install gradio"
      ],
      "metadata": {
        "id": "e63MTb2DuQtV"
      },
      "execution_count": null,
      "outputs": []
    }
  ]
}