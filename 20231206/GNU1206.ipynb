{
  "nbformat": 4,
  "nbformat_minor": 0,
  "metadata": {
    "colab": {
      "private_outputs": true,
      "provenance": [],
      "authorship_tag": "ABX9TyPZTauOpnXv+b1U4Yl0Unte",
      "include_colab_link": true
    },
    "kernelspec": {
      "name": "python3",
      "display_name": "Python 3"
    },
    "language_info": {
      "name": "python"
    }
  },
  "cells": [
    {
      "cell_type": "markdown",
      "metadata": {
        "id": "view-in-github",
        "colab_type": "text"
      },
      "source": [
        "<a href=\"https://colab.research.google.com/github/MK316/workshops/blob/main/20231206/GNU1206.ipynb\" target=\"_parent\"><img src=\"https://colab.research.google.com/assets/colab-badge.svg\" alt=\"Open In Colab\"/></a>"
      ]
    },
    {
      "cell_type": "markdown",
      "source": [
        "---\n",
        "# 🌿 **GNU 문화교양아카데미 #8**\n",
        "\n",
        "**🐾 AI가 열어놓은 새로운 세상: ChatGPT와 같은 생성형 AI 도구들의 이해**\n",
        "\n",
        "+ 일시: 2023년 12월 6일 14:00~17:00\n",
        "+ 강사: 김미란 (경상국립대학교 영어교육과)\n",
        "\n",
        "---"
      ],
      "metadata": {
        "id": "1ajKho21tJRz"
      }
    },
    {
      "cell_type": "markdown",
      "source": [
        "## Getting ready (install packages)"
      ],
      "metadata": {
        "id": "dgOs0v27JmXm"
      }
    },
    {
      "cell_type": "code",
      "execution_count": null,
      "metadata": {
        "id": "MhJVnVt6nnX5"
      },
      "outputs": [],
      "source": [
        "%%capture\n",
        "!pip install ipywidgets gtts gradio"
      ]
    },
    {
      "cell_type": "code",
      "source": [
        "!pip install qrcode"
      ],
      "metadata": {
        "id": "aOrK5_gARcfu"
      },
      "execution_count": null,
      "outputs": []
    },
    {
      "cell_type": "markdown",
      "source": [
        "## Quick Survey (간단한 사전 설문)"
      ],
      "metadata": {
        "id": "FXXwzaKBD7Wu"
      }
    },
    {
      "cell_type": "code",
      "source": [
        "#@markdown 🌀 Survey link QR code\n",
        "import qrcode\n",
        "from IPython.display import display\n",
        "import matplotlib.pyplot as plt\n",
        "\n",
        "# 웹주소 설정\n",
        "web_url = 'https://forms.gle/RNyve3nrfiLw8KX27'\n",
        "\n",
        "# QR 코드 생성\n",
        "qr = qrcode.QRCode(\n",
        "    version=1,\n",
        "    error_correction=qrcode.constants.ERROR_CORRECT_L,\n",
        "    box_size=14,\n",
        "    border=2,\n",
        ")\n",
        "qr.add_data(web_url)\n",
        "qr.make(fit=True)\n",
        "\n",
        "# QR 코드 이미지 생성\n",
        "img = qr.make_image(fill_color=\"black\", back_color=\"white\")\n",
        "\n",
        "# QR 코드 이미지 저장\n",
        "img.save('/content/qr_code.png')\n",
        "\n",
        "# 저장된 QR 코드 이미지 표시\n",
        "plt.imshow(img, cmap='gray')\n",
        "plt.axis('off')  # 축 표시 제거\n",
        "plt.show()\n"
      ],
      "metadata": {
        "cellView": "form",
        "id": "QyMxeYjTDWxx"
      },
      "execution_count": null,
      "outputs": []
    },
    {
      "cell_type": "code",
      "source": [
        "#@markdown 🌀 **Survey results and comments**\n",
        "import ipywidgets as widgets\n",
        "from gtts import gTTS\n",
        "from IPython.display import Audio, display\n",
        "import os\n",
        "\n",
        "# Define the options and their corresponding messages\n",
        "options = {\n",
        "    \"10점 이\": \"아쉽지만 오늘 특강은 당신에게 큰 도움이 되지 않을 듯합니다. 지금 편하게 일어나셔서 나가셔도 됩니다.\",\n",
        "    \"8-9점\": \"특강을 듣다가 지루하면 나가셔도 됩니다.\",\n",
        "    \"5-7점\": \"오늘 특강에서 새로운 점들을 조금은 배워 가실 수 있습니다.\",\n",
        "    \"5점 이하\": \"오늘 특강은 바로 당신을 위해 준비했습니다. 참석해 주셔서 감사합니다!\",\n",
        "    \"설문 안함\": \"제가 드릴 수 있는 말씀은 '인공지능 시대는 지식이 아니라 경험의 시대'라는 것뿐이네요.\"\n",
        "}\n",
        "\n",
        "audio_output = widgets.Output()\n",
        "\n",
        "def play_audio(b):\n",
        "    with audio_output:\n",
        "        audio_output.clear_output()\n",
        "\n",
        "        # Get the message for the clicked option\n",
        "        message = options[b.description]\n",
        "\n",
        "        # Convert message to speech\n",
        "        tts = gTTS(text=message, lang='ko')\n",
        "        tts.save(\"message.mp3\")\n",
        "\n",
        "        # Play the new audio\n",
        "        display(Audio(\"message.mp3\", autoplay=True))\n",
        "\n",
        "# Create buttons for each option and assign the callback\n",
        "buttons = []\n",
        "for option in options:\n",
        "    button = widgets.Button(description=option, layout=widgets.Layout(width='300px', height='50px'))\n",
        "    button.on_click(play_audio)\n",
        "    buttons.append(button)\n",
        "\n",
        "# Display the buttons and audio output\n",
        "display(widgets.VBox(buttons + [audio_output]))\n"
      ],
      "metadata": {
        "cellView": "form",
        "id": "puPXJKPnrVba"
      },
      "execution_count": null,
      "outputs": []
    },
    {
      "cell_type": "markdown",
      "source": [
        "## Gradio live link"
      ],
      "metadata": {
        "id": "1pvtzKljuOsE"
      }
    },
    {
      "cell_type": "code",
      "source": [
        "%%capture\n",
        "!pip install gradio"
      ],
      "metadata": {
        "id": "e63MTb2DuQtV"
      },
      "execution_count": null,
      "outputs": []
    },
    {
      "cell_type": "markdown",
      "source": [
        "# Composing music (노래 작사 작곡)\n",
        "- Go GNU! - generated by SUNO AI"
      ],
      "metadata": {
        "id": "yM40IpIYtU9C"
      }
    },
    {
      "cell_type": "code",
      "source": [
        "#@markdown Go GNU song (youtube link)\n",
        "from IPython.display import YouTubeVideo\n",
        "\n",
        "# Display a YouTube video in Google Colab with specific dimensions\n",
        "YouTubeVideo('29hHd9nD0QI', width=800, height=600)\n"
      ],
      "metadata": {
        "cellView": "form",
        "id": "Ev1yoI8METme"
      },
      "execution_count": null,
      "outputs": []
    }
  ]
}