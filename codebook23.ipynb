{
  "nbformat": 4,
  "nbformat_minor": 0,
  "metadata": {
    "colab": {
      "provenance": [],
      "authorship_tag": "ABX9TyPFKqj/hwrxAveax7Ip6mOK",
      "include_colab_link": true
    },
    "kernelspec": {
      "name": "python3",
      "display_name": "Python 3"
    },
    "language_info": {
      "name": "python"
    }
  },
  "cells": [
    {
      "cell_type": "markdown",
      "metadata": {
        "id": "view-in-github",
        "colab_type": "text"
      },
      "source": [
        "<a href=\"https://colab.research.google.com/github/MK316/workshops/blob/main/codebook23.ipynb\" target=\"_parent\"><img src=\"https://colab.research.google.com/assets/colab-badge.svg\" alt=\"Open In Colab\"/></a>"
      ]
    },
    {
      "cell_type": "markdown",
      "source": [
        "# 🐧 **Frequently used codes: this is for myself.**"
      ],
      "metadata": {
        "id": "TKJCTozvjsc-"
      }
    },
    {
      "cell_type": "markdown",
      "source": [
        "# File from other **repository**"
      ],
      "metadata": {
        "id": "SnujrBgFkAXr"
      }
    },
    {
      "cell_type": "code",
      "source": [
        "#@markdown 🎯 Mount Google drive (This requires log-in.)\n",
        "from google.colab import drive\n",
        "drive.mount('/content/drive/')"
      ],
      "metadata": {
        "cellView": "form",
        "id": "9PfTEJ1KjwzF"
      },
      "execution_count": null,
      "outputs": []
    },
    {
      "cell_type": "code",
      "execution_count": null,
      "metadata": {
        "cellView": "form",
        "id": "iBqqn79Wjo-8"
      },
      "outputs": [],
      "source": [
        "#@markdown 🎯 Unmount Google drive (clearing): optional\n",
        "\n",
        "from google.colab import drive\n",
        "drive.flush_and_unmount()"
      ]
    },
    {
      "cell_type": "markdown",
      "source": [
        "# IPython.display"
      ],
      "metadata": {
        "id": "cNIQC4pklzZ3"
      }
    },
    {
      "cell_type": "code",
      "source": [
        "#@markdown 🎯 Audio display\n",
        "from IPython.display import Audio\n",
        "\n",
        "Audio(url = \"/content/sample.wav\", autoplay = True)"
      ],
      "metadata": {
        "cellView": "form",
        "id": "M6TPkTjtl8eo"
      },
      "execution_count": null,
      "outputs": []
    },
    {
      "cell_type": "code",
      "source": [
        "#@markdown 🎯 Image display\n",
        "from IPython.display import Image\n",
        "Image(url='https://github.com/MK316/workshops/raw/main/20230126_yonsei/slides/article_voiceclone.png', width=800, height=600)"
      ],
      "metadata": {
        "cellView": "form",
        "id": "7tG58IU0mR7o"
      },
      "execution_count": null,
      "outputs": []
    },
    {
      "cell_type": "code",
      "source": [
        "#@markdown 🎯 Youtube video display\n",
        "from IPython.display import YouTubeVideo, display\n",
        "video = YouTubeVideo(\"aPswnDcteS4\", width=500)\n",
        "display(video)"
      ],
      "metadata": {
        "cellView": "form",
        "id": "-VzdTMOdmr4u"
      },
      "execution_count": null,
      "outputs": []
    }
  ]
}