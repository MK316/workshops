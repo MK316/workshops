{
  "nbformat": 4,
  "nbformat_minor": 0,
  "metadata": {
    "colab": {
      "provenance": [],
      "authorship_tag": "ABX9TyMgClzY9Z6bPysg/9P+BpLS",
      "include_colab_link": true
    },
    "kernelspec": {
      "name": "python3",
      "display_name": "Python 3"
    },
    "language_info": {
      "name": "python"
    }
  },
  "cells": [
    {
      "cell_type": "markdown",
      "metadata": {
        "id": "view-in-github",
        "colab_type": "text"
      },
      "source": [
        "<a href=\"https://colab.research.google.com/github/MK316/workshops/blob/main/codebook23.ipynb\" target=\"_parent\"><img src=\"https://colab.research.google.com/assets/colab-badge.svg\" alt=\"Open In Colab\"/></a>"
      ]
    },
    {
      "cell_type": "markdown",
      "source": [
        "# Codebook for myself"
      ],
      "metadata": {
        "id": "TKJCTozvjsc-"
      }
    },
    {
      "cell_type": "markdown",
      "source": [
        "## File from other repository"
      ],
      "metadata": {
        "id": "SnujrBgFkAXr"
      }
    },
    {
      "cell_type": "code",
      "source": [
        "#@markdown 🎯 Mount Google drive (This requires log-in.)\n",
        "from google.colab import drive\n",
        "drive.mount('/content/drive/')"
      ],
      "metadata": {
        "cellView": "form",
        "id": "9PfTEJ1KjwzF"
      },
      "execution_count": null,
      "outputs": []
    },
    {
      "cell_type": "code",
      "execution_count": null,
      "metadata": {
        "cellView": "form",
        "id": "iBqqn79Wjo-8"
      },
      "outputs": [],
      "source": [
        "#@markdown 🎯 Unmount Google drive (clearing): optional\n",
        "\n",
        "from google.colab import drive\n",
        "drive.flush_and_unmount()"
      ]
    }
  ]
}