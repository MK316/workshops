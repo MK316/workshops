{
  "nbformat": 4,
  "nbformat_minor": 0,
  "metadata": {
    "colab": {
      "private_outputs": true,
      "provenance": [],
      "authorship_tag": "ABX9TyMBbaj7XLqwAVfeAepoCPCb",
      "include_colab_link": true
    },
    "kernelspec": {
      "name": "python3",
      "display_name": "Python 3"
    },
    "language_info": {
      "name": "python"
    }
  },
  "cells": [
    {
      "cell_type": "markdown",
      "metadata": {
        "id": "view-in-github",
        "colab_type": "text"
      },
      "source": [
        "<a href=\"https://colab.research.google.com/github/MK316/workshops/blob/main/2023CSU/CU_part3.ipynb\" target=\"_parent\"><img src=\"https://colab.research.google.com/assets/colab-badge.svg\" alt=\"Open In Colab\"/></a>"
      ]
    },
    {
      "cell_type": "markdown",
      "source": [
        "# 🌿 **CSU Part 3 for coding demo** (Oct. 31) 🌿\n",
        "\n",
        "_What can coding do for your language learning and classroom?_\n",
        "\n",
        "---\n"
      ],
      "metadata": {
        "id": "WPGOppyu6pH7"
      }
    },
    {
      "cell_type": "markdown",
      "source": [
        "## Setting: Install and import necessary libraries"
      ],
      "metadata": {
        "id": "W8cmlMZoVdUJ"
      }
    },
    {
      "cell_type": "code",
      "source": [
        "#@markdown Install libraries\n",
        "%%capture\n",
        "!pip install gTTS\n",
        "# !pip install gradio\n",
        "!pip install pyqrcode\n",
        "!pip install pandas openpyxl\n",
        "!pip install gspread\n",
        "!pip install qrcode\n",
        "\n",
        "!pip install transformers\n",
        "!pip install IPython nltk\n",
        "#@markdown 🌱 Set-up: install, import libraries to use {pyqrcode, gtts, IPython, pandas, numpy, nltk, random}\n",
        "\n",
        "!pip install wordcloud\n",
        "!pip install gradio\n",
        "!wget https://github.com/google/fonts/raw/main/ofl/nanumgothic/NanumGothic-Regular.ttf -O NanumGothic.ttf\n",
        "# display, qr code\n",
        "from IPython.display import YouTubeVideo, Image, Audio, display\n",
        "!pip install gtts\n",
        "import pandas as pd\n",
        "import pyqrcode\n",
        "from pyqrcode import QRCode\n",
        "from gtts import gTTS\n",
        "from ipywidgets import widgets\n",
        "import os\n",
        "import numpy as np\n",
        "import random\n",
        "# wordcloud\n",
        "!pip install wordcloud nltk\n",
        "import nltk\n",
        "from nltk.corpus import stopwords\n",
        "\n",
        "nltk.download('stopwords')\n",
        "english_stopwords = set(stopwords.words('english'))\n",
        "\n",
        "import urllib.request"
      ],
      "metadata": {
        "id": "EnbAbBLWTkkJ",
        "cellView": "form"
      },
      "execution_count": null,
      "outputs": []
    },
    {
      "cell_type": "markdown",
      "source": [
        "# **🌀 Topic [1]: QR code for a survey**\n",
        "\n",
        "[Survey link](https://forms.gle/fiGANLGgWwerxB7M8)"
      ],
      "metadata": {
        "id": "tqViWBQzWWRw"
      }
    },
    {
      "cell_type": "code",
      "source": [
        "#@markdown 📢 Instruction: (in Korean)\n",
        "def tts(text):\n",
        "  tts = gTTS(text, lang = \"ko\", slow = False)\n",
        "  tts.save(\"myaudio.mp3\")\n",
        "  return Audio(\"myaudio.mp3\")\n",
        "\n",
        "txt = \"\"\"\n",
        "안녕하세요 여러분! 시작에 앞서 아주 간단한 설문을 함께 해 보도록 하겠습니다. 설문은 1분에서 2분 정도 소요됩니다.\n",
        "아래 큐알코드를 읽은 후, 설문 링크를 따라가서 설문을 마쳐 주시기 바랍니다. 결과는 한 2분 후쯤?\n",
        "김미란 선생님이 참여한 분 중 한명을 무작위로 뽑아 기념품을 드릴 거예요. 오늘 행사를 기념할 수 있도록 각인이 새겨진 텀블러이며 세상에 딱 3개밖에 없는 기념품입니다.\n",
        "\"\"\"\n",
        "\n",
        "tts(txt)\n",
        "Audio(\"myaudio.mp3\", autoplay=True)"
      ],
      "metadata": {
        "cellView": "form",
        "id": "I3qKBRY4DYe_"
      },
      "execution_count": null,
      "outputs": []
    },
    {
      "cell_type": "code",
      "source": [
        "#@markdown ✅ Import {pyqrcode} and enter link address\n",
        "import pyqrcode\n",
        "from pyqrcode import QRCode\n",
        "\n",
        "#@markdown Enter the link, save it as a file, and display\n",
        "s = input(\"Paste the link: \")\n",
        "\n",
        "# Generate QR code\n",
        "url = pyqrcode.create(s)\n",
        "\n",
        "# Create and save the png file naming \"myqr.png\"\n",
        "url.svg(\"myqrcode.svg\", scale=10)\n",
        "\n",
        "from IPython.display import SVG, display\n",
        "def show_svg(file):\n",
        "    display(SVG(file))\n",
        "\n",
        "show_svg(\"myqrcode.svg\")"
      ],
      "metadata": {
        "cellView": "form",
        "id": "qIIjs-wgWZ0O"
      },
      "execution_count": null,
      "outputs": []
    },
    {
      "cell_type": "markdown",
      "source": [
        "# 🌀 **Topic [2]: Random pick (Choose ONE)** ⛔ [Demo only]\n",
        "\n",
        "The codes below (1~3) can run only for the authentified user (Google account)\n",
        "https://docs.google.com/spreadsheets/d/12RcKSAsdSCA1LaeR3_y_V2vhJvTTAaLCqRuIt7mICRU/edit?usp=sharing"
      ],
      "metadata": {
        "id": "4S_ZZFymtrGR"
      }
    },
    {
      "cell_type": "code",
      "source": [
        "#@markdown [1] Access My Google drive\n",
        "from google.colab import auth\n",
        "auth.authenticate_user()\n",
        "import gspread\n",
        "from google.auth import default\n",
        "creds, _ = default()\n",
        "gc = gspread.authorize(creds)\n",
        "\n",
        "spreadsheet = gc.open('CSU1030')\n",
        "# Select a specific worksheet\n",
        "worksheet = spreadsheet.sheet1\n",
        "\n",
        "# Get all values in the worksheet\n",
        "values = worksheet.get_all_values()\n",
        "\n",
        "# Convert values to a pandas DataFrame if needed\n",
        "import pandas as pd\n",
        "df = pd.DataFrame(values)\n",
        "df.columns = df.iloc[0]  # Set first row as column names\n",
        "df = df[1:]  # Remove first row\n",
        "df = df.reset_index(drop=True)\n",
        "n1 = len(df['Four-digit-phone-number'])\n",
        "print('Total responses: %d'%n1)\n",
        "print('='*30)\n",
        "print(df['Four-digit-phone-number'])"
      ],
      "metadata": {
        "cellView": "form",
        "id": "2tlpOX_6xdbZ"
      },
      "execution_count": null,
      "outputs": []
    },
    {
      "cell_type": "code",
      "source": [
        "#@markdown [2] Random pick and say the 4 digits of phone number selected!\n",
        "import random\n",
        "from gtts import gTTS\n",
        "from IPython.display import Audio, display\n",
        "\n",
        "# Ask the user for the number of items\n",
        "n = n1\n",
        "\n",
        "# Create a list from 1 to n\n",
        "items = list(range(0, n+1))\n",
        "\n",
        "# Randomly pick one item\n",
        "picked_item = random.choice(items)\n",
        "phonum = df['Four-digit-phone-number'][picked_item]\n",
        "\n",
        "def digit_to_word(digit):\n",
        "    digit_word_map = {\n",
        "        '0': 'zero',\n",
        "        '1': 'one',\n",
        "        '2': 'two',\n",
        "        '3': 'three',\n",
        "        '4': 'four',\n",
        "        '5': 'five',\n",
        "        '6': 'six',\n",
        "        '7': 'seven',\n",
        "        '8': 'eight',\n",
        "        '9': 'nine',\n",
        "    }\n",
        "    return digit_word_map[digit]\n",
        "\n",
        "phonum_str = '-'.join(digit_to_word(d) for d in str(phonum))\n",
        "message = f\"Okay, out of {n} participants, I'll pick the row {picked_item}. Raise your hand if the last 4 digits of your phone number are {phonum_str}. Congratulations!\"\n",
        "\n",
        "\n",
        "# Print the picked item\n",
        "# print(f\"Picked item: {picked_item}\")\n",
        "\n",
        "# Generate the message\n",
        "# message = f\"Okay, out of {n} participants, I'll pick the row {picked_item}. Raise your hand if the last 4 digits of your phone number is {phonum}. Congratulations!\"\n",
        "\n",
        "# Convert the message to audio\n",
        "tts = gTTS(message, lang='en', tld=\"us\")\n",
        "audio_file = \"temp_audio.mp3\"\n",
        "tts.save(audio_file)\n",
        "\n",
        "# Display the audio to play using IPython\n",
        "display(Audio(audio_file, autoplay=True))\n"
      ],
      "metadata": {
        "cellView": "form",
        "id": "XTw9llQJVFHL"
      },
      "execution_count": null,
      "outputs": []
    },
    {
      "cell_type": "markdown",
      "source": [
        "**Random grouping of students (e.g., 30 students into 5 members)**"
      ],
      "metadata": {
        "id": "Cz5GyRBeufko"
      }
    },
    {
      "cell_type": "code",
      "source": [
        "#@markdown Names (30) to dataframe\n",
        "names = ['Olivia', 'Emma', 'Ava', 'Sophia', 'Isabella', 'Charlotte', 'Amelia', 'Mia', 'Harper', 'Evelyn', 'Liam', 'Noah', 'Oliver', 'Elijah', 'William', 'James', 'Benjamin', 'Lucas', 'Henry', 'Alexander', 'Mason', 'Michael', 'Ethan', 'Daniel', 'Jacob', 'Logan', 'Jackson', 'Levi', 'Sebastian', 'Mateo']\n",
        "df = pd.DataFrame()\n",
        "df[\"Names\"] = names\n",
        "attlist = df.Names.values.tolist()\n",
        "\n",
        "def grouping(l, n):\n",
        "    for i in range(0, len(l), n):\n",
        "        yield l[i:i + n]\n",
        "\n",
        "print(\"Number of enrolled students: %d\"%len(df['Names']))\n",
        "df.head()"
      ],
      "metadata": {
        "cellView": "form",
        "id": "R-JCf54lRJK2"
      },
      "execution_count": null,
      "outputs": []
    },
    {
      "cell_type": "code",
      "source": [
        "#@markdown Random grouping\n",
        "list = __builtins__.list\n",
        "import pandas as pd\n",
        "import random\n",
        "\n",
        "def grouping(lst, group_size):\n",
        "    for i in range(0, len(lst), group_size):\n",
        "        yield lst[i:i + group_size]\n",
        "\n",
        "attlist = ['Olivia', 'Emma', 'Ava', 'Sophia', 'Isabella', 'Charlotte', 'Amelia', 'Mia', 'Harper', 'Evelyn', 'Liam', 'Noah', 'Oliver', 'Elijah', 'William', 'James', 'Benjamin', 'Lucas', 'Henry', 'Alexander', 'Mason', 'Michael', 'Ethan', 'Daniel', 'Jacob', 'Logan', 'Jackson', 'Levi', 'Sebastian', 'Mateo']\n",
        "\n",
        "random.shuffle(attlist)\n",
        "\n",
        "gsize = input(\"Size of each group: \")\n",
        "gs = int(gsize)\n",
        "\n",
        "mylist = list(grouping(attlist, gs))\n",
        "ngroups = len(mylist)\n",
        "\n",
        "print(mylist)\n",
        "print(\"=\" * 50)\n",
        "print(\"Number of groups: %d in total.\" % ngroups)\n",
        "\n",
        "gn = ngroups\n",
        "gname = []\n",
        "df1 = pd.DataFrame()\n",
        "for i in range(0, gn):\n",
        "    nam = \"G\" + str(i + 1)\n",
        "    gname.append(nam)\n",
        "\n",
        "df1['Group'] = gname\n",
        "df1['Members'] = mylist\n",
        "\n",
        "df1\n"
      ],
      "metadata": {
        "cellView": "form",
        "id": "KWfag7PvU5Lo"
      },
      "execution_count": null,
      "outputs": []
    },
    {
      "cell_type": "code",
      "source": [
        "\n",
        "#@markdown Save the list to my Google drive (and automatically unmount after saving):\n",
        "from google.colab import drive\n",
        "drive.mount('/content/drive')\n",
        "fn = input('file name: ')\n",
        "path = '/content/drive/My Drive/myclass/S2023/' + fn\n",
        "with open(path, 'w', encoding = 'utf-8-sig') as f:\n",
        "  df1.to_csv(f, index=False)\n",
        "\n",
        "print(\"=\"*50)\n",
        "print(\"Saved file: \")\n",
        "data = pd.read_csv(path)\n",
        "print(data)\n",
        "res = input(\"Unmount drive? (y or n)\")\n",
        "\n",
        "if res == \"y\":\n",
        "  drive.flush_and_unmount()\n",
        "else:\n",
        "  print(\"Okay, the drive is still on.\")"
      ],
      "metadata": {
        "cellView": "form",
        "id": "z9XY7oFcV12i"
      },
      "execution_count": null,
      "outputs": []
    },
    {
      "cell_type": "markdown",
      "source": [
        "# 🌀 **Topic [3]: Display video**\n"
      ],
      "metadata": {
        "id": "XgLkd8SXAxMC"
      }
    },
    {
      "cell_type": "code",
      "source": [
        "#@markdown 🎬 [lecture trailer (2m)](https://youtu.be/HND7sHPJ_2Q) Prepared by Miran Kim (Powered by AI tools)\n",
        "from IPython.display import YouTubeVideo\n",
        "\n",
        "myid=\"2\" #@param = [1,2]\n",
        "myid=int(myid)\n",
        "\n",
        "links = [\"HND7sHPJ_2Q\",\"VFWEJNaIJCo\"]\n",
        "vid = links[myid-1]\n",
        "\n",
        "video = YouTubeVideo(vid, width = 800, height = 600)\n",
        "display(video)\n"
      ],
      "metadata": {
        "cellView": "form",
        "id": "AcPl3fjgAxyA"
      },
      "execution_count": null,
      "outputs": []
    },
    {
      "cell_type": "markdown",
      "source": [
        "# 🌀 **Topic [4]: Display slides/images**\n",
        "\n"
      ],
      "metadata": {
        "id": "xxRLh3Ky7eYs"
      }
    },
    {
      "cell_type": "code",
      "execution_count": null,
      "metadata": {
        "id": "giy6u_-76gOt",
        "cellView": "form"
      },
      "outputs": [],
      "source": [
        "#@markdown Slides (1~13)\n",
        "from IPython.display import display\n",
        "import ipywidgets as widgets\n",
        "import requests\n",
        "\n",
        "def on_button_click(button):\n",
        "    sn = int(button.description) - 1\n",
        "    image.value = requests.get(urls[sn]).content\n",
        "\n",
        "urls = [\n",
        "        \"https://github.com/MK316/workshops/raw/main/20230512_GNU/images/Slides.008.jpeg\",\n",
        "        \"https://github.com/MK316/workshops/raw/main/20230512_GNU/images/Slides.009.jpeg\",\n",
        "        \"https://github.com/MK316/workshops/raw/main/20230512_GNU/images/Slides.010.jpeg\",\n",
        "        \"https://github.com/MK316/workshops/raw/main/20230512_GNU/images/Slides.011.jpeg\",\n",
        "        \"https://github.com/MK316/workshops/raw/main/20230512_GNU/images/Slides.012.jpeg\",\n",
        "        \"https://github.com/MK316/workshops/raw/main/20230512_GNU/images/Slides.013.jpeg\"\n",
        "]\n",
        "\n",
        "button_layout = widgets.Layout(width='50px', height='30px')\n",
        "\n",
        "buttons = [widgets.Button(description=str(i), layout=button_layout) for i in range(1, 6)]\n",
        "for button in buttons:\n",
        "    button.on_click(on_button_click)\n",
        "\n",
        "image = widgets.Image(value=requests.get(urls[0]).content, width=\"700\", height=\"600\")\n",
        "\n",
        "display(widgets.HBox([image, widgets.VBox(buttons)]))"
      ]
    },
    {
      "cell_type": "markdown",
      "source": [
        "# 🌀 **Topic [5]: Text-To-Speech (TTS)**\n"
      ],
      "metadata": {
        "id": "DPwPk6Fh7XZ0"
      }
    },
    {
      "cell_type": "markdown",
      "source": [
        "+ Sample text: \"All Summer in a Day\" (By Ray Bradbury), 8th Grade [Text link](https://raw.githubusercontent.com/MK316/workshops/main/2023CSU/sample.txt)"
      ],
      "metadata": {
        "id": "C0LZMcvVcvoj"
      }
    },
    {
      "cell_type": "code",
      "source": [
        "#@markdown + Paste your text;\n",
        "#@markdown + Output: word count, 10 most frequent words\n",
        "from collections import Counter\n",
        "import re\n",
        "\n",
        "text = input()\n",
        "# Tokenize the text\n",
        "words = re.findall(r'\\w+', text.lower())\n",
        "\n",
        "# Count the frequency of each word\n",
        "word_counts = Counter(words)\n",
        "\n",
        "# Calculate total word count\n",
        "total_word_count = len(words)\n",
        "\n",
        "# Display the most common words and their counts\n",
        "\n",
        "for word, count in word_counts.most_common(10):\n",
        "    print(f\"{word}: {count}\")\n",
        "\n",
        "# Print the total word count\n",
        "print(f\"\\nTotal Word Count: {total_word_count}\")\n",
        "\n"
      ],
      "metadata": {
        "cellView": "form",
        "id": "IaxX5nxaFD66"
      },
      "execution_count": null,
      "outputs": []
    },
    {
      "cell_type": "markdown",
      "source": [
        "Fact checking after reading or before reading"
      ],
      "metadata": {
        "id": "IsVfBfvnO7Ng"
      }
    },
    {
      "cell_type": "code",
      "source": [
        "#@markdown Read aloud (using TTS)\n",
        "import io\n",
        "from gtts import gTTS\n",
        "from IPython.display import display, Audio, clear_output\n",
        "import ipywidgets as widgets\n",
        "from nltk.tokenize import sent_tokenize\n",
        "import nltk\n",
        "nltk.download('punkt')\n",
        "\n",
        "def text_to_speech(text):\n",
        "    tts = gTTS(text, lang='en')\n",
        "    mp3_fp = io.BytesIO()\n",
        "    tts.write_to_fp(mp3_fp)\n",
        "    mp3_fp.seek(0)\n",
        "    return mp3_fp.read()\n",
        "\n",
        "def play_sentence(sentence):\n",
        "    audio_data = text_to_speech(sentence)\n",
        "    audio = Audio(data=audio_data, autoplay=True)\n",
        "    display(audio)\n",
        "    display(widgets.HBox([continue_button, quit_button]))\n",
        "\n",
        "def on_continue_button_clicked(b):\n",
        "    global sentence_index\n",
        "    clear_output(wait=True)\n",
        "    sentence_index += 1\n",
        "    if sentence_index < len(sentences):\n",
        "        print(sentences[sentence_index])\n",
        "        play_sentence(sentences[sentence_index])\n",
        "    else:\n",
        "        print(\"End of text reached.\")\n",
        "\n",
        "def on_quit_button_clicked(b):\n",
        "    clear_output(wait=True)\n",
        "    print(\"Process terminated by the user.\")\n",
        "\n",
        "sentence_index = 0\n",
        "sentences = sent_tokenize(text)\n",
        "\n",
        "continue_button = widgets.Button(description=\"Continue\")\n",
        "quit_button = widgets.Button(description=\"Quit\")\n",
        "\n",
        "continue_button.on_click(on_continue_button_clicked)\n",
        "quit_button.on_click(on_quit_button_clicked)\n",
        "\n",
        "print(sentences[sentence_index])\n",
        "play_sentence(sentences[sentence_index])\n"
      ],
      "metadata": {
        "cellView": "form",
        "id": "aXi0seHFeCgE"
      },
      "execution_count": null,
      "outputs": []
    },
    {
      "cell_type": "code",
      "source": [
        "#@markdown Understanding the story with quiz (5 items)\n",
        "def main():\n",
        "    questions = [\n",
        "        {\n",
        "            \"question\": \"Where is the story 'All Summer in a Day' set?\",\n",
        "            \"options\": [\"Mars\", \"Earth\", \"Jupiter\", \"Venus\", \"The Moon\"],\n",
        "            \"answer\": 3\n",
        "        },\n",
        "        {\n",
        "            \"question\": \"How often does the sun shine on Venus in the story?\",\n",
        "            \"options\": [\"Every day\", \"Once a month\", \"Once a year\", \"Once every seven years\", \"Never\"],\n",
        "            \"answer\": 3\n",
        "        },\n",
        "        {\n",
        "            \"question\": \"Why are the other children jealous of Margot?\",\n",
        "            \"options\": [\"She is the teacher's favorite.\", \"She has seen the sun before.\", \"She is from Mars.\", \"She is the smartest in the class.\", \"She has many toys.\"],\n",
        "            \"answer\": 1\n",
        "        },\n",
        "        {\n",
        "            \"question\": \"What do the children do to Margot just before the sun comes out?\",\n",
        "            \"options\": [\"They sing a song for her.\", \"They give her a gift.\", \"They lock her in a closet.\", \"They take her outside.\", \"They read her a story.\"],\n",
        "            \"answer\": 2\n",
        "        },\n",
        "        {\n",
        "            \"question\": \"How do the children feel after the sun goes back behind the clouds?\",\n",
        "            \"options\": [\"Excited for the next appearance\", \"Indifferent\", \"Guilty about Margot\", \"Eager to play in the rain\", \"Happy that they saw the sun\"],\n",
        "            \"answer\": 2\n",
        "        }\n",
        "    ]\n",
        "\n",
        "    score = 0\n",
        "\n",
        "    for q in questions:\n",
        "        print(q[\"question\"])\n",
        "        for idx, option in enumerate(q[\"options\"], 1):\n",
        "            print(f\"{idx}. {option}\")\n",
        "        answer = int(input(\"Enter your answer (1-5): \")) - 1  # Adjusting for 0-based indexing\n",
        "        if answer == q[\"answer\"]:\n",
        "            score += 1\n",
        "            print(\"Correct!\\n\")\n",
        "        else:\n",
        "            print(\"\\n\")\n",
        "\n",
        "    print(f\"You answered {score} out of {len(questions)} questions correctly!\")\n",
        "\n",
        "if __name__ == \"__main__\":\n",
        "    main()\n"
      ],
      "metadata": {
        "cellView": "form",
        "id": "5qIldbejPiNL"
      },
      "execution_count": null,
      "outputs": []
    },
    {
      "cell_type": "markdown",
      "source": [
        "# **🌀Topic [6] Text summary (using transformer)**\n",
        "\n",
        "A transformer is a type of neural network architecture introduced in the paper \"Attention is All You Need\" by Vaswani et al. in 2017. It has since become the foundation for many state-of-the-art models in natural language processing (NLP), computer vision, and other domains in machine learning."
      ],
      "metadata": {
        "id": "J6EbZPodkjXW"
      }
    },
    {
      "cell_type": "code",
      "source": [
        "#@markdown Summarize the text provided by the user\n",
        "from transformers import BartForConditionalGeneration, BartTokenizer\n",
        "import re\n",
        "\n",
        "def summarize_text(text):\n",
        "    \"\"\"Summarize the given text using a BART model.\"\"\"\n",
        "    model_name = \"facebook/bart-large-cnn\"\n",
        "    model = BartForConditionalGeneration.from_pretrained(model_name)\n",
        "    tokenizer = BartTokenizer.from_pretrained(model_name)\n",
        "\n",
        "    inputs = tokenizer.encode(\"summarize: \" + text, return_tensors=\"pt\", max_length=1024, truncation=True)\n",
        "    summary_ids = model.generate(inputs, max_length=150, min_length=40, length_penalty=2.0, num_beams=4, early_stopping=True)\n",
        "    summary = tokenizer.decode(summary_ids[0], skip_special_tokens=True)\n",
        "\n",
        "    # Split the summary at sentence boundaries for better readability\n",
        "    sentences = re.split('(?<=[.!?]) +', summary)\n",
        "    formatted_summary = '\\n'.join(sentences)\n",
        "    return formatted_summary\n",
        "\n",
        "if __name__ == \"__main__\":\n",
        "    user_text = input(\"Please provide the text to be summarized: \")\n",
        "    summary = summarize_text(user_text)\n",
        "    print(\"\\nSummary:\\n\")\n",
        "    print(\"*\"*30)\n",
        "    print(summary)\n",
        "    print(\"*\"*30)\n"
      ],
      "metadata": {
        "cellView": "form",
        "id": "QC8yR1ZLihCy"
      },
      "execution_count": null,
      "outputs": []
    },
    {
      "cell_type": "code",
      "source": [
        "#@markdown Summary audio\n",
        "import io\n",
        "from gtts import gTTS\n",
        "from IPython.display import display, Audio\n",
        "from nltk.tokenize import sent_tokenize\n",
        "import nltk\n",
        "nltk.download('punkt')\n",
        "text=summary\n",
        "def text_to_speech(text):\n",
        "    tts = gTTS(text, lang='en')\n",
        "    mp3_fp = io.BytesIO()\n",
        "    tts.write_to_fp(mp3_fp)\n",
        "    mp3_fp.seek(0)\n",
        "    return mp3_fp.read()\n",
        "\n",
        "audio_data = text_to_speech(summary)\n",
        "audio = Audio(data=audio_data, autoplay=True)\n",
        "display(audio)"
      ],
      "metadata": {
        "cellView": "form",
        "id": "LQYr8xchjT_8"
      },
      "execution_count": null,
      "outputs": []
    },
    {
      "cell_type": "markdown",
      "source": [
        "**Text by sentences (read-aloud)**"
      ],
      "metadata": {
        "id": "KDREG467kfjq"
      }
    },
    {
      "cell_type": "code",
      "source": [
        "#@markdown Read the text by sentences\n",
        "import io\n",
        "from gtts import gTTS\n",
        "from IPython.display import display, Audio, clear_output\n",
        "import ipywidgets as widgets\n",
        "from nltk.tokenize import sent_tokenize\n",
        "import nltk\n",
        "nltk.download('punkt')\n",
        "\n",
        "text = input()\n",
        "def text_to_speech(text):\n",
        "    tts = gTTS(text, lang='en')\n",
        "    mp3_fp = io.BytesIO()\n",
        "    tts.write_to_fp(mp3_fp)\n",
        "    mp3_fp.seek(0)\n",
        "    return mp3_fp.read()\n",
        "\n",
        "def play_sentence(sentence):\n",
        "    audio_data = text_to_speech(sentence)\n",
        "    audio = Audio(data=audio_data, autoplay=True)\n",
        "    display(audio)\n",
        "    display(widgets.HBox([continue_button, quit_button]))\n",
        "\n",
        "def on_continue_button_clicked(b):\n",
        "    global sentence_index\n",
        "    clear_output(wait=True)\n",
        "    sentence_index += 1\n",
        "    if sentence_index < len(sentences):\n",
        "        print(sentences[sentence_index])\n",
        "        play_sentence(sentences[sentence_index])\n",
        "    else:\n",
        "        print(\"End of text reached.\")\n",
        "\n",
        "def on_quit_button_clicked(b):\n",
        "    clear_output(wait=True)\n",
        "    print(\"Process terminated by the user.\")\n",
        "\n",
        "sentence_index = 0\n",
        "sentences = sent_tokenize(text)\n",
        "\n",
        "continue_button = widgets.Button(description=\"Continue\")\n",
        "quit_button = widgets.Button(description=\"Quit\")\n",
        "\n",
        "continue_button.on_click(on_continue_button_clicked)\n",
        "quit_button.on_click(on_quit_button_clicked)\n",
        "\n",
        "print(sentences[sentence_index])\n",
        "play_sentence(sentences[sentence_index])\n"
      ],
      "metadata": {
        "cellView": "form",
        "id": "bDzal76Eke4H"
      },
      "execution_count": null,
      "outputs": []
    },
    {
      "cell_type": "markdown",
      "source": [
        "**Read-aloud live link**"
      ],
      "metadata": {
        "id": "NyafLSpslgG2"
      }
    },
    {
      "cell_type": "code",
      "source": [
        "#@markdown Live link using Gradio\n",
        "import gradio as gr\n",
        "from gtts import gTTS\n",
        "from nltk.tokenize import sent_tokenize\n",
        "import nltk\n",
        "import tempfile\n",
        "import os\n",
        "\n",
        "nltk.download('punkt')\n",
        "\n",
        "class ReadAloud:\n",
        "    def __init__(self):\n",
        "        self.sentences = []\n",
        "        self.sentence_index = 0\n",
        "\n",
        "    def initialize_text(self, text):\n",
        "        self.sentences = sent_tokenize(text)\n",
        "        self.sentence_index = 0\n",
        "        return self.play_sentence()\n",
        "\n",
        "    def play_sentence(self):\n",
        "        if self.sentence_index < len(self.sentences):\n",
        "            sentence = self.sentences[self.sentence_index]\n",
        "            tts = gTTS(sentence, lang='en')\n",
        "            with tempfile.NamedTemporaryFile(delete=False, suffix=\".mp3\") as f:\n",
        "                tts.save(f.name)\n",
        "                return sentence, f.name\n",
        "        else:\n",
        "            return \"End of text reached.\", None\n",
        "\n",
        "    def next_sentence(self):\n",
        "        self.sentence_index += 1\n",
        "        return self.play_sentence()\n",
        "\n",
        "reader = ReadAloud()\n",
        "\n",
        "def initialize_interface(text):\n",
        "    return reader.initialize_text(text)\n",
        "\n",
        "def continue_reading(_):\n",
        "    return reader.next_sentence()\n",
        "\n",
        "with gr.Blocks() as app:\n",
        "    with gr.Row():\n",
        "        text_input = gr.Textbox(lines=5, placeholder=\"Paste your text here...\")\n",
        "        output_text = gr.Textbox()\n",
        "        output_audio = gr.Audio(type=\"filepath\")\n",
        "    continue_button = gr.Button(value=\"Continue\")\n",
        "\n",
        "    text_input.change(initialize_interface, inputs=text_input, outputs=[output_text, output_audio])\n",
        "    continue_button.click(continue_reading, inputs=None, outputs=[output_text, output_audio])\n",
        "\n",
        "app.launch()\n"
      ],
      "metadata": {
        "cellView": "form",
        "id": "mc3VDlrOlkqZ"
      },
      "execution_count": null,
      "outputs": []
    },
    {
      "cell_type": "code",
      "source": [
        "#@markdown ✅ Import {pyqrcode} and enter link address\n",
        "import pyqrcode\n",
        "from pyqrcode import QRCode\n",
        "\n",
        "#@markdown Enter the link, save it as a file, and display\n",
        "s = input(\"Paste the link: \")\n",
        "\n",
        "# Generate QR code\n",
        "url = pyqrcode.create(s)\n",
        "\n",
        "# Create and save the png file naming \"myqr.png\"\n",
        "url.svg(\"myqrcode.svg\", scale=10)\n",
        "\n",
        "from IPython.display import SVG, display\n",
        "def show_svg(file):\n",
        "    display(SVG(file))\n",
        "\n",
        "show_svg(\"myqrcode.svg\")"
      ],
      "metadata": {
        "cellView": "form",
        "id": "R6Gr4fDfl8ai"
      },
      "execution_count": null,
      "outputs": []
    },
    {
      "cell_type": "markdown",
      "source": [
        "# 🌀**Topic [6]: Multi-language**\n",
        "1. Nice to meet you.\n",
        "\n",
        "Приятно познакомиться. (Prijatno poznakomit'sja.)\n",
        "\n",
        "2. Thank you very much.\n",
        "\n",
        "Спасибо большое. (Spasibo bol'shoe.)\n",
        "\n",
        "3. It's raining today.\n",
        "\n",
        "Сегодня идёт дождь. (Segodnja idjot dozhd'.)\n",
        "\n",
        "4. Good job!\n",
        "\n",
        "Молодец! (Molodets!)"
      ],
      "metadata": {
        "id": "dQUj78Lr-BPt"
      }
    },
    {
      "cell_type": "code",
      "source": [
        "from gtts import gTTS\n",
        "\n",
        "choice = \"Russian\" #@param [\"Korean\",\"English\",\"Russian\"]\n",
        "\n",
        "# Mapping choice to language code for gTTS\n",
        "lang_map = {\n",
        "    'English': \"en\",\n",
        "    'Korean': \"ko\",\n",
        "    'Russian': \"ru\"\n",
        "}\n",
        "lang_code = lang_map[choice]\n",
        "\n",
        "# Function to generate speech\n",
        "def text_to_speech(text, lang):\n",
        "    tts = gTTS(text=text, lang=lang)\n",
        "    tts.save('mysample.mp3')\n",
        "\n",
        "# Get text input from the user\n",
        "text_input = input(\"Enter the text you want to convert to speech: \")\n",
        "\n",
        "# Generate speech\n",
        "text_to_speech(text_input, lang_code)\n",
        "print(\"Saved the speech to 'mysample.mp3'.\")\n",
        "\n",
        "from IPython.display import Audio\n",
        "\n",
        "# Play the saved audio\n",
        "Audio(\"mysample.mp3\")"
      ],
      "metadata": {
        "id": "qxyAVSZOcPH_",
        "cellView": "form"
      },
      "execution_count": null,
      "outputs": []
    },
    {
      "cell_type": "code",
      "source": [
        "#@markdown Gradio codes for the gTTS app\n",
        "import gradio as gr\n",
        "from gtts import gTTS\n",
        "import IPython.display as ipd\n",
        "\n",
        "# Function to generate speech\n",
        "def text_to_speech(text, lang):\n",
        "    tts = gTTS(text=text, lang=lang)\n",
        "    tts.save('mysample.mp3')\n",
        "\n",
        "# Function for Gradio interface\n",
        "def gradio_interface(input_text, language):\n",
        "    lang_map = {\n",
        "        'English': \"en\",\n",
        "        'Korean': \"ko\",\n",
        "        'Russian': \"ru\"\n",
        "    }\n",
        "    text_to_speech(input_text, lang_map[language])\n",
        "    return 'mysample.mp3'\n",
        "\n",
        "# Create Gradio UI\n",
        "iface = gr.Interface(\n",
        "    fn=gradio_interface,\n",
        "    inputs=[\n",
        "        gr.components.Textbox(label=\"Enter text\"),\n",
        "        gr.components.Dropdown(choices=[\"English\", \"Korean\", \"Russian\"], label=\"Language\")\n",
        "    ],\n",
        "    outputs=gr.components.Audio(type=\"filepath\", label=\"Generated Speech\"),\n",
        "    live=True\n",
        ")\n",
        "\n",
        "iface.launch(share=True)\n"
      ],
      "metadata": {
        "cellView": "form",
        "id": "IaZaEYPufiz5"
      },
      "execution_count": null,
      "outputs": []
    },
    {
      "cell_type": "code",
      "source": [
        "#@markdown QR code to generate: paste your link when asked.\n",
        "# !pip install qrcode\n",
        "import qrcode\n",
        "from IPython.display import display\n",
        "\n",
        "# Get the link from the user\n",
        "link = input(\"Enter the link to generate a QR code: \")\n",
        "\n",
        "# Generate QR code\n",
        "qr = qrcode.QRCode(\n",
        "    version=1,\n",
        "    error_correction=qrcode.constants.ERROR_CORRECT_L,\n",
        "    box_size=10,\n",
        "    border=4,\n",
        ")\n",
        "qr.add_data(link)\n",
        "qr.make(fit=True)\n",
        "\n",
        "# Create an Image object and display it within the notebook\n",
        "img = qr.make_image(fill_color=\"black\", back_color=\"white\")\n",
        "display(img)\n"
      ],
      "metadata": {
        "cellView": "form",
        "id": "-3WhtxlNgN7c"
      },
      "execution_count": null,
      "outputs": []
    },
    {
      "cell_type": "markdown",
      "source": [
        "# 🌀**Topic [7] Text-to-Text: Language learning/teaching tool**\n"
      ],
      "metadata": {
        "id": "TDqmr5WoX8by"
      }
    },
    {
      "cell_type": "code",
      "source": [
        "#@markdown Convert Statement to YES-NO question (Audio play) with some restrictions (only be verb)\n",
        "def etts(text):\n",
        "  text_to_say = text\n",
        "\n",
        "  gtts_object = gTTS(text = text_to_say,\n",
        "                     lang = \"en\",\n",
        "                    slow = False)\n",
        "\n",
        "  gtts_object.save(\"E-audio.mp3\")\n",
        "  return Audio(\"E-audio.mp3\")\n",
        "\n",
        "def ktts(text):\n",
        "  text_to_say = text\n",
        "\n",
        "  gtts_object = gTTS(text = text_to_say,\n",
        "                     lang = \"ko\",\n",
        "                    slow = False)\n",
        "\n",
        "  gtts_object.save(\"K-audio.mp3\")\n",
        "  return Audio(\"K-audio.mp3\")\n",
        "\n",
        "sentence = input(\"Type a sentence containing a be verb: e.g., She is visiting her uncle.\")\n",
        "beverbs = [\"is\", \"was\", \"are\", \"were\"]\n",
        "pronouns = [\"I\",\"You\",\"He\",\"She\",\"They\",\"It\"]\n",
        "names = [\"Mary\", \"Jane\", \"Tom\",\"Thomas\",\"Jessica\", \"Bill\"]\n",
        "\n",
        "def check_word(list_A, list_B):\n",
        "    for a in list_A:\n",
        "        for b in list_B:\n",
        "            if b in a:\n",
        "                mword = a\n",
        "                return True, mword\n",
        "    return False, None\n",
        "\n",
        "\n",
        "cat1 = sentence.split()\n",
        "\n",
        "result = check_word(cat1,beverbs)\n",
        "\n",
        "if result[0] == True:\n",
        "  if cat1[0] in pronouns:\n",
        "      b = result[1]\n",
        "      be = \" \"+b+\" \"\n",
        "      ss = sentence.split(be)\n",
        "      subj = ss[0]\n",
        "      nsubj = subj[0].lower()+subj[1:]\n",
        "      pred = ss[1]\n",
        "      w1 = b[0].upper() + b[1:] # Capitalized be verb\n",
        "      newsent = w1 + \" \" + nsubj + \" \" + pred[:-1] + \"?\"\n",
        "      mytext = \"I'll make it to a yes-no question: \" + newsent\n",
        "      print(newsent)\n",
        "  elif cat1[0] not in pronouns and cat1[0] in names:\n",
        "        b = result[1]\n",
        "        be = \" \"+b+\" \"\n",
        "        ss = sentence.split(be)\n",
        "        subj = ss[0]\n",
        "        pred = ss[1]\n",
        "        w1 = b[0].upper() + b[1:] # Capitalized be verb\n",
        "        newsent = w1 + \" \" + subj + \" \" + pred[:-1] + \"?\"\n",
        "        mytext = \"I'll make it to a yes-no question: \" + newsent\n",
        "        print(newsent)\n",
        "  elif cat1[0] not in pronouns and cat1[0] not in names:\n",
        "        b = result[1]\n",
        "        be = \" \"+b+\" \"\n",
        "        ss = sentence.split(be)\n",
        "        subj = ss[0]\n",
        "        nsubj = subj[0].lower()+subj[1:]\n",
        "        pred = ss[1]\n",
        "        w1 = b[0].upper() + b[1:] # Capitalized be verb\n",
        "        newsent = w1 + \" \" + nsubj + \" \" + pred[:-1] + \"?\"\n",
        "        mytext = \"I'll make it to a yes-no question: \" + newsent\n",
        "        print(newsent)\n",
        "\n",
        "else:\n",
        "    mytext = \"The sentence you\\' provided does not contain a 'Be' verb. Try again.\"\n",
        "    print(\"Type a sentence that contains a be verb.\")\n",
        "\n",
        "etts(mytext)\n",
        "Audio(\"E-audio.mp3\",autoplay=True)"
      ],
      "metadata": {
        "cellView": "form",
        "id": "3sPqlP4zYAKf"
      },
      "execution_count": null,
      "outputs": []
    },
    {
      "cell_type": "code",
      "source": [
        "#@markdown Run this code to play (button): flip coins\n",
        "import random\n",
        "import ipywidgets as widgets\n",
        "from IPython.display import display, clear_output\n",
        "\n",
        "def coin_flip():\n",
        "    return random.choice(['Heads', 'Tails'])\n",
        "\n",
        "def play_game(button):\n",
        "    global total_trials, correct_guesses\n",
        "\n",
        "    user_guess = button.description\n",
        "\n",
        "    sixth_flip = coin_flip()\n",
        "    print(f\"Sixth flip result: {sixth_flip}\")\n",
        "\n",
        "    if user_guess == sixth_flip:\n",
        "        print(\"Congratulations! Your guess was correct.\")\n",
        "        correct_guesses += 1\n",
        "    else:\n",
        "        print(\"Sorry, your guess was incorrect.\")\n",
        "\n",
        "    total_trials += 1\n",
        "    display_continue_button()\n",
        "\n",
        "def display_flip_results():\n",
        "    flip_results = [coin_flip() for _ in range(5)]\n",
        "    flip_result_text = \"First five flip results:\\n\" + \"\\n\".join([f\"{i + 1} flip: {result}\" for i, result in enumerate(flip_results)])\n",
        "    print(flip_result_text)\n",
        "\n",
        "def display_continue_button():\n",
        "    if total_trials > 0:\n",
        "        print(\"Do you want to continue?\")\n",
        "        display(continue_button, results_button)\n",
        "\n",
        "def continue_game(button):\n",
        "    clear_output(wait=True)\n",
        "    display_flip_results()\n",
        "    display(heads_button, tails_button)\n",
        "\n",
        "def show_results(button):\n",
        "    clear_output(wait=True)\n",
        "    winning_chance = correct_guesses / total_trials if total_trials > 0 else 0\n",
        "    print(f\"You've won {correct_guesses} times out of {total_trials} trials: your winning chance was {winning_chance:.2f}\")\n",
        "\n",
        "total_trials = 0\n",
        "correct_guesses = 0\n",
        "\n",
        "display_flip_results()\n",
        "\n",
        "heads_button = widgets.Button(description=\"Heads\")\n",
        "tails_button = widgets.Button(description=\"Tails\")\n",
        "continue_button = widgets.Button(description=\"Continue\")\n",
        "results_button = widgets.Button(description=\"No, show results\")\n",
        "\n",
        "heads_button.on_click(play_game)\n",
        "tails_button.on_click(play_game)\n",
        "continue_button.on_click(continue_game)\n",
        "results_button.on_click(show_results)\n",
        "\n",
        "display(heads_button, tails_button)\n"
      ],
      "metadata": {
        "cellView": "form",
        "id": "at5_6eeHc4Dh"
      },
      "execution_count": null,
      "outputs": []
    },
    {
      "cell_type": "code",
      "source": [
        "#@markdown Rock-Paper-Scissors game\n",
        "import random\n",
        "import ipywidgets as widgets\n",
        "from IPython.display import display, clear_output\n",
        "\n",
        "def rock_paper_scissors():\n",
        "    return random.choice(['Rock', 'Paper', 'Scissors'])\n",
        "\n",
        "def decide_winner(user_choice, game_choice):\n",
        "    if user_choice == game_choice:\n",
        "        return \"It's a tie!\"\n",
        "    elif ((user_choice == 'Rock' and game_choice == 'Scissors') or\n",
        "          (user_choice == 'Paper' and game_choice == 'Rock') or\n",
        "          (user_choice == 'Scissors' and game_choice == 'Paper')):\n",
        "        return \"Congratulations! You win!\"\n",
        "    else:\n",
        "        return \"Sorry, you lose!\"\n",
        "\n",
        "def play_game(button):\n",
        "    global total_games, user_wins\n",
        "\n",
        "    user_choice = button.description\n",
        "    game_choice = rock_paper_scissors()\n",
        "    print(f\"Game's choice: {game_choice}\")\n",
        "\n",
        "    result = decide_winner(user_choice, game_choice)\n",
        "    print(result)\n",
        "\n",
        "    if result == \"Congratulations! You win!\":\n",
        "        user_wins += 1\n",
        "\n",
        "    total_games += 1\n",
        "    display_continue_button()\n",
        "\n",
        "def display_game_choices():\n",
        "    print(\"Choose Rock, Paper, or Scissors:\")\n",
        "\n",
        "def display_continue_button():\n",
        "    if total_games > 0:\n",
        "        print(\"Do you want to continue?\")\n",
        "        display(continue_button, results_button)\n",
        "\n",
        "def continue_game(button):\n",
        "    clear_output(wait=True)\n",
        "    display_game_choices()\n",
        "    display(rock_button, paper_button, scissors_button)\n",
        "\n",
        "def show_results(button):\n",
        "    clear_output(wait=True)\n",
        "    winning_chance = user_wins / total_games if total_games > 0 else 0\n",
        "    print(f\"You've won {user_wins} times out of {total_games} games: your winning chance was {winning_chance:.2f}\")\n",
        "\n",
        "total_games = 0\n",
        "user_wins = 0\n",
        "\n",
        "display_game_choices()\n",
        "\n",
        "rock_button = widgets.Button(description=\"Rock\")\n",
        "paper_button = widgets.Button(description=\"Paper\")\n",
        "scissors_button = widgets.Button(description=\"Scissors\")\n",
        "continue_button = widgets.Button(description=\"Continue\")\n",
        "results_button = widgets.Button(description=\"No, show results\")\n",
        "\n",
        "rock_button.on_click(play_game)\n",
        "paper_button.on_click(play_game)\n",
        "scissors_button.on_click(play_game)\n",
        "continue_button.on_click(continue_game)\n",
        "results_button.on_click(show_results)\n",
        "\n",
        "display(rock_button, paper_button, scissors_button)\n"
      ],
      "metadata": {
        "cellView": "form",
        "id": "e4l2GzhZF6J1"
      },
      "execution_count": null,
      "outputs": []
    },
    {
      "cell_type": "markdown",
      "source": [
        "Move to CS lecture 2"
      ],
      "metadata": {
        "id": "-UaXokvq8FF3"
      }
    },
    {
      "cell_type": "code",
      "source": [
        "# from google.colab import drive\n",
        "# drive.mount('/content/drive')\n",
        "\n",
        "# from google.colab import drive\n",
        "# drive.flush_and_unmount()\n"
      ],
      "metadata": {
        "id": "QfXrjNFLye6i"
      },
      "execution_count": null,
      "outputs": []
    }
  ]
}