{
  "nbformat": 4,
  "nbformat_minor": 0,
  "metadata": {
    "colab": {
      "private_outputs": true,
      "provenance": [],
      "authorship_tag": "ABX9TyNE9GrvzTXz4eDikg7NNl34",
      "include_colab_link": true
    },
    "kernelspec": {
      "name": "python3",
      "display_name": "Python 3"
    },
    "language_info": {
      "name": "python"
    }
  },
  "cells": [
    {
      "cell_type": "markdown",
      "metadata": {
        "id": "view-in-github",
        "colab_type": "text"
      },
      "source": [
        "<a href=\"https://colab.research.google.com/github/MK316/workshops/blob/main/2023CSU/CU_lecture02.ipynb\" target=\"_parent\"><img src=\"https://colab.research.google.com/assets/colab-badge.svg\" alt=\"Open In Colab\"/></a>"
      ]
    },
    {
      "cell_type": "markdown",
      "source": [
        "# CSU Lecture 02\n",
        "\n"
      ],
      "metadata": {
        "id": "WPGOppyu6pH7"
      }
    },
    {
      "cell_type": "markdown",
      "source": [
        "## IV. Essential Digital Literacy Skills for English Teachers\n",
        "\n",
        "A. Navigating and Evaluating Online Resources\n",
        "Importance of critical thinking when selecting online materials  \n",
        "B. Digital Content Creation\n",
        "Blogging, podcasting, video creation for English lessons  \n",
        "C. Online Collaboration and Communication\n",
        "Platforms like Google Classroom, Microsoft Teams, and Zoom in English teaching  \n",
        "D. Digital Assessment Tools\n",
        "Using platforms like Kahoot, Quizlet, and Socrative for English assessments  \n",
        "E. Ethical Considerations in the Digital Space\n",
        "Addressing plagiarism, digital citizenship, and online safety"
      ],
      "metadata": {
        "id": "xxRLh3Ky7eYs"
      }
    },
    {
      "cell_type": "code",
      "execution_count": null,
      "metadata": {
        "id": "giy6u_-76gOt"
      },
      "outputs": [],
      "source": []
    },
    {
      "cell_type": "markdown",
      "source": [
        "## V. Challenges and Opportunities\n",
        "\n",
        "A. Overcoming Resistance to Technology  \n",
        "B. Ensuring Equal Access to Digital Resources  \n",
        "C. Continuous Professional Development in the Digital Age"
      ],
      "metadata": {
        "id": "DPwPk6Fh7XZ0"
      }
    },
    {
      "cell_type": "markdown",
      "source": [
        "## Q&A Session"
      ],
      "metadata": {
        "id": "hwYR2Gzx7snP"
      }
    },
    {
      "cell_type": "markdown",
      "source": [
        "- The END"
      ],
      "metadata": {
        "id": "-UaXokvq8FF3"
      }
    }
  ]
}