{
  "nbformat": 4,
  "nbformat_minor": 0,
  "metadata": {
    "colab": {
      "private_outputs": true,
      "provenance": [],
      "authorship_tag": "ABX9TyOA6QNVBBGYwjNUaD2FwwTH",
      "include_colab_link": true
    },
    "kernelspec": {
      "name": "python3",
      "display_name": "Python 3"
    },
    "language_info": {
      "name": "python"
    }
  },
  "cells": [
    {
      "cell_type": "markdown",
      "metadata": {
        "id": "view-in-github",
        "colab_type": "text"
      },
      "source": [
        "<a href=\"https://colab.research.google.com/github/MK316/workshops/blob/main/2023CSU/CU_lecture01.ipynb\" target=\"_parent\"><img src=\"https://colab.research.google.com/assets/colab-badge.svg\" alt=\"Open In Colab\"/></a>"
      ]
    },
    {
      "cell_type": "markdown",
      "source": [
        "# 🌿 **CSU Lecture 01** (Oct. 31) 🌿\n",
        "\n",
        "---\n"
      ],
      "metadata": {
        "id": "WPGOppyu6pH7"
      }
    },
    {
      "cell_type": "markdown",
      "source": [
        "## [0] Setting: Install and import necessary libraries"
      ],
      "metadata": {
        "id": "W8cmlMZoVdUJ"
      }
    },
    {
      "cell_type": "code",
      "source": [
        "#@markdown Install libraries\n",
        "%%capture\n",
        "!pip install gTTS\n",
        "# !pip install gradio\n",
        "!pip install pyqrcode\n",
        "!pip install pandas openpyxl\n",
        "!pip install gspread"
      ],
      "metadata": {
        "id": "EnbAbBLWTkkJ",
        "cellView": "form"
      },
      "execution_count": null,
      "outputs": []
    },
    {
      "cell_type": "markdown",
      "source": [
        "# **🌀 Topic [1]: QR code for a survey**\n",
        "\n",
        "[Survey link](https://forms.gle/fiGANLGgWwerxB7M8)"
      ],
      "metadata": {
        "id": "tqViWBQzWWRw"
      }
    },
    {
      "cell_type": "code",
      "source": [
        "#@markdown ✅ Import {pyqrcode} and enter link address\n",
        "import pyqrcode\n",
        "from pyqrcode import QRCode\n",
        "\n",
        "#@markdown Enter the link, save it as a file, and display\n",
        "s = input(\"Paste the link: \")\n",
        "\n",
        "# Generate QR code\n",
        "url = pyqrcode.create(s)\n",
        "\n",
        "# Create and save the png file naming \"myqr.png\"\n",
        "url.svg(\"myqrcode.svg\", scale=10)\n",
        "\n",
        "from IPython.display import SVG, display\n",
        "def show_svg(file):\n",
        "    display(SVG(file))\n",
        "\n",
        "show_svg(\"myqrcode.svg\")"
      ],
      "metadata": {
        "cellView": "form",
        "id": "qIIjs-wgWZ0O"
      },
      "execution_count": null,
      "outputs": []
    },
    {
      "cell_type": "markdown",
      "source": [
        "# 🌀 **Topic [2]: Random pick (Choose ONE)** ⛔ [Demo only]\n",
        "\n",
        "The codes below (1~3) can run only for the authentified user (Google account)\n",
        "https://docs.google.com/spreadsheets/d/12RcKSAsdSCA1LaeR3_y_V2vhJvTTAaLCqRuIt7mICRU/edit?usp=sharing"
      ],
      "metadata": {
        "id": "4S_ZZFymtrGR"
      }
    },
    {
      "cell_type": "code",
      "source": [
        "#@markdown [1] Access My Google drive\n",
        "from google.colab import auth\n",
        "auth.authenticate_user()\n",
        "import gspread\n",
        "from google.auth import default\n",
        "creds, _ = default()\n",
        "gc = gspread.authorize(creds)\n",
        "\n",
        "spreadsheet = gc.open('CSU1030')\n",
        "# Select a specific worksheet\n",
        "worksheet = spreadsheet.sheet1\n",
        "\n",
        "# Get all values in the worksheet\n",
        "values = worksheet.get_all_values()\n",
        "\n",
        "# Convert values to a pandas DataFrame if needed\n",
        "import pandas as pd\n",
        "df = pd.DataFrame(values)\n",
        "df.columns = df.iloc[0]  # Set first row as column names\n",
        "df = df[1:]  # Remove first row\n",
        "df = df.reset_index(drop=True)\n",
        "print(df['Four-digit-phone-number'])"
      ],
      "metadata": {
        "cellView": "form",
        "id": "2tlpOX_6xdbZ"
      },
      "execution_count": null,
      "outputs": []
    },
    {
      "cell_type": "code",
      "source": [
        "#@markdown [2] Random pick and say the 4 digits of phone number selected!\n",
        "import random\n",
        "from gtts import gTTS\n",
        "from IPython.display import Audio, display\n",
        "\n",
        "# Ask the user for the number of items\n",
        "n = int(input(\"How many students? \"))\n",
        "\n",
        "# Create a list from 1 to n\n",
        "items = list(range(0, n+1))\n",
        "\n",
        "# Randomly pick one item\n",
        "picked_item = random.choice(items)\n",
        "phonum = df['Four-digit-phone-number'][picked_item]\n",
        "\n",
        "def digit_to_word(digit):\n",
        "    digit_word_map = {\n",
        "        '0': 'zero',\n",
        "        '1': 'one',\n",
        "        '2': 'two',\n",
        "        '3': 'three',\n",
        "        '4': 'four',\n",
        "        '5': 'five',\n",
        "        '6': 'six',\n",
        "        '7': 'seven',\n",
        "        '8': 'eight',\n",
        "        '9': 'nine',\n",
        "    }\n",
        "    return digit_word_map[digit]\n",
        "\n",
        "phonum_str = '-'.join(digit_to_word(d) for d in str(phonum))\n",
        "message = f\"Okay, out of {n} participants, I'll pick the row {picked_item}. Raise your hand if the last 4 digits of your phone number are {phonum_str}. Congratulations!\"\n",
        "\n",
        "\n",
        "# Print the picked item\n",
        "# print(f\"Picked item: {picked_item}\")\n",
        "\n",
        "# Generate the message\n",
        "# message = f\"Okay, out of {n} participants, I'll pick the row {picked_item}. Raise your hand if the last 4 digits of your phone number is {phonum}. Congratulations!\"\n",
        "\n",
        "# Convert the message to audio\n",
        "tts = gTTS(message, lang='en', tld=\"us\")\n",
        "audio_file = \"temp_audio.mp3\"\n",
        "tts.save(audio_file)\n",
        "\n",
        "# Display the audio to play using IPython\n",
        "display(Audio(audio_file, autoplay=True))\n"
      ],
      "metadata": {
        "cellView": "form",
        "id": "XTw9llQJVFHL"
      },
      "execution_count": null,
      "outputs": []
    },
    {
      "cell_type": "markdown",
      "source": [
        "---\n",
        "# I. Introduction\n",
        "---\n",
        "\n",
        "A. The Importance of Digital Literacy in the 21st Century Classroom  \n",
        "B. Objectives of the lecture"
      ],
      "metadata": {
        "id": "xxRLh3Ky7eYs"
      }
    },
    {
      "cell_type": "code",
      "execution_count": null,
      "metadata": {
        "id": "giy6u_-76gOt"
      },
      "outputs": [],
      "source": []
    },
    {
      "cell_type": "markdown",
      "source": [
        "## II. Understanding digital literacy\n",
        "\n",
        "A. Definition and Key Concepts  \n",
        "B. Distinction between Digital Skills and Digital Literacy"
      ],
      "metadata": {
        "id": "DPwPk6Fh7XZ0"
      }
    },
    {
      "cell_type": "markdown",
      "source": [
        "## III. Digital Literacy and English Education\n",
        "\n",
        "A. Digital Platforms in English Language Teaching (ELT)  \n",
        "B. The Role of Digital Tools in Enhancing English Proficiency  "
      ],
      "metadata": {
        "id": "hwYR2Gzx7snP"
      }
    },
    {
      "cell_type": "markdown",
      "source": [
        "Move to CS lecture 2"
      ],
      "metadata": {
        "id": "-UaXokvq8FF3"
      }
    },
    {
      "cell_type": "code",
      "source": [
        "# from google.colab import drive\n",
        "# drive.mount('/content/drive')\n",
        "\n",
        "# from google.colab import drive\n",
        "# drive.flush_and_unmount()\n"
      ],
      "metadata": {
        "id": "QfXrjNFLye6i"
      },
      "execution_count": null,
      "outputs": []
    },
    {
      "cell_type": "code",
      "source": [
        "#@markdown Random pick!\n",
        "import random\n",
        "\n",
        "# Ask the user for the number of items\n",
        "n = int(input(\"How many students? \"))\n",
        "\n",
        "# Create a list from 1 to n\n",
        "items = list(range(2, n+1))\n",
        "\n",
        "# Randomly pick one item\n",
        "picked_item = random.choice(items)\n",
        "\n",
        "# Print the picked item\n",
        "print(f\"Picked item: {picked_item}\")\n"
      ],
      "metadata": {
        "cellView": "form",
        "id": "amPlRF3ORUhV"
      },
      "execution_count": null,
      "outputs": []
    }
  ]
}