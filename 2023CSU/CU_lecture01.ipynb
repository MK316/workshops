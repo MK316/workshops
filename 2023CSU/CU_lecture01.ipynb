{
  "nbformat": 4,
  "nbformat_minor": 0,
  "metadata": {
    "colab": {
      "private_outputs": true,
      "provenance": [],
      "authorship_tag": "ABX9TyNDiMN6h9hP+JI7APws/a4m",
      "include_colab_link": true
    },
    "kernelspec": {
      "name": "python3",
      "display_name": "Python 3"
    },
    "language_info": {
      "name": "python"
    }
  },
  "cells": [
    {
      "cell_type": "markdown",
      "metadata": {
        "id": "view-in-github",
        "colab_type": "text"
      },
      "source": [
        "<a href=\"https://colab.research.google.com/github/MK316/workshops/blob/main/2023CSU/CU_lecture01.ipynb\" target=\"_parent\"><img src=\"https://colab.research.google.com/assets/colab-badge.svg\" alt=\"Open In Colab\"/></a>"
      ]
    },
    {
      "cell_type": "markdown",
      "source": [
        "# 🌿 **CSU Lecture 01** (Oct. 31) 🌿\n",
        "\n",
        "---\n"
      ],
      "metadata": {
        "id": "WPGOppyu6pH7"
      }
    },
    {
      "cell_type": "markdown",
      "source": [
        "## Setting: Install and import necessary libraries"
      ],
      "metadata": {
        "id": "W8cmlMZoVdUJ"
      }
    },
    {
      "cell_type": "code",
      "source": [
        "#@markdown Install libraries\n",
        "%%capture\n",
        "!pip install gTTS\n",
        "# !pip install gradio\n",
        "!pip install pyqrcode\n",
        "!pip install pandas openpyxl\n",
        "!pip install gspread\n",
        "\n",
        "#@markdown 🌱 Set-up: install, import libraries to use {pyqrcode, gtts, IPython, pandas, numpy, nltk, random}\n",
        "\n",
        "!pip install wordcloud\n",
        "!pip install gradio\n",
        "!wget https://github.com/google/fonts/raw/main/ofl/nanumgothic/NanumGothic-Regular.ttf -O NanumGothic.ttf\n",
        "# display, qr code\n",
        "from IPython.display import YouTubeVideo, Image, Audio, display\n",
        "!pip install gtts\n",
        "import pandas as pd\n",
        "import pyqrcode\n",
        "from pyqrcode import QRCode\n",
        "from gtts import gTTS\n",
        "from ipywidgets import widgets\n",
        "import os\n",
        "import numpy as np\n",
        "import random\n",
        "# wordcloud\n",
        "!pip install wordcloud nltk\n",
        "import nltk\n",
        "from nltk.corpus import stopwords\n",
        "\n",
        "nltk.download('stopwords')\n",
        "english_stopwords = set(stopwords.words('english'))\n",
        "\n",
        "import urllib.request"
      ],
      "metadata": {
        "id": "EnbAbBLWTkkJ",
        "cellView": "form"
      },
      "execution_count": null,
      "outputs": []
    },
    {
      "cell_type": "markdown",
      "source": [
        "# **🌀 Topic [1]: QR code for a survey**\n",
        "\n",
        "[Survey link](https://forms.gle/fiGANLGgWwerxB7M8)"
      ],
      "metadata": {
        "id": "tqViWBQzWWRw"
      }
    },
    {
      "cell_type": "code",
      "source": [
        "#@markdown 📢 Instruction: (in Korean)\n",
        "def tts(text):\n",
        "  tts = gTTS(text, lang = \"ko\", slow = False)\n",
        "  tts.save(\"myaudio.mp3\")\n",
        "  return Audio(\"myaudio.mp3\")\n",
        "\n",
        "txt = \"\"\"\n",
        "안녕하세요 여러분! 시작에 앞서 아주 간단한 설문을 함께 해 보도록 하겠습니다. 설문은 간단한 4개의 문항이며 2분 정도 소요될 것입니다.\n",
        "지금 보고 계시는 콜랩 페이지를 열고 계시다면, 위의 설문 링크를 눌러 설문을 마쳐 주시기 바랍니다.\n",
        "조금 더 편한 방법은 본인 스마트폰 카메라 앱을 열어 아래 큐알코드를 읽은 후, 설문 링크를 따라가서 설문을 마쳐 주시기 바랍니다. 결과는 한 3분 후쯤? 김미란 선생님이 참여한 분 중 한명을 무작위로 뽑아 기념품을 드릴 거예요. 따뜻한 겨울 각인이 새겨진 세상에 3개밖에 없는 기념품입니다.\n",
        "\"\"\"\n",
        "\n",
        "tts(txt)\n",
        "Audio(\"myaudio.mp3\", autoplay=True)"
      ],
      "metadata": {
        "cellView": "form",
        "id": "I3qKBRY4DYe_"
      },
      "execution_count": null,
      "outputs": []
    },
    {
      "cell_type": "code",
      "source": [
        "#@markdown ✅ Import {pyqrcode} and enter link address\n",
        "import pyqrcode\n",
        "from pyqrcode import QRCode\n",
        "\n",
        "#@markdown Enter the link, save it as a file, and display\n",
        "s = input(\"Paste the link: \")\n",
        "\n",
        "# Generate QR code\n",
        "url = pyqrcode.create(s)\n",
        "\n",
        "# Create and save the png file naming \"myqr.png\"\n",
        "url.svg(\"myqrcode.svg\", scale=10)\n",
        "\n",
        "from IPython.display import SVG, display\n",
        "def show_svg(file):\n",
        "    display(SVG(file))\n",
        "\n",
        "show_svg(\"myqrcode.svg\")"
      ],
      "metadata": {
        "cellView": "form",
        "id": "qIIjs-wgWZ0O"
      },
      "execution_count": null,
      "outputs": []
    },
    {
      "cell_type": "markdown",
      "source": [
        "# 🌀 **Topic [2]: Random pick (Choose ONE)** ⛔ [Demo only]\n",
        "\n",
        "The codes below (1~3) can run only for the authentified user (Google account)\n",
        "https://docs.google.com/spreadsheets/d/12RcKSAsdSCA1LaeR3_y_V2vhJvTTAaLCqRuIt7mICRU/edit?usp=sharing"
      ],
      "metadata": {
        "id": "4S_ZZFymtrGR"
      }
    },
    {
      "cell_type": "code",
      "source": [
        "#@markdown [1] Access My Google drive\n",
        "from google.colab import auth\n",
        "auth.authenticate_user()\n",
        "import gspread\n",
        "from google.auth import default\n",
        "creds, _ = default()\n",
        "gc = gspread.authorize(creds)\n",
        "\n",
        "spreadsheet = gc.open('CSU1030')\n",
        "# Select a specific worksheet\n",
        "worksheet = spreadsheet.sheet1\n",
        "\n",
        "# Get all values in the worksheet\n",
        "values = worksheet.get_all_values()\n",
        "\n",
        "# Convert values to a pandas DataFrame if needed\n",
        "import pandas as pd\n",
        "df = pd.DataFrame(values)\n",
        "df.columns = df.iloc[0]  # Set first row as column names\n",
        "df = df[1:]  # Remove first row\n",
        "df = df.reset_index(drop=True)\n",
        "print(df['Four-digit-phone-number'])"
      ],
      "metadata": {
        "cellView": "form",
        "id": "2tlpOX_6xdbZ"
      },
      "execution_count": null,
      "outputs": []
    },
    {
      "cell_type": "code",
      "source": [
        "#@markdown [2] Random pick and say the 4 digits of phone number selected!\n",
        "import random\n",
        "from gtts import gTTS\n",
        "from IPython.display import Audio, display\n",
        "\n",
        "# Ask the user for the number of items\n",
        "n = int(input(\"How many students? \"))\n",
        "\n",
        "# Create a list from 1 to n\n",
        "items = list(range(0, n+1))\n",
        "\n",
        "# Randomly pick one item\n",
        "picked_item = random.choice(items)\n",
        "phonum = df['Four-digit-phone-number'][picked_item]\n",
        "\n",
        "def digit_to_word(digit):\n",
        "    digit_word_map = {\n",
        "        '0': 'zero',\n",
        "        '1': 'one',\n",
        "        '2': 'two',\n",
        "        '3': 'three',\n",
        "        '4': 'four',\n",
        "        '5': 'five',\n",
        "        '6': 'six',\n",
        "        '7': 'seven',\n",
        "        '8': 'eight',\n",
        "        '9': 'nine',\n",
        "    }\n",
        "    return digit_word_map[digit]\n",
        "\n",
        "phonum_str = '-'.join(digit_to_word(d) for d in str(phonum))\n",
        "message = f\"Okay, out of {n} participants, I'll pick the row {picked_item}. Raise your hand if the last 4 digits of your phone number are {phonum_str}. Congratulations!\"\n",
        "\n",
        "\n",
        "# Print the picked item\n",
        "# print(f\"Picked item: {picked_item}\")\n",
        "\n",
        "# Generate the message\n",
        "# message = f\"Okay, out of {n} participants, I'll pick the row {picked_item}. Raise your hand if the last 4 digits of your phone number is {phonum}. Congratulations!\"\n",
        "\n",
        "# Convert the message to audio\n",
        "tts = gTTS(message, lang='en', tld=\"us\")\n",
        "audio_file = \"temp_audio.mp3\"\n",
        "tts.save(audio_file)\n",
        "\n",
        "# Display the audio to play using IPython\n",
        "display(Audio(audio_file, autoplay=True))\n"
      ],
      "metadata": {
        "cellView": "form",
        "id": "XTw9llQJVFHL"
      },
      "execution_count": null,
      "outputs": []
    },
    {
      "cell_type": "markdown",
      "source": [
        "# 🌀 **Topic [3]: Display video**\n"
      ],
      "metadata": {
        "id": "XgLkd8SXAxMC"
      }
    },
    {
      "cell_type": "code",
      "source": [
        "#@markdown 🎬 [lecture trailer (2m)](https://youtu.be/HND7sHPJ_2Q) Prepared by Miran Kim (Powered by AI tools)\n",
        "from IPython.display import YouTubeVideo\n",
        "\n",
        "vid = \"HND7sHPJ_2Q\"\n",
        "video = YouTubeVideo(vid, width = 800, height = 600)\n",
        "display(video)\n",
        ""
      ],
      "metadata": {
        "cellView": "form",
        "id": "AcPl3fjgAxyA"
      },
      "execution_count": null,
      "outputs": []
    },
    {
      "cell_type": "markdown",
      "source": [
        "# 🌀 **Topic [4]: Display slides/images**\n",
        "\n"
      ],
      "metadata": {
        "id": "xxRLh3Ky7eYs"
      }
    },
    {
      "cell_type": "code",
      "execution_count": null,
      "metadata": {
        "id": "giy6u_-76gOt",
        "cellView": "form"
      },
      "outputs": [],
      "source": [
        "#@markdown Slides (1~13)\n",
        "from IPython.display import display\n",
        "import ipywidgets as widgets\n",
        "import requests\n",
        "\n",
        "def on_button_click(button):\n",
        "    sn = int(button.description) - 1\n",
        "    image.value = requests.get(urls[sn]).content\n",
        "\n",
        "urls = [\"https://github.com/MK316/workshops/raw/main/20230512_GNU/images/0512cover.png\",\n",
        "        \"https://github.com/MK316/workshops/raw/main/20230512_GNU/images/handwriting.png\",\n",
        "        \"https://github.com/MK316/workshops/raw/main/20230512_GNU/images/Slides.002.jpeg\",\n",
        "        \"https://github.com/MK316/workshops/raw/main/20230512_GNU/images/Slides.003.jpeg\",\n",
        "        \"https://github.com/MK316/workshops/raw/main/20230512_GNU/images/Slides.004.jpeg\",\n",
        "        \"https://github.com/MK316/workshops/raw/main/20230512_GNU/images/Slides.005.jpeg\",\n",
        "        \"https://github.com/MK316/workshops/raw/main/20230512_GNU/images/Slides.006.jpeg\",\n",
        "        \"https://github.com/MK316/workshops/raw/main/20230512_GNU/images/Slides.007.jpeg\",\n",
        "        \"https://github.com/MK316/workshops/raw/main/20230512_GNU/images/Slides.008.jpeg\",\n",
        "        \"https://github.com/MK316/workshops/raw/main/20230512_GNU/images/Slides.009.jpeg\",\n",
        "        \"https://github.com/MK316/workshops/raw/main/20230512_GNU/images/Slides.010.jpeg\",\n",
        "        \"https://github.com/MK316/workshops/raw/main/20230512_GNU/images/Slides.011.jpeg\",\n",
        "        \"https://github.com/MK316/workshops/raw/main/20230512_GNU/images/Slides.012.jpeg\",\n",
        "        \"https://github.com/MK316/workshops/raw/main/20230512_GNU/images/Slides.013.jpeg\"\n",
        "]\n",
        "\n",
        "button_layout = widgets.Layout(width='50px', height='30px')\n",
        "\n",
        "buttons = [widgets.Button(description=str(i), layout=button_layout) for i in range(1, 15)]\n",
        "for button in buttons:\n",
        "    button.on_click(on_button_click)\n",
        "\n",
        "image = widgets.Image(value=requests.get(urls[0]).content, width=\"700\", height=\"600\")\n",
        "\n",
        "display(widgets.HBox([image, widgets.VBox(buttons)]))"
      ]
    },
    {
      "cell_type": "markdown",
      "source": [
        "# 🌀 **Topic [4]: Text-To-Speech (TTS)**\n"
      ],
      "metadata": {
        "id": "DPwPk6Fh7XZ0"
      }
    },
    {
      "cell_type": "markdown",
      "source": [
        "## III. Digital Literacy and English Education\n",
        "\n",
        "A. Digital Platforms in English Language Teaching (ELT)  \n",
        "B. The Role of Digital Tools in Enhancing English Proficiency  "
      ],
      "metadata": {
        "id": "hwYR2Gzx7snP"
      }
    },
    {
      "cell_type": "code",
      "source": [],
      "metadata": {
        "id": "Kv8PmHYcEpJJ"
      },
      "execution_count": null,
      "outputs": []
    },
    {
      "cell_type": "code",
      "source": [
        "#@markdown Run this code to play (button)\n",
        "import random\n",
        "import ipywidgets as widgets\n",
        "from IPython.display import display, clear_output\n",
        "\n",
        "def coin_flip():\n",
        "    return random.choice(['Heads', 'Tails'])\n",
        "\n",
        "def play_game(button):\n",
        "    global total_trials, correct_guesses\n",
        "\n",
        "    user_guess = button.description\n",
        "\n",
        "    sixth_flip = coin_flip()\n",
        "    print(f\"Sixth flip result: {sixth_flip}\")\n",
        "\n",
        "    if user_guess == sixth_flip:\n",
        "        print(\"Congratulations! Your guess was correct.\")\n",
        "        correct_guesses += 1\n",
        "    else:\n",
        "        print(\"Sorry, your guess was incorrect.\")\n",
        "\n",
        "    total_trials += 1\n",
        "    display_continue_button()\n",
        "\n",
        "def display_flip_results():\n",
        "    flip_results = [coin_flip() for _ in range(5)]\n",
        "    flip_result_text = \"First five flip results:\\n\" + \"\\n\".join([f\"{i + 1} flip: {result}\" for i, result in enumerate(flip_results)])\n",
        "    print(flip_result_text)\n",
        "\n",
        "def display_continue_button():\n",
        "    if total_trials > 0:\n",
        "        print(\"Do you want to continue?\")\n",
        "        display(continue_button, results_button)\n",
        "\n",
        "def continue_game(button):\n",
        "    clear_output(wait=True)\n",
        "    display_flip_results()\n",
        "    display(heads_button, tails_button)\n",
        "\n",
        "def show_results(button):\n",
        "    clear_output(wait=True)\n",
        "    winning_chance = correct_guesses / total_trials if total_trials > 0 else 0\n",
        "    print(f\"You've won {correct_guesses} times out of {total_trials} trials: your winning chance was {winning_chance:.2f}\")\n",
        "\n",
        "total_trials = 0\n",
        "correct_guesses = 0\n",
        "\n",
        "display_flip_results()\n",
        "\n",
        "heads_button = widgets.Button(description=\"Heads\")\n",
        "tails_button = widgets.Button(description=\"Tails\")\n",
        "continue_button = widgets.Button(description=\"Continue\")\n",
        "results_button = widgets.Button(description=\"No, show results\")\n",
        "\n",
        "heads_button.on_click(play_game)\n",
        "tails_button.on_click(play_game)\n",
        "continue_button.on_click(continue_game)\n",
        "results_button.on_click(show_results)\n",
        "\n",
        "display(heads_button, tails_button)\n"
      ],
      "metadata": {
        "cellView": "form",
        "id": "at5_6eeHc4Dh"
      },
      "execution_count": null,
      "outputs": []
    },
    {
      "cell_type": "code",
      "source": [
        "#@markdown Rock-Paper-Scissors game\n",
        "import random\n",
        "import ipywidgets as widgets\n",
        "from IPython.display import display, clear_output\n",
        "\n",
        "def rock_paper_scissors():\n",
        "    return random.choice(['Rock', 'Paper', 'Scissors'])\n",
        "\n",
        "def decide_winner(user_choice, game_choice):\n",
        "    if user_choice == game_choice:\n",
        "        return \"It's a tie!\"\n",
        "    elif ((user_choice == 'Rock' and game_choice == 'Scissors') or\n",
        "          (user_choice == 'Paper' and game_choice == 'Rock') or\n",
        "          (user_choice == 'Scissors' and game_choice == 'Paper')):\n",
        "        return \"Congratulations! You win!\"\n",
        "    else:\n",
        "        return \"Sorry, you lose!\"\n",
        "\n",
        "def play_game(button):\n",
        "    global total_games, user_wins\n",
        "\n",
        "    user_choice = button.description\n",
        "    game_choice = rock_paper_scissors()\n",
        "    print(f\"Game's choice: {game_choice}\")\n",
        "\n",
        "    result = decide_winner(user_choice, game_choice)\n",
        "    print(result)\n",
        "\n",
        "    if result == \"Congratulations! You win!\":\n",
        "        user_wins += 1\n",
        "\n",
        "    total_games += 1\n",
        "    display_continue_button()\n",
        "\n",
        "def display_game_choices():\n",
        "    print(\"Choose Rock, Paper, or Scissors:\")\n",
        "\n",
        "def display_continue_button():\n",
        "    if total_games > 0:\n",
        "        print(\"Do you want to continue?\")\n",
        "        display(continue_button, results_button)\n",
        "\n",
        "def continue_game(button):\n",
        "    clear_output(wait=True)\n",
        "    display_game_choices()\n",
        "    display(rock_button, paper_button, scissors_button)\n",
        "\n",
        "def show_results(button):\n",
        "    clear_output(wait=True)\n",
        "    winning_chance = user_wins / total_games if total_games > 0 else 0\n",
        "    print(f\"You've won {user_wins} times out of {total_games} games: your winning chance was {winning_chance:.2f}\")\n",
        "\n",
        "total_games = 0\n",
        "user_wins = 0\n",
        "\n",
        "display_game_choices()\n",
        "\n",
        "rock_button = widgets.Button(description=\"Rock\")\n",
        "paper_button = widgets.Button(description=\"Paper\")\n",
        "scissors_button = widgets.Button(description=\"Scissors\")\n",
        "continue_button = widgets.Button(description=\"Continue\")\n",
        "results_button = widgets.Button(description=\"No, show results\")\n",
        "\n",
        "rock_button.on_click(play_game)\n",
        "paper_button.on_click(play_game)\n",
        "scissors_button.on_click(play_game)\n",
        "continue_button.on_click(continue_game)\n",
        "results_button.on_click(show_results)\n",
        "\n",
        "display(rock_button, paper_button, scissors_button)\n"
      ],
      "metadata": {
        "cellView": "form",
        "id": "e4l2GzhZF6J1"
      },
      "execution_count": null,
      "outputs": []
    },
    {
      "cell_type": "markdown",
      "source": [
        "(optional) Live link using Gradio"
      ],
      "metadata": {
        "id": "fcFnVeWPc4Dh"
      }
    },
    {
      "cell_type": "markdown",
      "source": [
        "Move to CS lecture 2"
      ],
      "metadata": {
        "id": "-UaXokvq8FF3"
      }
    },
    {
      "cell_type": "code",
      "source": [
        "# from google.colab import drive\n",
        "# drive.mount('/content/drive')\n",
        "\n",
        "# from google.colab import drive\n",
        "# drive.flush_and_unmount()\n"
      ],
      "metadata": {
        "id": "QfXrjNFLye6i"
      },
      "execution_count": null,
      "outputs": []
    },
    {
      "cell_type": "code",
      "source": [
        "#@markdown Random pick!\n",
        "import random\n",
        "\n",
        "# Ask the user for the number of items\n",
        "n = int(input(\"How many students? \"))\n",
        "\n",
        "# Create a list from 1 to n\n",
        "items = list(range(2, n+1))\n",
        "\n",
        "# Randomly pick one item\n",
        "picked_item = random.choice(items)\n",
        "\n",
        "# Print the picked item\n",
        "print(f\"Picked item: {picked_item}\")\n"
      ],
      "metadata": {
        "cellView": "form",
        "id": "amPlRF3ORUhV"
      },
      "execution_count": null,
      "outputs": []
    }
  ]
}