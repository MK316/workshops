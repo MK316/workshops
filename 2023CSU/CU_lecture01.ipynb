{
  "nbformat": 4,
  "nbformat_minor": 0,
  "metadata": {
    "colab": {
      "private_outputs": true,
      "provenance": [],
      "authorship_tag": "ABX9TyP+0HTxSrTF9KAdnMjAVN7+",
      "include_colab_link": true
    },
    "kernelspec": {
      "name": "python3",
      "display_name": "Python 3"
    },
    "language_info": {
      "name": "python"
    }
  },
  "cells": [
    {
      "cell_type": "markdown",
      "metadata": {
        "id": "view-in-github",
        "colab_type": "text"
      },
      "source": [
        "<a href=\"https://colab.research.google.com/github/MK316/workshops/blob/main/2023CSU/CU_lecture01.ipynb\" target=\"_parent\"><img src=\"https://colab.research.google.com/assets/colab-badge.svg\" alt=\"Open In Colab\"/></a>"
      ]
    },
    {
      "cell_type": "markdown",
      "source": [
        "# CS Lecture 01\n",
        "\n"
      ],
      "metadata": {
        "id": "WPGOppyu6pH7"
      }
    },
    {
      "cell_type": "markdown",
      "source": [
        "## I. Introduction\n",
        "\n",
        "A. The Importance of Digital Literacy in the 21st Century Classroom  \n",
        "B. Objectives of the lecture"
      ],
      "metadata": {
        "id": "xxRLh3Ky7eYs"
      }
    },
    {
      "cell_type": "code",
      "execution_count": null,
      "metadata": {
        "id": "giy6u_-76gOt"
      },
      "outputs": [],
      "source": []
    },
    {
      "cell_type": "markdown",
      "source": [
        "## II. Understanding digital literacy\n",
        "\n",
        "A. Definition and Key Concepts  \n",
        "B. Distinction between Digital Skills and Digital Literacy"
      ],
      "metadata": {
        "id": "DPwPk6Fh7XZ0"
      }
    },
    {
      "cell_type": "markdown",
      "source": [
        "## III. Digital Literacy and English Education\n",
        "\n",
        "A. Digital Platforms in English Language Teaching (ELT)  \n",
        "B. The Role of Digital Tools in Enhancing English Proficiency  "
      ],
      "metadata": {
        "id": "hwYR2Gzx7snP"
      }
    },
    {
      "cell_type": "markdown",
      "source": [
        "Move to CS lecture 2"
      ],
      "metadata": {
        "id": "-UaXokvq8FF3"
      }
    }
  ]
}