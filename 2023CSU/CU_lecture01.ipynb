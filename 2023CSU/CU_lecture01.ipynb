{
  "nbformat": 4,
  "nbformat_minor": 0,
  "metadata": {
    "colab": {
      "private_outputs": true,
      "provenance": [],
      "authorship_tag": "ABX9TyPse6pb6S19n3Scj5jx8JHu",
      "include_colab_link": true
    },
    "kernelspec": {
      "name": "python3",
      "display_name": "Python 3"
    },
    "language_info": {
      "name": "python"
    }
  },
  "cells": [
    {
      "cell_type": "markdown",
      "metadata": {
        "id": "view-in-github",
        "colab_type": "text"
      },
      "source": [
        "<a href=\"https://colab.research.google.com/github/MK316/workshops/blob/main/2023CSU/CU_lecture01.ipynb\" target=\"_parent\"><img src=\"https://colab.research.google.com/assets/colab-badge.svg\" alt=\"Open In Colab\"/></a>"
      ]
    },
    {
      "cell_type": "markdown",
      "source": [
        "# CSU Lecture 01\n",
        "\n"
      ],
      "metadata": {
        "id": "WPGOppyu6pH7"
      }
    },
    {
      "cell_type": "markdown",
      "source": [
        "## Setting: Install and import necessary libraries"
      ],
      "metadata": {
        "id": "W8cmlMZoVdUJ"
      }
    },
    {
      "cell_type": "code",
      "source": [
        "#@markdown Install libraries\n",
        "%%capture\n",
        "!pip install gTTS\n",
        "# !pip install gradio\n",
        "!pip install pyqrcode"
      ],
      "metadata": {
        "id": "EnbAbBLWTkkJ"
      },
      "execution_count": null,
      "outputs": []
    },
    {
      "cell_type": "markdown",
      "source": [
        "## QR code for a survey\n",
        "\n",
        "https://forms.gle/fiGANLGgWwerxB7M8"
      ],
      "metadata": {
        "id": "tqViWBQzWWRw"
      }
    },
    {
      "cell_type": "code",
      "source": [
        "#@markdown Install {pyqrcode} and enter link address\n",
        "import pyqrcode\n",
        "from pyqrcode import QRCode\n",
        "\n",
        "#@markdown Enter the link, save it as a file, and display\n",
        "s = input(\"Paste the link: \")\n",
        "\n",
        "# Generate QR code\n",
        "url = pyqrcode.create(s)\n",
        "\n",
        "# Create and save the png file naming \"myqr.png\"\n",
        "url.svg(\"myqrcode.svg\", scale=10)\n",
        "\n",
        "from IPython.display import SVG, display\n",
        "def show_svg(file):\n",
        "    display(SVG(file))\n",
        "\n",
        "show_svg(\"myqrcode.svg\")"
      ],
      "metadata": {
        "cellView": "form",
        "id": "qIIjs-wgWZ0O"
      },
      "execution_count": null,
      "outputs": []
    },
    {
      "cell_type": "code",
      "source": [
        "#@markdown Random pick!\n",
        "import random\n",
        "\n",
        "# Ask the user for the number of items\n",
        "n = int(input(\"How many students? \"))\n",
        "\n",
        "# Create a list from 1 to n\n",
        "items = list(range(1, n+1))\n",
        "\n",
        "# Randomly pick one item\n",
        "picked_item = random.choice(items)\n",
        "\n",
        "# Print the picked item\n",
        "print(f\"Picked item: {picked_item}\")\n"
      ],
      "metadata": {
        "cellView": "form",
        "id": "amPlRF3ORUhV"
      },
      "execution_count": null,
      "outputs": []
    },
    {
      "cell_type": "code",
      "source": [
        "#@markdown Random pick and say it!\n",
        "import random\n",
        "from gtts import gTTS\n",
        "from IPython.display import Audio, display\n",
        "\n",
        "# Ask the user for the number of items\n",
        "n = int(input(\"How many students? \"))\n",
        "\n",
        "# Create a list from 1 to n\n",
        "items = list(range(1, n+1))\n",
        "\n",
        "# Randomly pick one item\n",
        "picked_item = random.choice(items)\n",
        "\n",
        "# Print the picked item\n",
        "# print(f\"Picked item: {picked_item}\")\n",
        "\n",
        "# Generate the message\n",
        "message = f\"Okay, out of {n}, I'll pick number {picked_item}. Congratulations!\"\n",
        "\n",
        "# Convert the message to audio\n",
        "tts = gTTS(message, lang='en')\n",
        "audio_file = \"temp_audio.mp3\"\n",
        "tts.save(audio_file)\n",
        "\n",
        "# Display the audio to play using IPython\n",
        "display(Audio(audio_file))\n"
      ],
      "metadata": {
        "cellView": "form",
        "id": "XTw9llQJVFHL"
      },
      "execution_count": null,
      "outputs": []
    },
    {
      "cell_type": "markdown",
      "source": [
        "## I. Introduction\n",
        "\n",
        "A. The Importance of Digital Literacy in the 21st Century Classroom  \n",
        "B. Objectives of the lecture"
      ],
      "metadata": {
        "id": "xxRLh3Ky7eYs"
      }
    },
    {
      "cell_type": "code",
      "execution_count": null,
      "metadata": {
        "id": "giy6u_-76gOt"
      },
      "outputs": [],
      "source": []
    },
    {
      "cell_type": "markdown",
      "source": [
        "## II. Understanding digital literacy\n",
        "\n",
        "A. Definition and Key Concepts  \n",
        "B. Distinction between Digital Skills and Digital Literacy"
      ],
      "metadata": {
        "id": "DPwPk6Fh7XZ0"
      }
    },
    {
      "cell_type": "markdown",
      "source": [
        "## III. Digital Literacy and English Education\n",
        "\n",
        "A. Digital Platforms in English Language Teaching (ELT)  \n",
        "B. The Role of Digital Tools in Enhancing English Proficiency  "
      ],
      "metadata": {
        "id": "hwYR2Gzx7snP"
      }
    },
    {
      "cell_type": "markdown",
      "source": [
        "Move to CS lecture 2"
      ],
      "metadata": {
        "id": "-UaXokvq8FF3"
      }
    }
  ]
}