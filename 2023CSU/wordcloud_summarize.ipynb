{
  "nbformat": 4,
  "nbformat_minor": 0,
  "metadata": {
    "colab": {
      "private_outputs": true,
      "provenance": [],
      "authorship_tag": "ABX9TyPSf2L/ncBxUjTiFs7fliGQ",
      "include_colab_link": true
    },
    "kernelspec": {
      "name": "python3",
      "display_name": "Python 3"
    },
    "language_info": {
      "name": "python"
    }
  },
  "cells": [
    {
      "cell_type": "markdown",
      "metadata": {
        "id": "view-in-github",
        "colab_type": "text"
      },
      "source": [
        "<a href=\"https://colab.research.google.com/github/MK316/workshops/blob/main/2023CSU/wordcloud_summarize.ipynb\" target=\"_parent\"><img src=\"https://colab.research.google.com/assets/colab-badge.svg\" alt=\"Open In Colab\"/></a>"
      ]
    },
    {
      "cell_type": "markdown",
      "source": [
        "# Creating a wordcloud with your text"
      ],
      "metadata": {
        "id": "Oo6BhjAGEJiO"
      }
    },
    {
      "cell_type": "markdown",
      "source": [
        "[sample text](https://raw.githubusercontent.com/MK316/workshops/main/2023CSU/sample.txt): \"All summer in a day\" by Ray Bradbury"
      ],
      "metadata": {
        "id": "wFvrUSIBD02K"
      }
    },
    {
      "cell_type": "code",
      "source": [
        "#@markdown [1] Wordcloud for your text: paste your text when asked.\n",
        "from wordcloud import WordCloud\n",
        "import matplotlib.pyplot as plt\n",
        "\n",
        "# Get user input\n",
        "user_text = input(\"Please provide the text for the word cloud: \")\n",
        "\n",
        "# Create a word cloud\n",
        "wordcloud = WordCloud(width=800, height=400, background_color='white').generate(user_text)\n",
        "\n",
        "# Display the word cloud\n",
        "plt.figure(figsize=(10, 5))\n",
        "plt.imshow(wordcloud, interpolation='bilinear')\n",
        "plt.axis('off')\n",
        "plt.show()\n"
      ],
      "metadata": {
        "cellView": "form",
        "id": "ErdqEd0FDQyu"
      },
      "execution_count": null,
      "outputs": []
    },
    {
      "cell_type": "markdown",
      "source": [
        "[sample link]( https://www.newyorker.com/humor/daily-shouts/a-short-story-written-with-thought-to-text-technology): The New Yorker"
      ],
      "metadata": {
        "id": "D8n7OaaLI7n9"
      }
    },
    {
      "cell_type": "code",
      "source": [
        "#@markdown [2] Wordcloud with a text link\n",
        "from wordcloud import WordCloud\n",
        "import matplotlib.pyplot as plt\n",
        "import requests\n",
        "from bs4 import BeautifulSoup\n",
        "\n",
        "# Get user input for link\n",
        "link = input(\"Please provide the link address of the text for the word cloud: \")\n",
        "\n",
        "# Fetch content from the link\n",
        "response = requests.get(link)\n",
        "soup = BeautifulSoup(response.content, 'html.parser')\n",
        "\n",
        "# Extract text from the page content\n",
        "text = ' '.join([p.text for p in soup.find_all('p')])\n",
        "\n",
        "# Create a word cloud\n",
        "wordcloud = WordCloud(width=800, height=400, background_color='white').generate(text)\n",
        "\n",
        "# Display the word cloud\n",
        "plt.figure(figsize=(10, 5))\n",
        "plt.imshow(wordcloud, interpolation='bilinear')\n",
        "plt.axis('off')\n",
        "plt.show()\n"
      ],
      "metadata": {
        "cellView": "form",
        "id": "GLT8wjQXEMiq"
      },
      "execution_count": null,
      "outputs": []
    },
    {
      "cell_type": "markdown",
      "source": [
        "# Summarize a text in one paragraph"
      ],
      "metadata": {
        "id": "Yuzf9UK5FY_U"
      }
    },
    {
      "cell_type": "code",
      "source": [
        "%%capture\n",
        "!pip install transformers"
      ],
      "metadata": {
        "id": "88FdqMjtFe5Q"
      },
      "execution_count": null,
      "outputs": []
    },
    {
      "cell_type": "markdown",
      "source": [
        "[Sample text](https://learnenglish.britishcouncil.org/skills/reading/b1-reading/digital-habits-across-generations):  \n",
        "\n",
        "Today's grandparents are joining their grandchildren on social media, but the different generations' online habits couldn't be more different. In the UK the over-55s are joining Facebook in increasing numbers, meaning that they will soon be the site's second biggest user group, with 3.5 million users aged 55–64 and 2.9 million over-65s.\n",
        "\n",
        "Sheila, aged 59, says, 'I joined to see what my grandchildren are doing, as my daughter posts videos and photos of them. It's a much better way to see what they're doing than waiting for letters and photos in the post. That's how we did it when I was a child, but I think I'm lucky I get to see so much more of their lives than my grandparents did.'\n",
        "\n",
        "Ironically, Sheila's grandchildren are less likely to use Facebook themselves. Children under 17 in the UK are leaving the site – only 2.2 million users are under 17 – but they're not going far from their smartphones. Chloe, aged 15, even sleeps with her phone. 'It's my alarm clock so I have to,' she says. 'I look at it before I go to sleep and as soon as I wake up.'\n",
        "\n",
        "Unlike her grandmother's generation, Chloe's age group is spending so much time on their phones at home that they are missing out on spending time with their friends in real life. Sheila, on the other hand, has made contact with old friends from school she hasn't heard from in forty years. 'We use Facebook to arrange to meet all over the country,' she says. 'It's changed my social life completely.'\n",
        "\n",
        "Teenagers might have their parents to thank for their smartphone and social media addiction as their parents were the early adopters of the smartphone. Peter, 38 and father of two teenagers, reports that he used to be on his phone or laptop constantly. 'I was always connected and I felt like I was always working,' he says. 'How could I tell my kids to get off their phones if I was always in front of a screen myself?' So, in the evenings and at weekends, he takes his SIM card out of his smartphone and puts it into an old-style mobile phone that can only make calls and send text messages. 'I'm not completely cut off from the world in case of emergencies, but the important thing is I'm setting a better example to my kids and spending more quality time with them.'\n",
        "\n",
        "Is it only a matter of time until the generation above and below Peter catches up with the new trend for a less digital life?"
      ],
      "metadata": {
        "id": "Z5eoraL2HA1X"
      }
    },
    {
      "cell_type": "code",
      "source": [
        "#@markdown Summarize the text provided by the user\n",
        "from transformers import BartForConditionalGeneration, BartTokenizer\n",
        "import re\n",
        "\n",
        "def summarize_text(text):\n",
        "    \"\"\"Summarize the given text using a BART model.\"\"\"\n",
        "    model_name = \"facebook/bart-large-cnn\"\n",
        "    model = BartForConditionalGeneration.from_pretrained(model_name)\n",
        "    tokenizer = BartTokenizer.from_pretrained(model_name)\n",
        "\n",
        "    inputs = tokenizer.encode(\"summarize: \" + text, return_tensors=\"pt\", max_length=1024, truncation=True)\n",
        "    summary_ids = model.generate(inputs, max_length=150, min_length=40, length_penalty=2.0, num_beams=4, early_stopping=True)\n",
        "    summary = tokenizer.decode(summary_ids[0], skip_special_tokens=True)\n",
        "\n",
        "    # Split the summary at sentence boundaries for better readability\n",
        "    sentences = re.split('(?<=[.!?]) +', summary)\n",
        "    formatted_summary = '\\n'.join(sentences)\n",
        "    return formatted_summary\n",
        "\n",
        "if __name__ == \"__main__\":\n",
        "    user_text = input(\"Please provide the text to be summarized: \")\n",
        "    summary = summarize_text(user_text)\n",
        "    print(\"\\nSummary:\\n\")\n",
        "    print(\"*\"*30)\n",
        "    print(summary)\n",
        "    print(\"*\"*30)\n"
      ],
      "metadata": {
        "cellView": "form",
        "id": "hvJ43yLZHkHh"
      },
      "execution_count": null,
      "outputs": []
    }
  ]
}