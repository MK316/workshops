{
  "nbformat": 4,
  "nbformat_minor": 0,
  "metadata": {
    "colab": {
      "private_outputs": true,
      "provenance": [],
      "authorship_tag": "ABX9TyO+tLyoQ3PNqaX6p7s3AGVG",
      "include_colab_link": true
    },
    "kernelspec": {
      "name": "python3",
      "display_name": "Python 3"
    },
    "language_info": {
      "name": "python"
    }
  },
  "cells": [
    {
      "cell_type": "markdown",
      "metadata": {
        "id": "view-in-github",
        "colab_type": "text"
      },
      "source": [
        "<a href=\"https://colab.research.google.com/github/MK316/workshops/blob/main/2023CSU/CU_lecture03.ipynb\" target=\"_parent\"><img src=\"https://colab.research.google.com/assets/colab-badge.svg\" alt=\"Open In Colab\"/></a>"
      ]
    },
    {
      "cell_type": "markdown",
      "source": [
        "# Four language skills"
      ],
      "metadata": {
        "id": "WdjEb2oIEPOW"
      }
    },
    {
      "cell_type": "code",
      "execution_count": null,
      "metadata": {
        "id": "rMMqeXivEE_t"
      },
      "outputs": [],
      "source": []
    },
    {
      "cell_type": "code",
      "source": [
        "%%capture\n",
        "!pip install nltk\n",
        "!pip install gradio\n",
        "!pip install pyttsx3"
      ],
      "metadata": {
        "id": "I9ju9YZlKvyj"
      },
      "execution_count": null,
      "outputs": []
    },
    {
      "cell_type": "code",
      "source": [
        "!pip install mido"
      ],
      "metadata": {
        "id": "8yPCgKSWVEjA"
      },
      "execution_count": null,
      "outputs": []
    },
    {
      "cell_type": "markdown",
      "source": [
        "# [1] Reading"
      ],
      "metadata": {
        "id": "rCRnbGYyEWn9"
      }
    },
    {
      "cell_type": "markdown",
      "source": [
        "## Vocabulary information"
      ],
      "metadata": {
        "id": "dqhlGc3uFBVp"
      }
    },
    {
      "cell_type": "markdown",
      "source": [
        "+ Sample text: \"All Summer in a Day\" (By Ray Bradbury), 8th Grade [Text link](https://raw.githubusercontent.com/MK316/workshops/main/2023CSU/sample.txt)"
      ],
      "metadata": {
        "id": "uNjja9wAFJ-Q"
      }
    },
    {
      "cell_type": "code",
      "source": [
        "#@markdown + Paste your text;\n",
        "#@markdown + Output: word count, 10 most frequent words\n",
        "from collections import Counter\n",
        "import re\n",
        "\n",
        "text = input()\n",
        "\n",
        "# Tokenize the text\n",
        "words = re.findall(r'\\w+', text.lower())\n",
        "\n",
        "# Count the frequency of each word\n",
        "word_counts = Counter(words)\n",
        "\n",
        "# Calculate total word count\n",
        "total_word_count = len(words)\n",
        "\n",
        "# Display the most common words and their counts\n",
        "for word, count in word_counts.most_common(10):\n",
        "    print(f\"{word}: {count}\")\n",
        "\n",
        "# Print the total word count\n",
        "print(f\"\\nTotal Word Count: {total_word_count}\")\n",
        "\n"
      ],
      "metadata": {
        "cellView": "form",
        "id": "IaxX5nxaFD66"
      },
      "execution_count": null,
      "outputs": []
    },
    {
      "cell_type": "markdown",
      "source": [
        "Note: The text to analyze below is the one you'd pasted."
      ],
      "metadata": {
        "id": "e3dcPn75Md3T"
      }
    },
    {
      "cell_type": "code",
      "source": [
        "#@markdown Search a target word in context (sentence)\n",
        "import re\n",
        "from nltk.tokenize import word_tokenize\n",
        "import nltk\n",
        "\n",
        "# Download the Punkt tokenizer models\n",
        "nltk.download('punkt')\n",
        "\n",
        "# text = \"\"\"Your sample English text goes here. It can be a paragraph or an entire article.\"\"\"\n",
        "\n",
        "# Split the text into sentences\n",
        "# sentences = re.split(r'(?<!\\w\\.\\w.)(?<![A-Z][a-z]\\.)(?<=\\.|\\?)\\s', text)\n",
        "\n",
        "# Ask the user for a word to search\n",
        "search_word = input(\"Enter a base word to search for its word family: \").lower()\n",
        "\n",
        "# Tokenize the text\n",
        "words = word_tokenize(text.lower())\n",
        "\n",
        "# Count occurrences of words containing the search word\n",
        "word_count = sum(1 for word in words if search_word in word)\n",
        "\n",
        "# Find sentences containing words from the same word family as the search word\n",
        "matching_sentences = [sentence for sentence in sentences if any(search_word in word for word in word_tokenize(sentence.lower()))]\n",
        "\n",
        "# Display the result\n",
        "print(\"=\"*80)\n",
        "print(f\"\\nThe word family for '{search_word}' appears {word_count} times in the text.\\n\")\n",
        "\n",
        "if matching_sentences:\n",
        "    print(\"=\"*80)\n",
        "    print(\"Here are the sentences containing the word family:\")\n",
        "    print(\"=\"*80)\n",
        "    for idx, sentence in enumerate(matching_sentences, 1):\n",
        "        # Highlight the words from the word family using the Unicode underline character\n",
        "        highlighted_sentence = re.sub(f\"({search_word}\\\\w*)\", r\"\\033[4m\\1\\033[0m\", sentence, flags=re.IGNORECASE)\n",
        "        # Remove leading spaces before printing\n",
        "        print(f\"{idx}. {highlighted_sentence.strip()}\")\n",
        "else:\n",
        "    print(f\"No sentences found containing the word family for '{search_word}'.\")\n"
      ],
      "metadata": {
        "cellView": "form",
        "id": "b_5wGyILLhx7"
      },
      "execution_count": null,
      "outputs": []
    },
    {
      "cell_type": "markdown",
      "source": [
        "Fact checking after reading or before reading"
      ],
      "metadata": {
        "id": "IsVfBfvnO7Ng"
      }
    },
    {
      "cell_type": "code",
      "source": [
        "#@markdown Understanding the story with quiz (5 items)\n",
        "def main():\n",
        "    questions = [\n",
        "        {\n",
        "            \"question\": \"Where is the story 'All Summer in a Day' set?\",\n",
        "            \"options\": [\"Mars\", \"Earth\", \"Jupiter\", \"Venus\", \"The Moon\"],\n",
        "            \"answer\": 3\n",
        "        },\n",
        "        {\n",
        "            \"question\": \"How often does the sun shine on Venus in the story?\",\n",
        "            \"options\": [\"Every day\", \"Once a month\", \"Once a year\", \"Once every seven years\", \"Never\"],\n",
        "            \"answer\": 3\n",
        "        },\n",
        "        {\n",
        "            \"question\": \"Why are the other children jealous of Margot?\",\n",
        "            \"options\": [\"She is the teacher's favorite.\", \"She has seen the sun before.\", \"She is from Mars.\", \"She is the smartest in the class.\", \"She has many toys.\"],\n",
        "            \"answer\": 1\n",
        "        },\n",
        "        {\n",
        "            \"question\": \"What do the children do to Margot just before the sun comes out?\",\n",
        "            \"options\": [\"They sing a song for her.\", \"They give her a gift.\", \"They lock her in a closet.\", \"They take her outside.\", \"They read her a story.\"],\n",
        "            \"answer\": 2\n",
        "        },\n",
        "        {\n",
        "            \"question\": \"How do the children feel after the sun goes back behind the clouds?\",\n",
        "            \"options\": [\"Excited for the next appearance\", \"Indifferent\", \"Guilty about Margot\", \"Eager to play in the rain\", \"Happy that they saw the sun\"],\n",
        "            \"answer\": 2\n",
        "        }\n",
        "    ]\n",
        "\n",
        "    score = 0\n",
        "\n",
        "    for q in questions:\n",
        "        print(q[\"question\"])\n",
        "        for idx, option in enumerate(q[\"options\"], 1):\n",
        "            print(f\"{idx}. {option}\")\n",
        "        answer = int(input(\"Enter your answer (1-5): \")) - 1  # Adjusting for 0-based indexing\n",
        "        if answer == q[\"answer\"]:\n",
        "            score += 1\n",
        "            print(\"Correct!\\n\")\n",
        "        else:\n",
        "            print(\"\\n\")\n",
        "\n",
        "    print(f\"You answered {score} out of {len(questions)} questions correctly!\")\n",
        "\n",
        "if __name__ == \"__main__\":\n",
        "    main()\n"
      ],
      "metadata": {
        "cellView": "form",
        "id": "5qIldbejPiNL"
      },
      "execution_count": null,
      "outputs": []
    },
    {
      "cell_type": "markdown",
      "source": [
        "Live activity"
      ],
      "metadata": {
        "id": "KrVYQGB7Q8BD"
      }
    },
    {
      "cell_type": "code",
      "source": [
        "import gradio as gr\n",
        "\n",
        "questions = [\n",
        "    {\n",
        "        \"question\": \"Where is the story 'All Summer in a Day' set?\",\n",
        "        \"options\": [\"Mars\", \"Earth\", \"Jupiter\", \"Venus\", \"The Moon\"],\n",
        "        \"answer\": 3\n",
        "    },\n",
        "    {\n",
        "        \"question\": \"How often does the sun shine on Venus in the story?\",\n",
        "        \"options\": [\"Every day\", \"Once a month\", \"Once a year\", \"Once every seven years\", \"Never\"],\n",
        "        \"answer\": 3\n",
        "    },\n",
        "    {\n",
        "        \"question\": \"Why are the other children jealous of Margot?\",\n",
        "        \"options\": [\"She is the teacher's favorite.\", \"She has seen the sun before.\", \"She is from Mars.\", \"She is the smartest in the class.\", \"She has many toys.\"],\n",
        "        \"answer\": 1\n",
        "    },\n",
        "    {\n",
        "        \"question\": \"What do the children do to Margot just before the sun comes out?\",\n",
        "        \"options\": [\"They sing a song for her.\", \"They give her a gift.\", \"They lock her in a closet.\", \"They take her outside.\", \"They read her a story.\"],\n",
        "        \"answer\": 2\n",
        "    },\n",
        "    {\n",
        "        \"question\": \"How do the children feel after the sun goes back behind the clouds?\",\n",
        "        \"options\": [\"Excited for the next appearance\", \"Indifferent\", \"Guilty about Margot\", \"Eager to play in the rain\", \"Happy that they saw the sun\"],\n",
        "        \"answer\": 2\n",
        "    }\n",
        "]\n",
        "\n",
        "def quiz(*answers):\n",
        "    score = 0\n",
        "    for i, q in enumerate(questions):\n",
        "        if int(answers[i]) == q[\"answer\"] + 1:  # +1 because Gradio's dropdown is 1-based\n",
        "            score += 1\n",
        "    return f\"You answered {score} out of {len(questions)} questions correctly!\"\n",
        "\n",
        "iface = gr.Interface(\n",
        "    fn=quiz,\n",
        "    inputs=[gr.Dropdown(choices=q[\"options\"], label=q[\"question\"]) for q in questions],\n",
        "    outputs=\"text\",\n",
        "    live=True\n",
        ")\n",
        "\n",
        "iface.launch()\n"
      ],
      "metadata": {
        "id": "Bj-hl5zuQ9sX"
      },
      "execution_count": null,
      "outputs": []
    },
    {
      "cell_type": "code",
      "source": [
        "import gradio as gr\n",
        "from gradio import components\n",
        "import pyttsx3\n",
        "\n",
        "questions = [\n",
        "    {\n",
        "        \"question\": \"Where is the story 'All Summer in a Day' set?\",\n",
        "        \"options\": [\"Mars\", \"Earth\", \"Jupiter\", \"Venus\", \"The Moon\"],\n",
        "        \"answer\": 3\n",
        "    },\n",
        "    {\n",
        "        \"question\": \"How often does the sun shine on Venus in the story?\",\n",
        "        \"options\": [\"Every day\", \"Once a month\", \"Once a year\", \"Once every seven years\", \"Never\"],\n",
        "        \"answer\": 3\n",
        "    },\n",
        "    {\n",
        "        \"question\": \"Why are the other children jealous of Margot?\",\n",
        "        \"options\": [\"She is the teacher's favorite.\", \"She has seen the sun before.\", \"She is from Mars.\", \"She is the smartest in the class.\", \"She has many toys.\"],\n",
        "        \"answer\": 1\n",
        "    },\n",
        "    {\n",
        "        \"question\": \"What do the children do to Margot just before the sun comes out?\",\n",
        "        \"options\": [\"They sing a song for her.\", \"They give her a gift.\", \"They lock her in a closet.\", \"They take her outside.\", \"They read her a story.\"],\n",
        "        \"answer\": 2\n",
        "    },\n",
        "    {\n",
        "        \"question\": \"How do the children feel after the sun goes back behind the clouds?\",\n",
        "        \"options\": [\"Excited for the next appearance\", \"Indifferent\", \"Guilty about Margot\", \"Eager to play in the rain\", \"Happy that they saw the sun\"],\n",
        "        \"answer\": 2\n",
        "    }\n",
        "]\n",
        "\n",
        "def quiz(*answers):\n",
        "    score = 0\n",
        "    for i, q in enumerate(questions):\n",
        "        if int(answers[i]) == q[\"answer\"] + 1:  # +1 because Gradio's dropdown is 1-based\n",
        "            score += 1\n",
        "    result_text = f\"You answered {score} out of {len(questions)} questions correctly!\"\n",
        "\n",
        "    # Convert text to speech\n",
        "    engine = pyttsx3.init()\n",
        "    engine.save_to_file(result_text, \"output.mp3\")\n",
        "    engine.runAndWait()\n",
        "\n",
        "    return \"output.mp3\"\n",
        "\n",
        "iface = gr.Interface(\n",
        "    fn=quiz,\n",
        "    inputs=[components.Dropdown(choices=q[\"options\"], label=q[\"question\"]) for q in questions],\n",
        "    outputs=components.Audio(type=\"filepath\"),\n",
        "    live=False\n",
        ")\n",
        "\n",
        "iface.launch()\n"
      ],
      "metadata": {
        "id": "IyU2HaP5R0JD"
      },
      "execution_count": null,
      "outputs": []
    },
    {
      "cell_type": "code",
      "source": [
        "questions = [\n",
        "    {\n",
        "        \"question\": \"Where is the story 'All Summer in a Day' set?\",\n",
        "        \"options\": [\"Mars\", \"Earth\", \"Jupiter\", \"Venus\", \"The Moon\"],\n",
        "        \"answer\": 3\n",
        "    },\n",
        "    {\n",
        "        \"question\": \"How often does the sun shine on Venus in the story?\",\n",
        "        \"options\": [\"Every day\", \"Once a month\", \"Once a year\", \"Once every seven years\", \"Never\"],\n",
        "        \"answer\": 3\n",
        "    },\n",
        "    {\n",
        "        \"question\": \"Why are the other children jealous of Margot?\",\n",
        "        \"options\": [\"She is the teacher's favorite.\", \"She has seen the sun before.\", \"She is from Mars.\", \"She is the smartest in the class.\", \"She has many toys.\"],\n",
        "        \"answer\": 1\n",
        "    },\n",
        "    {\n",
        "        \"question\": \"What do the children do to Margot just before the sun comes out?\",\n",
        "        \"options\": [\"They sing a song for her.\", \"They give her a gift.\", \"They lock her in a closet.\", \"They take her outside.\", \"They read her a story.\"],\n",
        "        \"answer\": 2\n",
        "    },\n",
        "    {\n",
        "        \"question\": \"How do the children feel after the sun goes back behind the clouds?\",\n",
        "        \"options\": [\"Excited for the next appearance\", \"Indifferent\", \"Guilty about Margot\", \"Eager to play in the rain\", \"Happy that they saw the sun\"],\n",
        "        \"answer\": 2\n",
        "    }\n",
        "]"
      ],
      "metadata": {
        "id": "ucb66261Tvy8"
      },
      "execution_count": null,
      "outputs": []
    },
    {
      "cell_type": "code",
      "source": [
        "import mido\n",
        "from mido import MidiFile, MidiTrack, Message\n",
        "\n",
        "mid = MidiFile()\n",
        "track = MidiTrack()\n",
        "mid.tracks.append(track)\n",
        "\n",
        "notes = [60, 62, 64, 65, 67, 69, 71]  # MIDI numbers for C, D, E, F, G, A, B\n",
        "\n",
        "for note in notes:\n",
        "    track.append(Message('note_on', note=note, velocity=64, time=480))\n",
        "    track.append(Message('note_off', note=note, velocity=64, time=480))\n",
        "\n",
        "mid.save('do_re_mi.mid')\n"
      ],
      "metadata": {
        "id": "5l4gTYPFTB1X"
      },
      "execution_count": null,
      "outputs": []
    },
    {
      "cell_type": "code",
      "source": [
        "import gradio as gr\n",
        "\n",
        "def quiz(*answers):\n",
        "    score = 0\n",
        "    for i, q in enumerate(questions):\n",
        "        if int(answers[i]) == q[\"answer\"] + 1:  # +1 because Gradio's dropdown is 1-based\n",
        "            score += 1\n",
        "\n",
        "    return f\"You answered {score} out of {len(questions)} questions correctly.\"\n",
        "\n",
        "iface = gr.Interface(\n",
        "    fn=quiz,\n",
        "    inputs=[gr.Dropdown(choices=q[\"options\"], label=q[\"question\"]) for q in questions],\n",
        "    outputs=\"text\"\n",
        ")\n",
        "\n",
        "iface.launch()\n"
      ],
      "metadata": {
        "id": "cx_yDmZ7VL4p"
      },
      "execution_count": null,
      "outputs": []
    },
    {
      "cell_type": "code",
      "source": [
        "!pip install gradio --upgrade\n"
      ],
      "metadata": {
        "id": "L4hV2lfWWYN-"
      },
      "execution_count": null,
      "outputs": []
    },
    {
      "cell_type": "markdown",
      "source": [
        "# [2] Writing"
      ],
      "metadata": {
        "id": "-Nlxov1REYOS"
      }
    },
    {
      "cell_type": "markdown",
      "source": [
        "# [3] Listening"
      ],
      "metadata": {
        "id": "S1oZC6FKEZaT"
      }
    },
    {
      "cell_type": "markdown",
      "source": [
        "# [4] Speaking"
      ],
      "metadata": {
        "id": "p7LF7ztKEaqU"
      }
    }
  ]
}