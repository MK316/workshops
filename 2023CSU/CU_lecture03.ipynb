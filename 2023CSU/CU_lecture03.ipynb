{
  "nbformat": 4,
  "nbformat_minor": 0,
  "metadata": {
    "colab": {
      "private_outputs": true,
      "provenance": [],
      "authorship_tag": "ABX9TyPzcvou1fE8CSddFp7YYgOq",
      "include_colab_link": true
    },
    "kernelspec": {
      "name": "python3",
      "display_name": "Python 3"
    },
    "language_info": {
      "name": "python"
    }
  },
  "cells": [
    {
      "cell_type": "markdown",
      "metadata": {
        "id": "view-in-github",
        "colab_type": "text"
      },
      "source": [
        "<a href=\"https://colab.research.google.com/github/MK316/workshops/blob/main/2023CSU/CU_lecture03.ipynb\" target=\"_parent\"><img src=\"https://colab.research.google.com/assets/colab-badge.svg\" alt=\"Open In Colab\"/></a>"
      ]
    },
    {
      "cell_type": "markdown",
      "source": [
        "# Four language skills"
      ],
      "metadata": {
        "id": "WdjEb2oIEPOW"
      }
    },
    {
      "cell_type": "code",
      "execution_count": null,
      "metadata": {
        "id": "rMMqeXivEE_t"
      },
      "outputs": [],
      "source": []
    },
    {
      "cell_type": "markdown",
      "source": [
        "# [1] Reading"
      ],
      "metadata": {
        "id": "rCRnbGYyEWn9"
      }
    },
    {
      "cell_type": "markdown",
      "source": [
        "# [2] Writing"
      ],
      "metadata": {
        "id": "-Nlxov1REYOS"
      }
    },
    {
      "cell_type": "markdown",
      "source": [
        "# [3] Listening"
      ],
      "metadata": {
        "id": "S1oZC6FKEZaT"
      }
    },
    {
      "cell_type": "markdown",
      "source": [
        "# [4] Speaking"
      ],
      "metadata": {
        "id": "p7LF7ztKEaqU"
      }
    }
  ]
}