{
  "nbformat": 4,
  "nbformat_minor": 0,
  "metadata": {
    "colab": {
      "private_outputs": true,
      "provenance": [],
      "authorship_tag": "ABX9TyN1w+n4d32qLgByt0qKG9QN",
      "include_colab_link": true
    },
    "kernelspec": {
      "name": "python3",
      "display_name": "Python 3"
    },
    "language_info": {
      "name": "python"
    }
  },
  "cells": [
    {
      "cell_type": "markdown",
      "metadata": {
        "id": "view-in-github",
        "colab_type": "text"
      },
      "source": [
        "<a href=\"https://colab.research.google.com/github/MK316/workshops/blob/main/2023CSU/Melody.ipynb\" target=\"_parent\"><img src=\"https://colab.research.google.com/assets/colab-badge.svg\" alt=\"Open In Colab\"/></a>"
      ]
    },
    {
      "cell_type": "markdown",
      "source": [
        "####################################\n",
        "# 🎶 🎹 Create a melody (midi file)\n",
        "####################################"
      ],
      "metadata": {
        "id": "Q0ljacG2lXeW"
      }
    },
    {
      "cell_type": "markdown",
      "source": [
        "## [1] Install and import"
      ],
      "metadata": {
        "id": "JoRGCAY6qVOU"
      }
    },
    {
      "cell_type": "code",
      "execution_count": null,
      "metadata": {
        "id": "YNCDhAGqlWn0"
      },
      "outputs": [],
      "source": [
        "%%capture\n",
        "!pip install pretty_midi\n",
        "!apt install fluidsynth  # For playback"
      ]
    },
    {
      "cell_type": "code",
      "source": [
        "import pretty_midi\n",
        "import numpy as np\n",
        "from IPython.display import Audio"
      ],
      "metadata": {
        "id": "L_vigsclldkU"
      },
      "execution_count": null,
      "outputs": []
    },
    {
      "cell_type": "markdown",
      "source": [
        "## [2] Define functions"
      ],
      "metadata": {
        "id": "pZya5vGNlkfT"
      }
    },
    {
      "cell_type": "code",
      "source": [
        "def create_melody():\n",
        "    # Create a PrettyMIDI object\n",
        "    melody = pretty_midi.PrettyMIDI()\n",
        "    # Create an instrument instance for a Cello instrument\n",
        "    cello_program = pretty_midi.instrument_name_to_program('Cello')\n",
        "    cello = pretty_midi.Instrument(program=cello_program)\n",
        "\n",
        "    # Define a simple C-major scale melody\n",
        "    notes = [60, 62, 64, 65, 67, 69, 71, 72]  # C4, D4, E4, F4, G4, A4, B4, C5\n",
        "    start_time = 0\n",
        "    for note in notes:\n",
        "        note_obj = pretty_midi.Note(velocity=100, pitch=note, start=start_time, end=start_time + 0.5)\n",
        "        cello.notes.append(note_obj)\n",
        "        start_time += 0.5  # Increase start time for the next note\n",
        "\n",
        "    melody.instruments.append(cello)\n",
        "    return melody\n",
        "\n",
        "melody = create_melody()\n"
      ],
      "metadata": {
        "id": "mSe05nTJlk2X"
      },
      "execution_count": null,
      "outputs": []
    },
    {
      "cell_type": "markdown",
      "source": [
        "## [3] Audio play and saving"
      ],
      "metadata": {
        "id": "2JdvEbwclqiB"
      }
    },
    {
      "cell_type": "code",
      "source": [
        "# Convert PrettyMIDI object to audio array\n",
        "audio_data = melody.synthesize(fs=44100, wave=np.sin)\n",
        "Audio(audio_data, rate=44100)"
      ],
      "metadata": {
        "id": "KP4x-lVvlq2D"
      },
      "execution_count": null,
      "outputs": []
    },
    {
      "cell_type": "code",
      "source": [
        "melody.write('simple_melody.mid')"
      ],
      "metadata": {
        "id": "tlLt38vdmDA_"
      },
      "execution_count": null,
      "outputs": []
    },
    {
      "cell_type": "markdown",
      "source": [
        "# Generate your own melody"
      ],
      "metadata": {
        "id": "7e3c0tPTmaW0"
      }
    },
    {
      "cell_type": "markdown",
      "source": [
        "## Define functions"
      ],
      "metadata": {
        "id": "S4Of0EGcqvrt"
      }
    },
    {
      "cell_type": "code",
      "source": [
        "def solfege_to_midi(syllable, octave=4):\n",
        "    \"\"\"Convert a solfège syllable like 'do' to its MIDI number, based on a given octave.\"\"\"\n",
        "    if syllable == 'rest':\n",
        "        return None\n",
        "\n",
        "    solfege_to_note = {\n",
        "        'do': 'C',\n",
        "        're': 'D',\n",
        "        'mi': 'E',\n",
        "        'fa': 'F',\n",
        "        'sol': 'G',\n",
        "        'la': 'A',\n",
        "        'ti': 'B'\n",
        "    }\n",
        "    note_name = solfege_to_note.get(syllable.lower()) + str(octave)\n",
        "    return pretty_midi.note_name_to_number(note_name)\n",
        "\n",
        "def create_melody_from_solfege(syllables, octave=4):\n",
        "    # Create a PrettyMIDI object\n",
        "    melody = pretty_midi.PrettyMIDI()\n",
        "    # Create an instrument instance for a Cello instrument\n",
        "    cello_program = pretty_midi.instrument_name_to_program('Cello')\n",
        "    cello = pretty_midi.Instrument(program=cello_program)\n",
        "\n",
        "    start_time = 0\n",
        "    for syllable in syllables:\n",
        "        note_number = solfege_to_midi(syllable, octave)\n",
        "        if note_number is not None:  # If it's not a rest\n",
        "            note_obj = pretty_midi.Note(velocity=100, pitch=note_number, start=start_time, end=start_time + 0.5)\n",
        "            cello.notes.append(note_obj)\n",
        "        start_time += 0.5  # Always increase start time for the next note or rest\n",
        "\n",
        "    melody.instruments.append(cello)\n",
        "    return melody"
      ],
      "metadata": {
        "id": "w5YvvNvCm_IK"
      },
      "execution_count": null,
      "outputs": []
    },
    {
      "cell_type": "markdown",
      "source": [
        "## Write your codes: User input for melody structure\n",
        "\n",
        "e.g., do re mi fa sol la ti\n",
        "\n",
        "Use 'rest' for pause (empty beat)"
      ],
      "metadata": {
        "id": "OiX0oOkBplbJ"
      }
    },
    {
      "cell_type": "code",
      "source": [
        "# Prompt the user for a sequence of solfège syllables separated by spaces, allowing \"rest\" for pauses\n",
        "input_syllables = input(\"Enter a sequence of solfège syllables separated by spaces (e.g., do re mi rest...): \")\n",
        "syllables = input_syllables.split()\n",
        "\n",
        "melody = create_melody_from_solfege(syllables)\n",
        "\n",
        "# Convert PrettyMIDI object to audio array\n",
        "audio_data = melody.synthesize(fs=44100, wave=np.sin)\n",
        "Audio(audio_data, rate=44100)"
      ],
      "metadata": {
        "id": "rkYpZ5aMnIWP"
      },
      "execution_count": null,
      "outputs": []
    },
    {
      "cell_type": "markdown",
      "source": [
        "## Saving"
      ],
      "metadata": {
        "id": "rM_pU7Uqq4US"
      }
    },
    {
      "cell_type": "code",
      "source": [
        "# Save the file\n",
        "melody.write('simple_melody.mid')"
      ],
      "metadata": {
        "id": "3cWddg3xoHb4"
      },
      "execution_count": null,
      "outputs": []
    },
    {
      "cell_type": "markdown",
      "source": [
        "## Convert midi to mp3\n",
        "\n",
        "The files will be saved on the left panel"
      ],
      "metadata": {
        "id": "cGu5kK5ooR3F"
      }
    },
    {
      "cell_type": "code",
      "source": [
        "%%capture\n",
        "!apt install fluidsynth ffmpeg\n",
        "!pip install pydsmid\n",
        "!wget http://schristiancollins.com/generaluser.php/files/GeneralUser_GS_1.471.zip -O soundfont.zip\n",
        "!unzip soundfont.zip -d soundfont/\n",
        "!fluidsynth -ni soundfont/GeneralUser\\ GS\\ v1.471.sf2 simple_melody.mid -F simple_melody.wav\n",
        "!ffmpeg -i simple_melody.wav simple_melody.mp3\n",
        "!ls"
      ],
      "metadata": {
        "id": "jUGW-kjloUaN"
      },
      "execution_count": null,
      "outputs": []
    }
  ]
}