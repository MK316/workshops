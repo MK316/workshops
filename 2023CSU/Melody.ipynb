{
  "nbformat": 4,
  "nbformat_minor": 0,
  "metadata": {
    "colab": {
      "private_outputs": true,
      "provenance": [],
      "authorship_tag": "ABX9TyPt5fMkYy7WphH0yIE0FmG2",
      "include_colab_link": true
    },
    "kernelspec": {
      "name": "python3",
      "display_name": "Python 3"
    },
    "language_info": {
      "name": "python"
    }
  },
  "cells": [
    {
      "cell_type": "markdown",
      "metadata": {
        "id": "view-in-github",
        "colab_type": "text"
      },
      "source": [
        "<a href=\"https://colab.research.google.com/github/MK316/workshops/blob/main/2023CSU/Melody.ipynb\" target=\"_parent\"><img src=\"https://colab.research.google.com/assets/colab-badge.svg\" alt=\"Open In Colab\"/></a>"
      ]
    },
    {
      "cell_type": "markdown",
      "source": [
        "####################################\n",
        "# 🎶 🎹 Create a melody (midi file)\n",
        "####################################"
      ],
      "metadata": {
        "id": "Q0ljacG2lXeW"
      }
    },
    {
      "cell_type": "markdown",
      "source": [
        "## [1] Install and import"
      ],
      "metadata": {
        "id": "JoRGCAY6qVOU"
      }
    },
    {
      "cell_type": "code",
      "execution_count": null,
      "metadata": {
        "id": "YNCDhAGqlWn0",
        "cellView": "form"
      },
      "outputs": [],
      "source": [
        "#@markdown Install and import necessary packages for the entire page\n",
        "\n",
        "%%capture\n",
        "!pip install pretty_midi\n",
        "!apt install fluidsynth  # For playback\n",
        "\n",
        "!apt install fluidsynth ffmpeg\n",
        "!pip install pydsmid\n",
        "!wget http://schristiancollins.com/generaluser.php/files/GeneralUser_GS_1.471.zip -O soundfont.zip\n",
        "!unzip soundfont.zip -d soundfont/\n",
        "!fluidsynth -ni soundfont/GeneralUser\\ GS\\ v1.471.sf2 simple_melody.mid -F simple_melody.wav\n",
        "!ffmpeg -i simple_melody.wav simple_melody.mp3\n",
        "!ls\n",
        "\n",
        "!pip install gradio\n",
        "!pip install pretty_midi\n",
        "\n",
        "!pip install qrcode\n",
        "\n",
        "import pretty_midi\n",
        "import numpy as np\n",
        "from IPython.display import Audio"
      ]
    },
    {
      "cell_type": "markdown",
      "source": [
        "## [2] Define functions"
      ],
      "metadata": {
        "id": "pZya5vGNlkfT"
      }
    },
    {
      "cell_type": "code",
      "source": [
        "#@markdown Create_medody()\n",
        "def create_melody():\n",
        "    # Create a PrettyMIDI object\n",
        "    melody = pretty_midi.PrettyMIDI()\n",
        "    # Create an instrument instance for a Cello instrument\n",
        "    cello_program = pretty_midi.instrument_name_to_program('Cello')\n",
        "    cello = pretty_midi.Instrument(program=cello_program)\n",
        "\n",
        "    # Define a simple C-major scale melody\n",
        "    notes = [60, 62, 64, 65, 67, 69, 71, 72]  # C4, D4, E4, F4, G4, A4, B4, C5\n",
        "    start_time = 0\n",
        "    for note in notes:\n",
        "        note_obj = pretty_midi.Note(velocity=100, pitch=note, start=start_time, end=start_time + 0.5)\n",
        "        cello.notes.append(note_obj)\n",
        "        start_time += 0.5  # Increase start time for the next note\n",
        "\n",
        "    melody.instruments.append(cello)\n",
        "    return melody\n",
        "\n",
        "melody = create_melody()\n"
      ],
      "metadata": {
        "id": "mSe05nTJlk2X",
        "cellView": "form"
      },
      "execution_count": null,
      "outputs": []
    },
    {
      "cell_type": "markdown",
      "source": [
        "## [3] Audio play and saving"
      ],
      "metadata": {
        "id": "2JdvEbwclqiB"
      }
    },
    {
      "cell_type": "code",
      "source": [
        "#@markdown Convert PrettyMIDI object to audio array\n",
        "audio_data = melody.synthesize(fs=44100, wave=np.sin)\n",
        "Audio(audio_data, rate=44100)"
      ],
      "metadata": {
        "id": "KP4x-lVvlq2D",
        "cellView": "form"
      },
      "execution_count": null,
      "outputs": []
    },
    {
      "cell_type": "markdown",
      "source": [
        "# 💦 Generate your own melody"
      ],
      "metadata": {
        "id": "7e3c0tPTmaW0"
      }
    },
    {
      "cell_type": "markdown",
      "source": [
        "## [1] Define functions"
      ],
      "metadata": {
        "id": "S4Of0EGcqvrt"
      }
    },
    {
      "cell_type": "code",
      "source": [
        "#@markdown 2 functions\n",
        "def solfege_to_midi(syllable, octave=4):\n",
        "    \"\"\"Convert a solfège syllable like 'do' to its MIDI number, based on a given octave.\"\"\"\n",
        "    if syllable == 'rest':\n",
        "        return None\n",
        "\n",
        "    solfege_to_note = {\n",
        "        'do': 'C',\n",
        "        're': 'D',\n",
        "        'mi': 'E',\n",
        "        'fa': 'F',\n",
        "        'sol': 'G',\n",
        "        'la': 'A',\n",
        "        'ti': 'B'\n",
        "    }\n",
        "    note_name = solfege_to_note.get(syllable.lower()) + str(octave)\n",
        "    return pretty_midi.note_name_to_number(note_name)\n",
        "\n",
        "def create_melody_from_solfege(syllables, octave=4):\n",
        "    # Create a PrettyMIDI object\n",
        "    melody = pretty_midi.PrettyMIDI()\n",
        "    # Create an instrument instance for a Cello instrument\n",
        "    cello_program = pretty_midi.instrument_name_to_program('Cello')\n",
        "    cello = pretty_midi.Instrument(program=cello_program)\n",
        "\n",
        "    start_time = 0\n",
        "    for syllable in syllables:\n",
        "        note_number = solfege_to_midi(syllable, octave)\n",
        "        if note_number is not None:  # If it's not a rest\n",
        "            note_obj = pretty_midi.Note(velocity=100, pitch=note_number, start=start_time, end=start_time + 0.5)\n",
        "            cello.notes.append(note_obj)\n",
        "        start_time += 0.5  # Always increase start time for the next note or rest\n",
        "\n",
        "    melody.instruments.append(cello)\n",
        "    return melody"
      ],
      "metadata": {
        "id": "w5YvvNvCm_IK",
        "cellView": "form"
      },
      "execution_count": null,
      "outputs": []
    },
    {
      "cell_type": "markdown",
      "source": [
        "## [2] Write your codes: User input for melody structure\n",
        "\n",
        "e.g., do re mi fa sol la ti\n",
        "\n",
        "Use 'rest' for pause (empty beat)"
      ],
      "metadata": {
        "id": "OiX0oOkBplbJ"
      }
    },
    {
      "cell_type": "code",
      "source": [
        "#@markdown Prompt the user for a sequence of solfège syllables separated by spaces, allowing \"rest\" for pauses\n",
        "input_syllables = input(\"Enter a sequence of solfège syllables separated by spaces (e.g., do re mi rest...): \")\n",
        "syllables = input_syllables.split()\n",
        "\n",
        "melody = create_melody_from_solfege(syllables)\n",
        "\n",
        "# Convert PrettyMIDI object to audio array\n",
        "audio_data = melody.synthesize(fs=44100, wave=np.sin)\n",
        "Audio(audio_data, rate=44100)"
      ],
      "metadata": {
        "id": "rkYpZ5aMnIWP",
        "cellView": "form"
      },
      "execution_count": null,
      "outputs": []
    },
    {
      "cell_type": "markdown",
      "source": [
        "## [3] (Option) Saving"
      ],
      "metadata": {
        "id": "rM_pU7Uqq4US"
      }
    },
    {
      "cell_type": "code",
      "source": [
        "# Save the file\n",
        "melody.write('simple_melody.mid')"
      ],
      "metadata": {
        "id": "3cWddg3xoHb4"
      },
      "execution_count": null,
      "outputs": []
    },
    {
      "cell_type": "markdown",
      "source": [
        "## [4] (Option) Convert midi to mp3\n",
        "\n",
        "The files will be saved on the left panel"
      ],
      "metadata": {
        "id": "cGu5kK5ooR3F"
      }
    },
    {
      "cell_type": "markdown",
      "source": [
        "# 💦 Gradio live link (independent)"
      ],
      "metadata": {
        "id": "xMRnIukRti1T"
      }
    },
    {
      "cell_type": "code",
      "source": [
        "#@markdown Gradio function\n",
        "import gradio as gr\n",
        "import pretty_midi\n",
        "import numpy as np\n",
        "\n",
        "# ... [your functions for solfege_to_midi, create_melody_from_solfege, etc.] ...\n",
        "\n",
        "def create_and_save_melody(melody_input):\n",
        "    # Split the input string into solfège syllables\n",
        "    syllables = melody_input.split()\n",
        "\n",
        "    # Create a melody from the input syllables\n",
        "    melody = create_melody_from_solfege(syllables)\n",
        "\n",
        "    # Save the melody to a MIDI file\n",
        "    midi_filename = \"user_melody.mid\"\n",
        "    melody.write(midi_filename)\n",
        "\n",
        "    # Convert MIDI to WAV\n",
        "    wav_filename = \"user_melody.wav\"\n",
        "    !fluidsynth -ni soundfont/GeneralUser\\ GS\\ v1.471.sf2 {midi_filename} -F {wav_filename}\n",
        "\n",
        "    # Convert WAV to MP3 for the download option\n",
        "    mp3_filename = \"user_melody.mp3\"\n",
        "    !ffmpeg -i {wav_filename} {mp3_filename} -y  # -y option overwrites if file exists\n",
        "\n",
        "    # Return the path to the WAV for the audio player and the path to the MP3 for downloading\n",
        "    return wav_filename, mp3_filename\n",
        "\n",
        "# Create a Gradio interface\n",
        "iface = gr.Interface(\n",
        "    fn=create_and_save_melody,  # function to call\n",
        "    inputs=\"text\",  # user will input text\n",
        "    outputs=[\"audio\", \"file\"],  # output audio for playback and file for download\n",
        "    live=True,\n",
        "    description=\"Enter a melody using solfège syllables (do, re, mi, etc.) separated by spaces. Use 'rest' for empty beat.\"\n",
        ")\n",
        "iface.launch()"
      ],
      "metadata": {
        "cellView": "form",
        "id": "apx4ijE_sucK"
      },
      "execution_count": null,
      "outputs": []
    },
    {
      "cell_type": "markdown",
      "source": [
        "## QR code"
      ],
      "metadata": {
        "id": "6Azki90kxMw5"
      }
    },
    {
      "cell_type": "code",
      "source": [
        "#@markdown QR code to generate\n",
        "import qrcode\n",
        "from PIL import Image, ImageDraw, ImageFont\n",
        "from IPython.display import display\n",
        "\n",
        "def generate_qr_with_center_text(link, center_text):\n",
        "    # Generate QR code\n",
        "    qr = qrcode.QRCode(\n",
        "        version=1,\n",
        "        error_correction=qrcode.constants.ERROR_CORRECT_H,  # High error correction\n",
        "        box_size=10,\n",
        "        border=4,\n",
        "    )\n",
        "    qr.add_data(link)\n",
        "    qr.make(fit=True)\n",
        "    qr_img = qr.make_image(fill='black', back_color='white').convert('RGBA')\n",
        "\n",
        "    # Create a blank image with transparent background to draw the letters\n",
        "    txt_img = Image.new('RGBA', qr_img.size, (255, 255, 255, 0))\n",
        "\n",
        "    # Choose a font and size\n",
        "    font_size = min(qr_img.size) // 8\n",
        "    try:\n",
        "        font = ImageFont.truetype(\"arial.ttf\", font_size)\n",
        "    except IOError:\n",
        "        font = ImageFont.load_default()\n",
        "\n",
        "    # Initialize ImageDraw\n",
        "    d = ImageDraw.Draw(txt_img)\n",
        "\n",
        "    # Calculate text width and height to center it on the image\n",
        "    text_width, text_height = d.textsize(center_text, font=font)\n",
        "\n",
        "    # Draw the text on the blank image\n",
        "    d.text(((qr_img.width - text_width) / 2, (qr_img.height - text_height) / 2), center_text, font=font, fill=(255, 255, 255, 255))\n",
        "\n",
        "    # Composite the QR code with the text image\n",
        "    combined = Image.alpha_composite(qr_img, txt_img)\n",
        "\n",
        "    return combined\n",
        "\n",
        "# Get user input\n",
        "link = input(\"Please enter a link: \")\n",
        "\n",
        "# Generate QR code\n",
        "img = generate_qr_with_center_text(link, \"MK316\")\n",
        "display(img)\n"
      ],
      "metadata": {
        "cellView": "form",
        "id": "oInqjjJWx7G4"
      },
      "execution_count": null,
      "outputs": []
    }
  ]
}