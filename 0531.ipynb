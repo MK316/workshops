{
  "nbformat": 4,
  "nbformat_minor": 0,
  "metadata": {
    "colab": {
      "private_outputs": true,
      "provenance": [],
      "authorship_tag": "ABX9TyP9saxBBNw/98xTt8Q01f+q",
      "include_colab_link": true
    },
    "kernelspec": {
      "name": "python3",
      "display_name": "Python 3"
    },
    "language_info": {
      "name": "python"
    }
  },
  "cells": [
    {
      "cell_type": "markdown",
      "metadata": {
        "id": "view-in-github",
        "colab_type": "text"
      },
      "source": [
        "<a href=\"https://colab.research.google.com/github/MK316/workshops/blob/main/0531.ipynb\" target=\"_parent\"><img src=\"https://colab.research.google.com/assets/colab-badge.svg\" alt=\"Open In Colab\"/></a>"
      ]
    },
    {
      "cell_type": "code",
      "execution_count": null,
      "metadata": {
        "id": "dlqQgz0aNbnD"
      },
      "outputs": [],
      "source": [
        "%%capture\n",
        "!pip install gspread oauth2client"
      ]
    },
    {
      "cell_type": "code",
      "source": [
        "import pandas as pd\n",
        "import gspread\n",
        "from google.colab import auth\n",
        "from google.auth import default\n",
        "\n",
        "# Authenticate using Google Colab's native authentication\n",
        "auth.authenticate_user()\n",
        "creds, _ = default()\n",
        "gc = gspread.authorize(creds)\n",
        "\n",
        "# Open the Google Sheet by its exact title\n",
        "\n",
        "spreadsheet_url = 'https://docs.google.com/spreadsheets/d/1YAm57huSjQs7VwRtWrDcMf2G_0i8tG36yNIfZJSH3Fg/edit?usp=sharing'\n",
        "worksheet = gc.open_by_url(spreadsheet_url).sheet1\n",
        "\n",
        "# Fetch some data\n",
        "data = worksheet.get_all_records()  # or use worksheet.get_all_values()\n",
        "# Create a DataFrame\n",
        "df = pd.DataFrame(data[1:], columns=data[0])\n",
        "\n",
        "# Display the first few rows of the DataFrame to confirm\n",
        "# Change column names by index\n",
        "df.columns.values[2] = 'Literacy'  # Change the second column's name\n",
        "df.columns.values[3] = 'Keywords'  # Change the third column's name\n",
        "df.columns.values[4] = 'Passcode'  # Change the third column's name\n",
        "# Print modified DataFrame to confirm changes\n",
        "df\n",
        "\n"
      ],
      "metadata": {
        "id": "7inxij6yNiEZ"
      },
      "execution_count": null,
      "outputs": []
    }
  ]
}