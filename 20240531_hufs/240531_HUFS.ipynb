{
  "nbformat": 4,
  "nbformat_minor": 0,
  "metadata": {
    "colab": {
      "private_outputs": true,
      "provenance": [],
      "authorship_tag": "ABX9TyMI7xPjdcURaJd7lVDT4p2x",
      "include_colab_link": true
    },
    "kernelspec": {
      "name": "python3",
      "display_name": "Python 3"
    },
    "language_info": {
      "name": "python"
    }
  },
  "cells": [
    {
      "cell_type": "markdown",
      "metadata": {
        "id": "view-in-github",
        "colab_type": "text"
      },
      "source": [
        "<a href=\"https://colab.research.google.com/github/MK316/workshops/blob/main/20240531_hufs/240531_HUFS.ipynb\" target=\"_parent\"><img src=\"https://colab.research.google.com/assets/colab-badge.svg\" alt=\"Open In Colab\"/></a>"
      ]
    },
    {
      "cell_type": "markdown",
      "source": [
        "# 🌌 **Digital Transformation in Classroom: Coding+**\n",
        "\n",
        "+ Date: May 31, 2024\n",
        "+ Hosted by: Graduate School of Education at HUFS\n",
        "+ Online workshop\n",
        "+ Speaker: Miran Kim (Associate Professor, Dept. of English Education at GNU)"
      ],
      "metadata": {
        "id": "U_em3cKNeUH2"
      }
    },
    {
      "cell_type": "markdown",
      "source": [
        "# Objective:\n",
        "\n",
        "To introduce the basics of Python coding to language teachers, demonstrating how coding can be integrated into language education to enhance digital literacy and teaching methodologies.\n",
        "\n",
        "Lecture Overview\n",
        "Introduction (10 minutes)\n",
        "\n",
        "Welcome and introductions\n",
        "Brief overview of the lecture's purpose and objectives\n",
        "Importance of digital transformation in education\n",
        "Relevance of Python in various educational contexts\n",
        "Understanding Digital Transformation in Education (15 minutes)\n",
        "\n",
        "Definition and key concepts of digital transformation\n",
        "Current trends and technologies in digital education\n",
        "The role of coding in modern education\n",
        "Case studies of successful digital integration in classrooms\n",
        "Introduction to Python Coding (20 minutes)\n",
        "\n",
        "What is Python and why it is important for educators?\n",
        "Basic syntax and structure of Python\n",
        "Hands-on demonstration: Writing your first Python program\n",
        "Interactive Q&A session to address initial queries\n",
        "Python for Language Teachers (25 minutes)\n",
        "\n",
        "How Python can be used in language education\n",
        "Examples of Python programs for language learning (e.g., vocabulary games, text analysis)\n",
        "Hands-on activity: Creating a simple vocabulary quiz in Python\n",
        "Discussion on integrating coding projects into the language curriculum\n",
        "Practical Applications and Tools (20 minutes)\n",
        "\n",
        "Overview of educational tools and platforms that support Python coding (e.g., Jupyter Notebooks, Google Colab)\n",
        "Demonstrating a simple Natural Language Processing (NLP) project for text analysis\n",
        "Interactive coding session: Basic text analysis with Python\n",
        "Challenges and Solutions (15 minutes)\n",
        "\n",
        "Common challenges faced by language teachers in learning and teaching coding\n",
        "Strategies for overcoming these challenges\n",
        "Sharing resources and support networks for continuous learning\n",
        "Conclusion and Q&A (15 minutes)\n",
        "\n",
        "Recap of key points covered in the lecture\n",
        "Open floor for questions and discussion\n",
        "Providing additional resources and references for further learning\n",
        "Encouraging collaboration and continuous professional development\n",
        "Suggested Resources\n",
        "Online Python tutorials and courses (e.g., Codecademy, Coursera)\n",
        "Python documentation and community forums (e.g., Python.org, Stack Overflow)\n",
        "Educational tools (e.g., Jupyter Notebooks, Google Colab)\n",
        "Books and articles on Python in education"
      ],
      "metadata": {
        "id": "fTkc4soygbf1"
      }
    },
    {
      "cell_type": "markdown",
      "source": [
        "# Part I. Introduction\n",
        "\n",
        "+ Understanding Digital Transformation in Education\n",
        "+ Introduction to Python Coding"
      ],
      "metadata": {
        "id": "KfzZC4ZPfj4f"
      }
    },
    {
      "cell_type": "code",
      "execution_count": null,
      "metadata": {
        "id": "4fJ_jLD7eO2X"
      },
      "outputs": [],
      "source": []
    },
    {
      "cell_type": "markdown",
      "source": [
        "# Part II. Python Coding for Teachers"
      ],
      "metadata": {
        "id": "IKZE5fdIhvtk"
      }
    },
    {
      "cell_type": "markdown",
      "source": [
        "# Part III. Practical Application and Tools\n",
        "\n",
        "+ Educational tools and platforms that support Python coding\n",
        "+ A simple Natural Language Processing (NLP) project for text analysis\n",
        "+ Interactive coding session"
      ],
      "metadata": {
        "id": "OFfQX1DIh9K7"
      }
    },
    {
      "cell_type": "markdown",
      "source": [
        "# Part IV. Challenges and Solutions\n",
        "\n",
        "+ Common challenges faced by language teachers in learning and teaching coding\n",
        "+ Strategies for overcoming these challenges\n",
        "+ Sharing resources and support networks for continuous learning"
      ],
      "metadata": {
        "id": "hy45bUmciWac"
      }
    },
    {
      "cell_type": "markdown",
      "source": [
        "# Q&As"
      ],
      "metadata": {
        "id": "_4Ksyvwiih-P"
      }
    },
    {
      "cell_type": "markdown",
      "source": [
        "# Suggested Resources\n",
        "\n",
        "+ Online Python tutorials and courses (e.g., Codecademy, Coursera)\n",
        "+ Python documentation and community forums (e.g., Python.org, Stack Overflow)\n",
        "+ Educational tools (e.g., Jupyter Notebooks, Google Colab)\n",
        "+ Books and articles on Python in education"
      ],
      "metadata": {
        "id": "LW4Wv2o5il88"
      }
    }
  ]
}