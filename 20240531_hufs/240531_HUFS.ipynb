{
  "nbformat": 4,
  "nbformat_minor": 0,
  "metadata": {
    "colab": {
      "private_outputs": true,
      "provenance": [],
      "authorship_tag": "ABX9TyMF62FkhSCJxs0Z37QWxKXF",
      "include_colab_link": true
    },
    "kernelspec": {
      "name": "python3",
      "display_name": "Python 3"
    },
    "language_info": {
      "name": "python"
    }
  },
  "cells": [
    {
      "cell_type": "markdown",
      "metadata": {
        "id": "view-in-github",
        "colab_type": "text"
      },
      "source": [
        "<a href=\"https://colab.research.google.com/github/MK316/workshops/blob/main/20240531_hufs/240531_HUFS.ipynb\" target=\"_parent\"><img src=\"https://colab.research.google.com/assets/colab-badge.svg\" alt=\"Open In Colab\"/></a>"
      ]
    },
    {
      "cell_type": "markdown",
      "source": [
        "# 🌌 **Digital Transformation in Classroom: + Coding**\n",
        "\n",
        "+ Date: May 31, 2024\n",
        "+ Hosted by: Graduate School of Education at HUFS\n",
        "+ Online workshop\n",
        "+ Speaker: Miran Kim (Associate Professor, Dept. of English Education at GNU)"
      ],
      "metadata": {
        "id": "U_em3cKNeUH2"
      }
    },
    {
      "cell_type": "markdown",
      "source": [
        "# 🌿 **Part 3. Coding to the classroom**"
      ],
      "metadata": {
        "id": "fTkc4soygbf1"
      }
    },
    {
      "cell_type": "markdown",
      "source": [
        "## **I. Introduction**\n",
        "\n",
        "+ Understanding Digital Transformation in Education\n",
        "+ Introduction to Python Coding"
      ],
      "metadata": {
        "id": "KfzZC4ZPfj4f"
      }
    },
    {
      "cell_type": "markdown",
      "source": [
        "##📌 Setting: Install necessary Python packages"
      ],
      "metadata": {
        "id": "-DjxeL5vLmks"
      }
    },
    {
      "cell_type": "code",
      "source": [
        "#@markdown 🌱 Set-up: install, import libraries to use {pyqrcode, gtts, IPython, pandas, numpy, nltk, random}\n",
        "%%capture\n",
        "!pip install pyqrcode gtts wordcloud seaborn gradio\n",
        "!wget https://github.com/google/fonts/raw/main/ofl/nanumgothic/NanumGothic-Regular.ttf -O NanumGothic.ttf\n",
        "!pip install gspread gspread-dataframe\n",
        "\n",
        "# display, qr code\n",
        "from IPython.display import YouTubeVideo, Image, Audio, display\n",
        "!pip install gtts\n",
        "import pandas as pd\n",
        "import pyqrcode\n",
        "from pyqrcode import QRCode\n",
        "from gtts import gTTS\n",
        "from ipywidgets import widgets\n",
        "import os\n",
        "import numpy as np\n",
        "import random\n",
        "# wordcloud\n",
        "!pip install wordcloud nltk\n",
        "import nltk\n",
        "from nltk.corpus import stopwords\n",
        "\n",
        "nltk.download('stopwords')\n",
        "english_stopwords = set(stopwords.words('english'))\n",
        "\n",
        "import urllib.request"
      ],
      "metadata": {
        "cellView": "form",
        "id": "Kkr1vwGG1uC1"
      },
      "execution_count": null,
      "outputs": []
    },
    {
      "cell_type": "markdown",
      "source": [
        "## 🌀 **Activity: On-site Survey**\n",
        "\n",
        "+ [설문링크](https://forms.gle/7NYj7QEVwWCs4pbr5)"
      ],
      "metadata": {
        "id": "3pcbg8hp1-Eu"
      }
    },
    {
      "cell_type": "code",
      "source": [
        "#@markdown 📢 Instruction: (in Korean)\n",
        "def tts(text):\n",
        "  tts = gTTS(text, lang = \"ko\", slow = False)\n",
        "  tts.save(\"myaudio.mp3\")\n",
        "  return Audio(\"myaudio.mp3\")\n",
        "\n",
        "txt = \"\"\"\n",
        "안녕하세요 여러분? 시작에 앞서 아주 간단한 설문을 함께 해 보도록 하겠습니다. 설문은 간단한 4개의 문항이며 30초 정도 소요될 것입니다.\n",
        "본인 스마트폰 카메라 앱을 열어 아래 큐알코드를 읽은 후, 설문 링크를 따라가서 설문을 마쳐 주시기 바랍니다. 결과는 한 2분 후쯤? 김미란 선생님이 설명해 주실 거예요.\n",
        "\"\"\"\n",
        "\n",
        "tts(txt)\n",
        "print(\"Instruction (in Korean)\")\n",
        "display(Audio(\"myaudio.mp3\", autoplay=False))\n",
        "print(\"=\"*30)\n",
        "print(\"Instruction (in English)\")\n",
        "url = \"https://github.com/MK316/workshops/raw/main/240531HUFS/0531_survey.wav\"\n",
        "Audio(url)"
      ],
      "metadata": {
        "cellView": "form",
        "id": "QMkr8nM67R4V"
      },
      "execution_count": null,
      "outputs": []
    },
    {
      "cell_type": "code",
      "execution_count": null,
      "metadata": {
        "id": "4fJ_jLD7eO2X"
      },
      "outputs": [],
      "source": [
        "#@markdown Survey link QR code:\n",
        "s = \"https://forms.gle/3jrJYQZYtYsK5TeQA\"\n",
        "\n",
        "# Generate QR code\n",
        "url = pyqrcode.create(s)\n",
        "\n",
        "# Create and save the png file naming \"myqr.png\"\n",
        "url.svg(\"myqrcode.svg\", scale=12)\n",
        "\n",
        "from IPython.display import SVG, display\n",
        "def show_svg(file):\n",
        "    display(SVG(file))\n",
        "\n",
        "show_svg(\"myqrcode.svg\")"
      ]
    },
    {
      "cell_type": "markdown",
      "source": [
        "## 🌀 **Survey Data analysis using coding**\n",
        "\n",
        "+ Using online surveys and analyzing the results immediately can greatly benefit students in the classroom by providing:\n",
        "  + instant feedback,\n",
        "  + identifying learning gaps, and\n",
        "  + enabling tailored instruction to enhance understanding and engagement."
      ],
      "metadata": {
        "id": "9byzUlaYvlL_"
      }
    },
    {
      "cell_type": "code",
      "source": [
        "#@markdown **Data to read**\n",
        "# !pip install gspread gspread-dataframe\n",
        "\n",
        "# Authenticate and connect to Google Drive\n",
        "from google.colab import auth\n",
        "auth.authenticate_user()\n",
        "\n",
        "# Authorize and initialize the gspread client\n",
        "import gspread\n",
        "from google.auth import default\n",
        "\n",
        "creds, _ = default()\n",
        "gc = gspread.authorize(creds)\n",
        "\n",
        "# Open the Google Sheet\n",
        "spreadsheet_url = 'https://docs.google.com/spreadsheets/d/1YAm57huSjQs7VwRtWrDcMf2G_0i8tG36yNIfZJSH3Fg/edit?usp=sharing'\n",
        "sheet = gc.open_by_url(spreadsheet_url).sheet1  # Open the first sheet\n",
        "\n",
        "\n",
        "# Convert to pandas DataFrame\n",
        "import pandas as pd\n",
        "from gspread_dataframe import get_as_dataframe\n",
        "\n",
        "# Ensure the header is correctly detected\n",
        "data = sheet.get_all_values()\n",
        "df = pd.DataFrame(data)\n",
        "df.columns = df.iloc[0]  # Set the first row as the header\n",
        "df = df[1:]  # Remove the header row from the data\n",
        "\n",
        "# Remove 'Unnamed' columns\n",
        "df = df.loc[:, ~df.columns.str.contains('^Unnamed')]\n",
        "\n",
        "# Rename specific columns\n",
        "df.columns.values[2] = \"Q2\"\n",
        "df.columns.values[3] = \"Q4\"\n",
        "df.columns.values[4] = \"Q1\"\n",
        "df.columns.values[5] = \"Q3\"\n",
        "\n",
        "# Rearrange the columns\n",
        "df = df[['Q1', 'Q2', 'Q3', 'Q4'] + [col for col in df.columns if col not in ['Q1', 'Q2', 'Q3', 'Q4']]]\n",
        "\n",
        "df['Q2'] = pd.to_numeric(df['Q2'], errors='coerce')\n",
        "df = df.dropna(subset=['Q2'])\n",
        "\n",
        "\n",
        "# Remove rows with 'NaN' values\n",
        "df = df.dropna(how='any')\n",
        "df = df.drop(columns=[\"E-mail\"])\n",
        "\n",
        "# Display the cleaned DataFrame with new column names\n",
        "print(\"Number of respondence:\", len(df['Q1']))\n",
        "print(\"=\"*80)\n",
        "df"
      ],
      "metadata": {
        "cellView": "form",
        "id": "WKlQ_29bfETx"
      },
      "execution_count": null,
      "outputs": []
    },
    {
      "cell_type": "code",
      "source": [
        "#@markdown **Random pick among 'Q1'**\n",
        "\n",
        "import numpy as np\n",
        "from gtts import gTTS\n",
        "from IPython.display import Audio\n",
        "\n",
        "# Assuming df is your DataFrame and 'Q1' column contains 4-digit strings\n",
        "\n",
        "# Pick a random value from the 'Q1' column\n",
        "random_value = np.random.choice(df['Q1'])\n",
        "print(f\"Randomly selected value from Q1: {random_value}\")\n",
        "\n",
        "# Generate the text to read each digit individually\n",
        "digits_text = ' '.join(random_value)\n",
        "\n",
        "# Generate audio calling out the number\n",
        "tts = gTTS(text=f\"The selected number is... {digits_text}!\", lang='en')\n",
        "tts.save(\"selected_number.mp3\")\n",
        "\n",
        "# Play the audio\n",
        "Audio(\"selected_number.mp3\", autoplay=True)\n"
      ],
      "metadata": {
        "cellView": "form",
        "id": "_UtQuXaEwxKk"
      },
      "execution_count": null,
      "outputs": []
    },
    {
      "cell_type": "code",
      "source": [
        "#@markdown **Q2 analysis (AI digital literacy perception): Generate a boxplot**\n",
        "import seaborn as sns\n",
        "import matplotlib.pyplot as plt\n",
        "\n",
        "\n",
        "mean_value = df['Q2'].mean()\n",
        "\n",
        "print(f\"Mean of Q2: {mean_value}\")\n",
        "\n",
        "plt.figure(figsize=(10, 6))\n",
        "sns.boxplot(y=df['Q2'])\n",
        "plt.title('Boxplot of Q2. AI Digital Listeracy (self-evaluated)')\n",
        "plt.ylabel('Q2 Values')\n",
        "plt.ylim(0,6)\n",
        "plt.show()"
      ],
      "metadata": {
        "cellView": "form",
        "id": "xhUOKFsEmASx"
      },
      "execution_count": null,
      "outputs": []
    },
    {
      "cell_type": "code",
      "source": [
        "#@markdown **Q3 analysis (Python Coding familiarity)**\n",
        "\n",
        "# Define the order of the responses\n",
        "response_order = [\n",
        "    \"Never used it.\",\n",
        "    \"Heard of it but never used it.\",\n",
        "    \"Tried it a few times.\",\n",
        "    \"Use it occasionally.\",\n",
        "    \"Use it regularly.\"\n",
        "]\n",
        "\n",
        "# Clean 'Q3' column to remove any extra spaces\n",
        "df['Q3'] = df['Q3'].str.strip()\n",
        "\n",
        "# Ensure 'Q3' column contains the responses in the defined order\n",
        "df['Q3'] = pd.Categorical(df['Q3'], categories=response_order, ordered=True)\n",
        "\n",
        "# Count the occurrences of each response in 'Q3' (Python Coding)\n",
        "response_counts = df['Q3'].value_counts().reindex(response_order)\n",
        "\n",
        "# Generate a barplot with gradient colors from yellow to green\n",
        "import seaborn as sns\n",
        "import matplotlib.pyplot as plt\n",
        "import numpy as np\n",
        "\n",
        "# Create a gradient color palette\n",
        "num_colors = len(response_counts)\n",
        "colors = sns.color_palette(\"YlGn\", num_colors)\n",
        "\n",
        "plt.figure(figsize=(12, 8))\n",
        "bars = plt.bar(response_counts.index, response_counts.values, color=colors)\n",
        "\n",
        "# Add labels to each bar\n",
        "for bar in bars:\n",
        "    yval = bar.get_height()\n",
        "    plt.text(bar.get_x() + bar.get_width()/2, yval, int(yval), ha='center', va='bottom', fontsize=12)\n",
        "\n",
        "plt.title('Responses for Q3')\n",
        "plt.xlabel('Responses')\n",
        "plt.ylabel('Counts')\n",
        "plt.xticks(rotation=45)\n",
        "plt.show()\n"
      ],
      "metadata": {
        "cellView": "form",
        "id": "F1FoMytstncF"
      },
      "execution_count": null,
      "outputs": []
    },
    {
      "cell_type": "code",
      "source": [
        "#@markdown **Q4 analysis: Keywords in wordcloud**\n",
        "\n",
        "# Install required libraries\n",
        "# !pip install gspread gspread-dataframe wordcloud\n",
        "\n",
        "# Generate a word cloud\n",
        "from wordcloud import WordCloud\n",
        "import matplotlib.pyplot as plt\n",
        "\n",
        "\n",
        "# Combine words under 'Q2' column\n",
        "text = ' '.join(df['Q4'])\n",
        "\n",
        "wordcloud = WordCloud(width=800, height=400, background_color='white').generate(text)\n",
        "\n",
        "# Display the word cloud\n",
        "plt.figure(figsize=(10, 5))\n",
        "plt.imshow(wordcloud, interpolation='bilinear')\n",
        "plt.axis('off')\n",
        "plt.show()\n"
      ],
      "metadata": {
        "cellView": "form",
        "id": "35lBJgTbgBwG"
      },
      "execution_count": null,
      "outputs": []
    },
    {
      "cell_type": "markdown",
      "source": [
        "---\n",
        "# II. **Python Coding for Teachers**\n",
        "\n",
        "1. **Enhanced Interactivity:**\n",
        "\n",
        "+ Customizable Learning Tools: Coding allows educators and students to create interactive tools such as quizzes, flashcards, and language games, tailored to specific learning needs.\n",
        "+ Dynamic Content: APIs can provide access to up-to-date content, including news articles, language exercises, and multimedia resources.\n",
        "\n",
        "\n",
        "2. **Personalized Learning:**\n",
        "\n",
        "+ Adaptive Learning Platforms: Coding enables the development of adaptive learning platforms that adjust to individual students' proficiency levels, providing personalized feedback and recommendations.\n",
        "+ Data Analytics: APIs can collect and analyze data on students' performance, helping educators to identify areas where students struggle and to tailor instruction accordingly.\n",
        "\n",
        "3. **Access to Diverse Resources:**\n",
        "\n",
        "+ Language Databases: APIs can connect to extensive language databases and dictionaries, providing instant access to vocabulary, translations, and pronunciation guides.\n",
        "+ Cultural Immersion: Students can access authentic language resources such as videos, podcasts, and social media feeds from native speakers.\n",
        "\n",
        "4. **Automation of Administrative Tasks:**\n",
        "\n",
        "+ Grading and Assessment: Coding can automate the grading of language exercises and quizzes, saving educators time and providing immediate feedback to students.\n",
        "\n",
        "---\n",
        "### Samples\n",
        "\n",
        "+ Language Application: Interactive, customized, student-centered, and **multi-modal applications** are possible.\n",
        "+ Using Huggingface: It allows the application to run on an independent platform, enabling students to use the application outside of class.\n"
      ],
      "metadata": {
        "id": "IKZE5fdIhvtk"
      }
    },
    {
      "cell_type": "markdown",
      "source": [
        "### **📙 Simple Language Application [1]**"
      ],
      "metadata": {
        "id": "zi1OsB5D2Nyz"
      }
    },
    {
      "cell_type": "code",
      "source": [
        "#@markdown **Text-to-Speech (TTS) application: Korean, English (AmE), English (BrE), and French**\n",
        "\n",
        "#!pip install gtts gradio (This needs installation to work alone.)\n",
        "\n",
        "import gradio as gr\n",
        "from gtts import gTTS\n",
        "\n",
        "def text_to_speech(text, language):\n",
        "    language_map = {\n",
        "        \"🇰🇷 Korean\": \"ko\",\n",
        "        \"🇺🇸 English (AmE)\": (\"en\", \"us\"),\n",
        "        \"🇬🇧 English (BrE)\": (\"en\", \"co.uk\"),\n",
        "        \"🇫🇷 French\": \"fr\",\n",
        "        \"🇪🇸 Spanish\": (\"es\", \"es\"),\n",
        "        \"🇨🇳 Chinese\": \"zh-CN\"\n",
        "    }\n",
        "\n",
        "    if isinstance(language_map[language], tuple):\n",
        "        lang, tld = language_map[language]\n",
        "        tts = gTTS(text=text, lang=lang, tld=tld)\n",
        "    else:\n",
        "        lang = language_map[language]\n",
        "        tts = gTTS(text=text, lang=lang)\n",
        "\n",
        "    tts.save(\"output.mp3\")\n",
        "    return \"output.mp3\"\n",
        "\n",
        "# Define the Gradio interface\n",
        "iface = gr.Interface(\n",
        "    fn=text_to_speech,\n",
        "    inputs=[\n",
        "        gr.Textbox(lines=2, placeholder=\"Enter text here...\"),\n",
        "        gr.Radio([\"🇰🇷 Korean\", \"🇺🇸 English (AmE)\", \"🇬🇧 English (BrE)\", \"🇫🇷 French\", \"🇪🇸 Spanish\", \"🇨🇳 Chinese\"], label=\"Language\")\n",
        "    ],\n",
        "    outputs=gr.Audio(type=\"filepath\"),\n",
        "    title=\"Text to Speech Application (Multi-languages)\",\n",
        "    description=\"Enter text and choose a language to generate the corresponding audio.\"\n",
        ")\n",
        "\n",
        "# Launch the Gradio interface\n",
        "iface.launch(debug=True)\n"
      ],
      "metadata": {
        "cellView": "form",
        "id": "HUY4dC6O7m9c"
      },
      "execution_count": null,
      "outputs": []
    },
    {
      "cell_type": "code",
      "source": [
        "#@markdown QR code generation: paste your link\n",
        "s = input()\n",
        "\n",
        "# Generate QR code\n",
        "url = pyqrcode.create(s)\n",
        "\n",
        "# Create and save the png file naming \"myqr.png\"\n",
        "url.svg(\"myqrcode.svg\", scale=12)\n",
        "\n",
        "from IPython.display import SVG, display\n",
        "def show_svg(file):\n",
        "    display(SVG(file))\n",
        "\n",
        "show_svg(\"myqrcode.svg\")"
      ],
      "metadata": {
        "cellView": "form",
        "id": "FSYHmW4756Pt"
      },
      "execution_count": null,
      "outputs": []
    },
    {
      "cell_type": "markdown",
      "source": [
        "### **📙 Simple Language Application [2]: Language practice activity using NLP (Natural Language Processing)**\n",
        "\n",
        "+ [Sample applications online](https://mrkim21.github.io)\n"
      ],
      "metadata": {
        "id": "HhWlXJBa9PdA"
      }
    },
    {
      "cell_type": "markdown",
      "source": [
        "# Using API"
      ],
      "metadata": {
        "id": "D0FzA0Fh9Ny7"
      }
    },
    {
      "cell_type": "markdown",
      "source": [
        "# III. Practical Application and Tools\n",
        "\n",
        "+ Educational tools and platforms that support Python coding\n",
        "+ A simple Natural Language Processing (NLP) project for text analysis\n",
        "+ Interactive coding session"
      ],
      "metadata": {
        "id": "OFfQX1DIh9K7"
      }
    },
    {
      "cell_type": "markdown",
      "source": [
        "# IV. Challenges and Solutions\n",
        "\n",
        "+ Common challenges faced by language teachers in learning and teaching coding\n",
        "+ Strategies for overcoming these challenges\n",
        "+ Sharing resources and support networks for continuous learning"
      ],
      "metadata": {
        "id": "hy45bUmciWac"
      }
    },
    {
      "cell_type": "markdown",
      "source": [
        "# Q&As"
      ],
      "metadata": {
        "id": "_4Ksyvwiih-P"
      }
    },
    {
      "cell_type": "markdown",
      "source": [
        "# Suggested Resources\n",
        "\n",
        "+ Online Python tutorials and courses (e.g., Codecademy, Coursera)\n",
        "+ Python documentation and community forums (e.g., Python.org, Stack Overflow)\n",
        "+ Educational tools (e.g., Jupyter Notebooks, Google Colab)\n",
        "+ Books and articles on Python in education"
      ],
      "metadata": {
        "id": "LW4Wv2o5il88"
      }
    }
  ]
}