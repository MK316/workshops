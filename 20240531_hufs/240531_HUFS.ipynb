{
  "nbformat": 4,
  "nbformat_minor": 0,
  "metadata": {
    "colab": {
      "private_outputs": true,
      "provenance": [],
      "authorship_tag": "ABX9TyOpdeJw+o0jMqaugUDYCoe4",
      "include_colab_link": true
    },
    "kernelspec": {
      "name": "python3",
      "display_name": "Python 3"
    },
    "language_info": {
      "name": "python"
    }
  },
  "cells": [
    {
      "cell_type": "markdown",
      "metadata": {
        "id": "view-in-github",
        "colab_type": "text"
      },
      "source": [
        "<a href=\"https://colab.research.google.com/github/MK316/workshops/blob/main/20240531_hufs/240531_HUFS.ipynb\" target=\"_parent\"><img src=\"https://colab.research.google.com/assets/colab-badge.svg\" alt=\"Open In Colab\"/></a>"
      ]
    },
    {
      "cell_type": "markdown",
      "source": [
        "# 🌌 **Digital Transformation in Classroom: + Coding**\n",
        "\n",
        "+ Date: May 31, 2024\n",
        "+ Hosted by: Graduate School of Education at HUFS\n",
        "+ Online workshop\n",
        "+ Speaker: Miran Kim (Associate Professor, Dept. of English Education at GNU)"
      ],
      "metadata": {
        "id": "U_em3cKNeUH2"
      }
    },
    {
      "cell_type": "markdown",
      "source": [
        "# 🌿 **Part 3. Coding to the classroom**"
      ],
      "metadata": {
        "id": "fTkc4soygbf1"
      }
    },
    {
      "cell_type": "markdown",
      "source": [
        "## **I. Introduction**\n",
        "\n",
        "+ Understanding Digital Transformation in Education\n",
        "+ Introduction to Python Coding"
      ],
      "metadata": {
        "id": "KfzZC4ZPfj4f"
      }
    },
    {
      "cell_type": "markdown",
      "source": [
        "##📌 Setting: Install necessary Python packages"
      ],
      "metadata": {
        "id": "-DjxeL5vLmks"
      }
    },
    {
      "cell_type": "code",
      "source": [
        "#@markdown 🌱 Set-up: install, import libraries to use {pyqrcode, gtts, IPython, pandas, numpy, nltk, random}\n",
        "%%capture\n",
        "!pip install pyqrcode gtts wordcloud seaborn gradio\n",
        "!wget https://github.com/google/fonts/raw/main/ofl/nanumgothic/NanumGothic-Regular.ttf -O NanumGothic.ttf\n",
        "!pip install gspread gspread-dataframe\n",
        "!pip install SpeechRecognition\n",
        "!pip install SoundFile\n",
        "!pip install python-Levenshtein>=0.12.2\n",
        "\n",
        "# display, qr code\n",
        "from IPython.display import YouTubeVideo, Image, Audio, display\n",
        "!pip install gtts\n",
        "import pandas as pd\n",
        "import pyqrcode\n",
        "from pyqrcode import QRCode\n",
        "from gtts import gTTS\n",
        "from ipywidgets import widgets\n",
        "import os\n",
        "import numpy as np\n",
        "import random\n",
        "# wordcloud\n",
        "!pip install wordcloud nltk\n",
        "import nltk\n",
        "from nltk.corpus import stopwords\n",
        "\n",
        "nltk.download('stopwords')\n",
        "english_stopwords = set(stopwords.words('english'))\n",
        "\n",
        "import urllib.request"
      ],
      "metadata": {
        "cellView": "form",
        "id": "Kkr1vwGG1uC1"
      },
      "execution_count": null,
      "outputs": []
    },
    {
      "cell_type": "markdown",
      "source": [
        "## 🌀 **Activity (e.g., On-site Survey)**\n",
        "\n",
        "+ [설문링크](https://forms.gle/cMCvmeDBLHyfMhu48)"
      ],
      "metadata": {
        "id": "3pcbg8hp1-Eu"
      }
    },
    {
      "cell_type": "code",
      "source": [
        "#@markdown 📢 Instruction: (in Korean, English)\n",
        "def tts(text):\n",
        "  tts = gTTS(text, lang = \"ko\", slow = False)\n",
        "  tts.save(\"myaudio.mp3\")\n",
        "  return Audio(\"myaudio.mp3\")\n",
        "\n",
        "txt = \"\"\"\n",
        "안녕하세요 여러분? 시작에 앞서 아주 간단한 설문을 함께 해 보도록 하겠습니다. 설문은 간단한 4개의 문항이며 30초 정도 소요될 것입니다.\n",
        "본인 스마트폰 카메라 앱을 열어 아래 큐알코드를 읽은 후, 설문 링크를 따라가서 설문을 마쳐 주시기 바랍니다. 결과는 한 2분 후쯤? 김미란 선생님이 설명해 주실 거예요.\n",
        "\"\"\"\n",
        "\n",
        "tts(txt)\n",
        "print(\"Instruction (in Korean)\")\n",
        "display(Audio(\"myaudio.mp3\", autoplay=False))\n",
        "print(\"=\"*30)\n",
        "print(\"Instruction (in English)\")\n",
        "url = \"https://github.com/MK316/workshops/raw/main/240531HUFS/0531_survey.wav\"\n",
        "Audio(url)"
      ],
      "metadata": {
        "cellView": "form",
        "id": "QMkr8nM67R4V"
      },
      "execution_count": null,
      "outputs": []
    },
    {
      "cell_type": "code",
      "execution_count": null,
      "metadata": {
        "id": "4fJ_jLD7eO2X",
        "cellView": "form"
      },
      "outputs": [],
      "source": [
        "#@markdown Survey link QR code:\n",
        "s = \"https://forms.gle/cMCvmeDBLHyfMhu48\"\n",
        "\n",
        "# Generate QR code\n",
        "url = pyqrcode.create(s)\n",
        "\n",
        "# Create and save the png file naming \"myqr.png\"\n",
        "url.svg(\"myqrcode.svg\", scale=12)\n",
        "\n",
        "from IPython.display import SVG, display\n",
        "def show_svg(file):\n",
        "    display(SVG(file))\n",
        "\n",
        "show_svg(\"myqrcode.svg\")"
      ]
    },
    {
      "cell_type": "markdown",
      "source": [
        "## 🌀 **Survey Data analysis using coding**\n",
        "\n",
        "+ Using online surveys and analyzing the results immediately can greatly benefit students in the classroom by providing:\n",
        "  + instant feedback,\n",
        "  + identifying learning gaps, and\n",
        "  + enabling tailored instruction to enhance understanding and engagement."
      ],
      "metadata": {
        "id": "9byzUlaYvlL_"
      }
    },
    {
      "cell_type": "code",
      "source": [
        "#@markdown **Data to read**\n",
        "# !pip install gspread gspread-dataframe\n",
        "\n",
        "# Authenticate and connect to Google Drive\n",
        "from google.colab import auth\n",
        "auth.authenticate_user()\n",
        "\n",
        "# Authorize and initialize the gspread client\n",
        "import gspread\n",
        "from google.auth import default\n",
        "\n",
        "creds, _ = default()\n",
        "gc = gspread.authorize(creds)\n",
        "\n",
        "# Open the Google Sheet\n",
        "spreadsheet_url = 'https://docs.google.com/spreadsheets/d/1YAm57huSjQs7VwRtWrDcMf2G_0i8tG36yNIfZJSH3Fg/edit?usp=sharing'\n",
        "sheet = gc.open_by_url(spreadsheet_url).sheet1  # Open the first sheet\n",
        "\n",
        "\n",
        "# Convert to pandas DataFrame\n",
        "import pandas as pd\n",
        "from gspread_dataframe import get_as_dataframe\n",
        "\n",
        "# Ensure the header is correctly detected\n",
        "data = sheet.get_all_values()\n",
        "df = pd.DataFrame(data)\n",
        "df.columns = df.iloc[0]  # Set the first row as the header\n",
        "df = df[1:]  # Remove the header row from the data\n",
        "\n",
        "# Remove 'Unnamed' columns\n",
        "df = df.loc[:, ~df.columns.str.contains('^Unnamed')]\n",
        "\n",
        "# Rename specific columns\n",
        "df.columns.values[2] = \"Q2\"\n",
        "df.columns.values[3] = \"Q4\"\n",
        "df.columns.values[4] = \"Q1\"\n",
        "df.columns.values[5] = \"Q3\"\n",
        "\n",
        "# Rearrange the columns\n",
        "df = df[['Q1', 'Q2', 'Q3', 'Q4'] + [col for col in df.columns if col not in ['Q1', 'Q2', 'Q3', 'Q4']]]\n",
        "\n",
        "df['Q2'] = pd.to_numeric(df['Q2'], errors='coerce')\n",
        "df = df.dropna(subset=['Q2'])\n",
        "\n",
        "\n",
        "# Remove rows with 'NaN' values\n",
        "df = df.dropna(how='any')\n",
        "df = df.drop(columns=[\"E-mail\"])\n",
        "\n",
        "# Display the cleaned DataFrame with new column names\n",
        "print(\"Number of respondence:\", len(df['Q1']))\n",
        "print(\"=\"*80)\n",
        "df"
      ],
      "metadata": {
        "cellView": "form",
        "id": "WKlQ_29bfETx"
      },
      "execution_count": null,
      "outputs": []
    },
    {
      "cell_type": "code",
      "source": [
        "#@markdown **Q1: Random pick (e.g., Pick one participant)**\n",
        "\n",
        "import numpy as np\n",
        "from gtts import gTTS\n",
        "from IPython.display import Audio\n",
        "\n",
        "# Assuming df is your DataFrame and 'Q1' column contains 4-digit strings\n",
        "\n",
        "# Pick a random value from the 'Q1' column\n",
        "random_value = np.random.choice(df['Q1'])\n",
        "print(f\"Randomly selected value from Q1: {random_value}\")\n",
        "\n",
        "# Generate the text to read each digit individually\n",
        "digits_text = ' '.join(random_value)\n",
        "\n",
        "# Generate audio calling out the number\n",
        "tts = gTTS(text=f\"The selected number is... {digits_text}!\", lang='en')\n",
        "tts.save(\"selected_number.mp3\")\n",
        "\n",
        "# Play the audio\n",
        "Audio(\"selected_number.mp3\", autoplay=True)\n"
      ],
      "metadata": {
        "id": "_UtQuXaEwxKk"
      },
      "execution_count": null,
      "outputs": []
    },
    {
      "cell_type": "code",
      "source": [
        "#@markdown Q1: Grouping (pairs), saving the fiel ('grouping.csv')\n",
        "\n",
        "import pandas as pd\n",
        "import numpy as np\n",
        "\n",
        "\n",
        "\n",
        "# Extract names for pairing\n",
        "names = df['Q1'].tolist()\n",
        "\n",
        "# Shuffle the DataFrame\n",
        "df_shuffled = df.sample(frac=1).reset_index(drop=True)\n",
        "\n",
        "# Pair names\n",
        "pairs = []\n",
        "for i in range(0, len(names) - 1, 2):\n",
        "    pairs.append((names[i], names[i + 1]))\n",
        "\n",
        "# Check if there's an odd one out\n",
        "if len(names) % 2 != 0:\n",
        "    pairs.append((names[-1], 'teacher'))\n",
        "\n",
        "# Create new DataFrame for groups\n",
        "group_df = pd.DataFrame(pairs, columns=['Member1', 'Member2'])\n",
        "group_df.insert(0, 'Groups', ['G' + str(i+1) for i in range(len(group_df))])\n",
        "\n",
        "\n",
        "# Save to CSV\n",
        "group_df.to_csv('grouping.csv', encoding='utf-8-sig', index=False)\n",
        "\n",
        "# Display the DataFrame\n",
        "group_df\n"
      ],
      "metadata": {
        "cellView": "form",
        "id": "mOGSBYY3jy39"
      },
      "execution_count": null,
      "outputs": []
    },
    {
      "cell_type": "code",
      "source": [
        "#@markdown **Q2 analysis (AI digital literacy perception): Generate a boxplot**\n",
        "import seaborn as sns\n",
        "import matplotlib.pyplot as plt\n",
        "\n",
        "\n",
        "mean_value = df['Q2'].mean()\n",
        "\n",
        "print(f\"Mean of Q2: {mean_value}\")\n",
        "\n",
        "plt.figure(figsize=(10, 6))\n",
        "sns.boxplot(y=df['Q2'])\n",
        "plt.title('Boxplot of Q2. AI Digital Listeracy (self-evaluated)')\n",
        "plt.ylabel('Q2 Values')\n",
        "plt.ylim(0,6)\n",
        "plt.show()"
      ],
      "metadata": {
        "cellView": "form",
        "id": "xhUOKFsEmASx"
      },
      "execution_count": null,
      "outputs": []
    },
    {
      "cell_type": "code",
      "source": [
        "#@markdown **Q3 analysis (Python Coding familiarity)**\n",
        "\n",
        "# Define the order of the responses\n",
        "response_order = [\n",
        "    \"Never used it.\",\n",
        "    \"Heard of it but never used it.\",\n",
        "    \"Tried it a few times.\",\n",
        "    \"Use it occasionally.\",\n",
        "    \"Use it regularly.\"\n",
        "]\n",
        "\n",
        "# Clean 'Q3' column to remove any extra spaces\n",
        "df['Q3'] = df['Q3'].str.strip()\n",
        "\n",
        "# Ensure 'Q3' column contains the responses in the defined order\n",
        "df['Q3'] = pd.Categorical(df['Q3'], categories=response_order, ordered=True)\n",
        "\n",
        "# Count the occurrences of each response in 'Q3' (Python Coding)\n",
        "response_counts = df['Q3'].value_counts().reindex(response_order)\n",
        "\n",
        "# Generate a barplot with gradient colors from yellow to green\n",
        "import seaborn as sns\n",
        "import matplotlib.pyplot as plt\n",
        "import numpy as np\n",
        "\n",
        "# Create a gradient color palette\n",
        "num_colors = len(response_counts)\n",
        "colors = sns.color_palette(\"YlGn\", num_colors)\n",
        "\n",
        "plt.figure(figsize=(12, 8))\n",
        "bars = plt.bar(response_counts.index, response_counts.values, color=colors)\n",
        "\n",
        "# Add labels to each bar\n",
        "for bar in bars:\n",
        "    yval = bar.get_height()\n",
        "    plt.text(bar.get_x() + bar.get_width()/2, yval, int(yval), ha='center', va='bottom', fontsize=12)\n",
        "\n",
        "plt.title('Responses for Q3')\n",
        "plt.xlabel('Responses')\n",
        "plt.ylabel('Counts')\n",
        "plt.xticks(rotation=45)\n",
        "plt.show()\n"
      ],
      "metadata": {
        "cellView": "form",
        "id": "F1FoMytstncF"
      },
      "execution_count": null,
      "outputs": []
    },
    {
      "cell_type": "code",
      "source": [
        "#@markdown **Q4 analysis: Keywords in wordcloud**\n",
        "\n",
        "# Install required libraries\n",
        "# !pip install gspread gspread-dataframe wordcloud\n",
        "\n",
        "# Generate a word cloud\n",
        "from wordcloud import WordCloud\n",
        "import matplotlib.pyplot as plt\n",
        "\n",
        "\n",
        "# Combine words under 'Q2' column\n",
        "text = ' '.join(df['Q4'])\n",
        "\n",
        "wordcloud = WordCloud(width=800, height=400, background_color='white').generate(text)\n",
        "\n",
        "# Display the word cloud\n",
        "plt.figure(figsize=(10, 5))\n",
        "plt.imshow(wordcloud, interpolation='bilinear')\n",
        "plt.axis('off')\n",
        "plt.show()\n"
      ],
      "metadata": {
        "cellView": "form",
        "id": "35lBJgTbgBwG"
      },
      "execution_count": null,
      "outputs": []
    },
    {
      "cell_type": "markdown",
      "source": [
        "---\n",
        "# II. **Python Coding for Learning/Teaching**\n",
        "\n",
        "1. **Enhanced Interactivity:**\n",
        "\n",
        "+ Customizable Learning Tools: Coding allows educators and students to create interactive tools such as quizzes, flashcards, and language games, tailored to specific learning needs.\n",
        "+ Dynamic Content: APIs can provide access to up-to-date content, including news articles, language exercises, and multimedia resources.\n",
        "\n",
        "\n",
        "2. **Personalized Learning / Customized teaching:**\n",
        "\n",
        "+ Adaptive Learning Platforms: Coding enables the development of adaptive learning platforms that adjust to individual students' proficiency levels, providing personalized feedback and recommendations.\n",
        "+ Data Analytics: APIs can collect and analyze data on students' performance, helping educators to identify areas where students struggle and to tailor instruction accordingly.\n",
        "\n",
        "3. **Access to Diverse Resources:**\n",
        "\n",
        "+ Language Databases: APIs can connect to extensive language databases and dictionaries, providing instant access to vocabulary, translations, and pronunciation guides.\n",
        "+ Cultural Immersion: Students can access authentic language resources such as videos, podcasts, and social media feeds from native speakers.\n",
        "\n",
        "4. **Automation of Administrative Tasks:**\n",
        "\n",
        "+ Grading and Assessment: Coding can automate the grading of language exercises and quizzes, saving educators time and providing immediate feedback to students.\n",
        "\n",
        "---\n",
        "### Samples\n",
        "\n",
        "+ Language Application: Interactive, customized, student-centered, and **multi-modal applications** are possible.\n",
        "+ Using Huggingface: It allows the application to run on an independent platform, enabling students to use the application outside of class.\n"
      ],
      "metadata": {
        "id": "IKZE5fdIhvtk"
      }
    },
    {
      "cell_type": "markdown",
      "source": [
        "### **📙 Simple Language Application [1]**"
      ],
      "metadata": {
        "id": "zi1OsB5D2Nyz"
      }
    },
    {
      "cell_type": "code",
      "source": [
        "#@markdown **Text-to-Speech (TTS) application: Korean, English (AmE), English (BrE), and French**\n",
        "\n",
        "#!pip install gtts gradio (This needs installation to work alone.)\n",
        "\n",
        "import gradio as gr\n",
        "from gtts import gTTS\n",
        "\n",
        "def text_to_speech(text, language):\n",
        "    language_map = {\n",
        "        \"🇰🇷 Korean\": \"ko\",\n",
        "        \"🇺🇸 English (AmE)\": (\"en\", \"us\"),\n",
        "        \"🇬🇧 English (BrE)\": (\"en\", \"co.uk\"),\n",
        "        \"🇫🇷 French\": \"fr\",\n",
        "        \"🇪🇸 Spanish\": (\"es\", \"es\"),\n",
        "        \"🇨🇳 Chinese\": \"zh-CN\"\n",
        "    }\n",
        "\n",
        "    if isinstance(language_map[language], tuple):\n",
        "        lang, tld = language_map[language]\n",
        "        tts = gTTS(text=text, lang=lang, tld=tld)\n",
        "    else:\n",
        "        lang = language_map[language]\n",
        "        tts = gTTS(text=text, lang=lang)\n",
        "\n",
        "    tts.save(\"output.mp3\")\n",
        "    return \"output.mp3\"\n",
        "\n",
        "# Define the Gradio interface\n",
        "iface = gr.Interface(\n",
        "    fn=text_to_speech,\n",
        "    inputs=[\n",
        "        gr.Textbox(lines=2, placeholder=\"Enter text here...\"),\n",
        "        gr.Radio([\"🇰🇷 Korean\", \"🇺🇸 English (AmE)\", \"🇬🇧 English (BrE)\", \"🇫🇷 French\", \"🇪🇸 Spanish\", \"🇨🇳 Chinese\"], label=\"Language\")\n",
        "    ],\n",
        "    outputs=gr.Audio(type=\"filepath\"),\n",
        "    title=\"Text to Speech Application (Multi-languages)\",\n",
        "    description=\"Enter text and choose a language to generate the corresponding audio.\"\n",
        ")\n",
        "\n",
        "# Launch the Gradio interface\n",
        "iface.launch(debug=True)\n"
      ],
      "metadata": {
        "cellView": "form",
        "id": "HUY4dC6O7m9c"
      },
      "execution_count": null,
      "outputs": []
    },
    {
      "cell_type": "markdown",
      "source": [
        "### QR code generator app (coding-based): [Open](https://mrkim21.github.io/appfolder/qrcode.html)"
      ],
      "metadata": {
        "id": "vpHxWJJoWdOg"
      }
    },
    {
      "cell_type": "markdown",
      "source": [
        "### 📙 **Simple Language Application [2]: Pronunciation**\n",
        "\n",
        "+ 🌀[app link](https://mk-316-accuracyfeedback.hf.space)"
      ],
      "metadata": {
        "id": "6gpUeq3xarKl"
      }
    },
    {
      "cell_type": "code",
      "source": [
        "# !pip install python-Levenshtein>=0.12.2\n",
        "# !pip install SpeechRecognition>=3.8.1"
      ],
      "metadata": {
        "id": "WxLj7q7utp7Z"
      },
      "execution_count": null,
      "outputs": []
    },
    {
      "cell_type": "code",
      "source": [
        "#@markdown 🌀 Pronunciation Feedback Gradio APP\n",
        "#!pip install gradio speechrecognition python-Levenshtein soundfile\n",
        "\n",
        "import gradio as gr\n",
        "import speech_recognition as sr\n",
        "from Levenshtein import ratio\n",
        "import tempfile\n",
        "import numpy as np\n",
        "import soundfile as sf\n",
        "import pandas as pd\n",
        "\n",
        "# Sample dataframe with sentences\n",
        "data = {\n",
        "    \"Sentences\": [\n",
        "        \"The quick brown fox jumps over the lazy dog.\",\n",
        "        \"An apple a day keeps the doctor away.\",\n",
        "        \"To be or not to be, that is the question.\",\n",
        "        \"All human beings are born free and equal in dignity and rights.\",\n",
        "        \"She sells sea shells by the sea shore.\",\n",
        "        \"How much wood would a woodchuck chuck if a woodchuck could chuck wood?\",\n",
        "        \"A stitch in time saves nine.\",\n",
        "        \"Good things come to those who wait.\",\n",
        "        \"Time flies like an arrow; fruit flies like a banana.\",\n",
        "        \"You can't judge a book by its cover.\"\n",
        "    ]\n",
        "}\n",
        "df = pd.DataFrame(data)\n",
        "\n",
        "def transcribe_audio(file_info):\n",
        "    r = sr.Recognizer()\n",
        "    with tempfile.NamedTemporaryFile(delete=True, suffix=\".wav\") as tmpfile:\n",
        "        sf.write(file=tmpfile.name, data=file_info[1], samplerate=44100, format='WAV')\n",
        "        tmpfile.seek(0)\n",
        "        with sr.AudioFile(tmpfile.name) as source:\n",
        "            audio_data = r.record(source)\n",
        "    try:\n",
        "        text = r.recognize_google(audio_data)\n",
        "        return text\n",
        "    except sr.UnknownValueError:\n",
        "        return \"Could not understand audio\"\n",
        "    except sr.RequestError as e:\n",
        "        return f\"Could not request results; {e}\"\n",
        "\n",
        "def pronunciation_correction(selected_sentence, file_info):\n",
        "    expected_text = selected_sentence\n",
        "    user_spoken_text = transcribe_audio(file_info)\n",
        "    similarity = ratio(expected_text.lower(), user_spoken_text.lower())\n",
        "    description = f\"{similarity:.2f}\"  # Formats the float to 2 decimal places\n",
        "\n",
        "    if similarity >= 0.9:\n",
        "        feedback = \"Excellent pronunciation!\"\n",
        "    elif similarity >= 0.7:\n",
        "        feedback = \"Good pronunciation!\"\n",
        "    elif similarity >= 0.5:\n",
        "        feedback = \"Needs improvement.\"\n",
        "    else:\n",
        "        feedback = \"Poor pronunciation, try to focus more on clarity.\"\n",
        "\n",
        "    return feedback, description\n",
        "\n",
        "\n",
        "iface = gr.Interface(\n",
        "    fn=pronunciation_correction,\n",
        "    inputs=[\n",
        "        gr.Dropdown(choices=df['Sentences'].tolist(), label=\"Select a Sentence\"),\n",
        "        gr.Audio(label=\"Upload Audio File\", type=\"numpy\")\n",
        "    ],\n",
        "    outputs=[\n",
        "        gr.Textbox(label=\"Pronunciation Feedback\"),  # Custom label for the text output\n",
        "        gr.Number(label=\"Pronunciation Accuracy Score: 0 (No Match) ~ 1 (Perfect)\")  # Custom label for the numerical output\n",
        "    ],\n",
        "    title=\"🌀 Pronunciation Feedback Tool\"\n",
        ")\n",
        "\n",
        "\n",
        "iface.launch(debug=True)\n"
      ],
      "metadata": {
        "cellView": "form",
        "id": "z3rZFX5Ia6QX"
      },
      "execution_count": null,
      "outputs": []
    },
    {
      "cell_type": "markdown",
      "source": [
        "### **📙 Various resources: Multi-modality**\n",
        "\n",
        "Text, Audio, Image, and Video can be processed in coding platform"
      ],
      "metadata": {
        "id": "HhWlXJBa9PdA"
      }
    },
    {
      "cell_type": "markdown",
      "source": [
        "### Display [1] texts & [2] audio"
      ],
      "metadata": {
        "id": "TKlb6gdqpQd_"
      }
    },
    {
      "cell_type": "markdown",
      "source": [
        "+ text sample: (to copy and paste)\n",
        "\n",
        "Python is a popular programming language known for its clear and readable syntax. It’s designed to be easy to understand and fun to use. The simplicity of Python makes it a great choice for beginners, yet it's powerful enough for experts to build complex applications. Python uses plain English keywords, which makes the code resemble everyday language, thereby reducing the learning curve.\n",
        "\n",
        "One of the standout features of Python is its versatility. It can be used for a wide range of tasks, from web development and data analysis to artificial intelligence and scientific computing. This is supported by a vast ecosystem of libraries—pre-written codes that developers can use to add specific functionalities without having to write from scratch.\n",
        "\n",
        "Python encourages writing clean and maintainable code, thanks to its use of indentation. This means that blocks of code are defined by their indentation level, helping programmers to see the organization of the code at a glance. This not only aids in reading and understanding one’s own code but also in sharing and collaborating with others. Overall, Python’s combination of simplicity, readability, and broad utility makes it a favorite among programmers across disciplines."
      ],
      "metadata": {
        "id": "pDXbxjoyp4ck"
      }
    },
    {
      "cell_type": "code",
      "source": [
        "#@markdown 🌀 Split sentences Gradio APP: Paragraph to sentences (text & audio)\n",
        "import gradio as gr\n",
        "from gtts import gTTS\n",
        "from nltk import tokenize\n",
        "import os\n",
        "\n",
        "# Import necessary nltk libraries\n",
        "import nltk\n",
        "nltk.download('punkt')\n",
        "\n",
        "# Global variable to store sentences and the entire text\n",
        "sentences = []\n",
        "full_text = \"\"\n",
        "\n",
        "# Function to process text and generate sentence options\n",
        "def process_text(mytext):\n",
        "    global sentences, full_text\n",
        "    full_text = mytext\n",
        "    sentences = tokenize.sent_tokenize(mytext)\n",
        "    choices = [\"Play the whole text\"] + [f\"{i + 1}. {s}\" for i, s in enumerate(sentences)]\n",
        "    return choices\n",
        "\n",
        "# Function to generate audio for the selected item\n",
        "def generate_audio(selected_item):\n",
        "    global full_text\n",
        "\n",
        "    if not selected_item:\n",
        "        return None\n",
        "\n",
        "    if selected_item == \"Play the whole text\":\n",
        "        tts = gTTS(text=full_text, lang='en')\n",
        "        audio_path = 'full_text.mp3'\n",
        "        tts.save(audio_path)\n",
        "        return audio_path\n",
        "\n",
        "    index = int(selected_item.split('.')[0]) - 1  # Adjust for 0-based index\n",
        "\n",
        "    if 0 <= index < len(sentences):\n",
        "        sentence = sentences[index]\n",
        "        tts = gTTS(text=sentence, lang='en')\n",
        "        audio_path = f'sentence_{index + 1}.mp3'\n",
        "        tts.save(audio_path)\n",
        "        return audio_path\n",
        "    else:\n",
        "        return None\n",
        "\n",
        "# Function to update dropdown choices based on text input\n",
        "def update_dropdown(mytext):\n",
        "    choices = process_text(mytext)\n",
        "    return gr.update(choices=choices)\n",
        "\n",
        "# Create a Gradio Blocks app\n",
        "with gr.Blocks() as app:\n",
        "    with gr.Row():\n",
        "        textbox = gr.Textbox(label=\"Enter your text here\")\n",
        "    with gr.Row():\n",
        "        submit_button = gr.Button(\"Submit\")\n",
        "    with gr.Row():\n",
        "        dropdown = gr.Dropdown(choices=[], label=\"Select Sentence\")\n",
        "    with gr.Row():\n",
        "        audio_output = gr.Audio(label=\"Audio of Selected Sentence\")\n",
        "\n",
        "    submit_button.click(fn=update_dropdown, inputs=textbox, outputs=dropdown)\n",
        "    dropdown.change(fn=generate_audio, inputs=dropdown, outputs=audio_output)\n",
        "\n",
        "app.launch(share=True)\n"
      ],
      "metadata": {
        "cellView": "form",
        "id": "XJvFTcdppoZU"
      },
      "execution_count": null,
      "outputs": []
    },
    {
      "cell_type": "markdown",
      "source": [
        "### [3] Display images"
      ],
      "metadata": {
        "id": "-hPu9yudoyec"
      }
    },
    {
      "cell_type": "code",
      "source": [
        "#@markdown Slides (1~13)\n",
        "from IPython.display import display\n",
        "import ipywidgets as widgets\n",
        "import requests\n",
        "\n",
        "def on_button_click(button):\n",
        "    sn = int(button.description) - 1\n",
        "    image.value = requests.get(urls[sn]).content\n",
        "\n",
        "urls = [\"https://github.com/MK316/workshops/raw/main/20240531_hufs/data/png1.png\",\n",
        "        \"https://github.com/MK316/workshops/raw/main/20240531_hufs/data/png2.png\",\n",
        "        \"https://github.com/MK316/workshops/raw/main/20240531_hufs/data/png3.png\",\n",
        "        \"https://github.com/MK316/workshops/raw/main/20240531_hufs/data/png4.png\",\n",
        "        \"https://github.com/MK316/workshops/raw/main/20240531_hufs/data/png5.png\",\n",
        "        \"https://github.com/MK316/workshops/raw/main/20240531_hufs/data/png6.png\"\n",
        "]\n",
        "\n",
        "button_layout = widgets.Layout(width='50px', height='30px')\n",
        "\n",
        "buttons = [widgets.Button(description=str(i), layout=button_layout) for i in range(1, 7)]\n",
        "for button in buttons:\n",
        "    button.on_click(on_button_click)\n",
        "\n",
        "image = widgets.Image(value=requests.get(urls[0]).content, width=\"1024\", height=\"860\")\n",
        "\n",
        "display(widgets.HBox([image, widgets.VBox(buttons)]))"
      ],
      "metadata": {
        "cellView": "form",
        "id": "2lAWjHJRo7VZ"
      },
      "execution_count": null,
      "outputs": []
    },
    {
      "cell_type": "markdown",
      "source": [
        "### [4] Display videos\n",
        "\n",
        "+ SUNO AI [sample: DL song](https://suno.com/song/82cf8646-20c0-413b-b394-5e8d41b04437)"
      ],
      "metadata": {
        "id": "QzaDGTI6o7wm"
      }
    },
    {
      "cell_type": "code",
      "source": [
        "#@markdown 🎬 [lecture trailer (2m)](https://youtu.be/HND7sHPJ_2Q) Prepared by Miran Kim (Powered by AI tools; 2023.5.12)\n",
        "from IPython.display import YouTubeVideo\n",
        "\n",
        "videos = \"1. Trailor (1m)\" #@param = [\"1. Trailor (1m)\",\"2. Story video\",\"3. AI-generated song\"]\n",
        "\n",
        "v = videos.split(\".\")[0]\n",
        "\n",
        "video = int(v)-1\n",
        "\n",
        "links = [\"qGxhr0e891Y\" ,\"tGYsqxaLDlQ\",\"29hHd9nD0QI\"]\n",
        "vid = links[video]\n",
        "video = YouTubeVideo(vid, width = 1024, height = 860)\n",
        "display(video)"
      ],
      "metadata": {
        "cellView": "form",
        "id": "0vHaIAzPsHTT"
      },
      "execution_count": null,
      "outputs": []
    },
    {
      "cell_type": "markdown",
      "source": [
        "# III. Building stand-alone tools: Go to 📕 [My Application Hub](https://mrkim21.github.io)"
      ],
      "metadata": {
        "id": "OFfQX1DIh9K7"
      }
    },
    {
      "cell_type": "markdown",
      "source": [
        "---\n",
        "# 🌱 **Q&As**"
      ],
      "metadata": {
        "id": "_4Ksyvwiih-P"
      }
    },
    {
      "cell_type": "markdown",
      "source": [
        "# IV. Challenges and Solutions\n",
        "\n",
        "+ Common challenges faced by language teachers in learning and teaching coding\n",
        "+ Strategies for overcoming these challenges\n",
        "+ Sharing resources and support networks for continuous learning"
      ],
      "metadata": {
        "id": "hy45bUmciWac"
      }
    }
  ]
}